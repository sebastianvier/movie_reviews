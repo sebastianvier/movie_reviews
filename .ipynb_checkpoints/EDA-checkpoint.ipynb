{
 "cells": [
  {
   "cell_type": "code",
   "execution_count": 2,
   "id": "e7cd9b02",
   "metadata": {},
   "outputs": [],
   "source": [
    "## Python in build modules:\n",
    "import os\n",
    "import re\n",
    "\n",
    "## EDA libraries\n",
    "import numpy as np\n",
    "import pandas as pd\n",
    "import matplotlib.pyplot as plt\n",
    "%matplotlib inline\n",
    "import seaborn as sns\n",
    "\n",
    "## Metrics (sklearn)\n",
    "from sklearn.metrics import confusion_matrix, classification_report\n",
    "from sklearn.metrics import recall_score, precision_score, f1_score, accuracy_score\n",
    "\n",
    "## Models (sklearn)\n",
    "from sklearn.feature_extraction.text import CountVectorizer\n",
    "from sklearn.naive_bayes import MultinomialNB\n",
    "from sklearn.model_selection import train_test_split"
   ]
  },
  {
   "cell_type": "code",
   "execution_count": 3,
   "id": "3fd00805",
   "metadata": {},
   "outputs": [
    {
     "name": "stdout",
     "output_type": "stream",
     "text": [
      "25000\n"
     ]
    }
   ],
   "source": [
    "path = 'data/train/'\n",
    "\n",
    "count = 0\n",
    "labels = []\n",
    "contents = []\n",
    "\n",
    "for label in ['neg','pos']:\n",
    "    filenames = os.listdir(path + label)\n",
    "    for filename in filenames:\n",
    "        count += 1\n",
    "        with open(os.path.join(path, label, filename), 'r') as f:\n",
    "            labels.append(1 if label == 'pos' else 0)\n",
    "            contents.append(f.read())\n",
    "print(count)\n",
    "            \n",
    "data = pd.DataFrame({\n",
    "    'contents' : contents,\n",
    "    'labels': labels,\n",
    "\n",
    "})\n",
    "\n",
    "data = data.sample(frac=1, random_state=42).reset_index(drop=True)"
   ]
  },
  {
   "cell_type": "markdown",
   "id": "bdecdb1c",
   "metadata": {},
   "source": [
    "#### Just to be clear negative is 0 and positive is 1"
   ]
  },
  {
   "cell_type": "code",
   "execution_count": 4,
   "id": "1935c7b6",
   "metadata": {},
   "outputs": [
    {
     "data": {
      "text/plain": [
       "0    12500\n",
       "1    12500\n",
       "Name: labels, dtype: int64"
      ]
     },
     "execution_count": 4,
     "metadata": {},
     "output_type": "execute_result"
    }
   ],
   "source": [
    "data.labels.value_counts()"
   ]
  },
  {
   "cell_type": "markdown",
   "id": "3ab00242",
   "metadata": {},
   "source": [
    "Ok, the data is **completely balanced**."
   ]
  },
  {
   "cell_type": "markdown",
   "id": "298663a9",
   "metadata": {},
   "source": [
    " ###### At this moment we are going to see 5 examples of each column"
   ]
  },
  {
   "cell_type": "code",
   "execution_count": 5,
   "id": "65b3dd8b",
   "metadata": {},
   "outputs": [
    {
     "name": "stdout",
     "output_type": "stream",
     "text": [
      "negative\n",
      "\n",
      "\n",
      "...is the only way to describe this movie about subjects that should be surefire: scandal, sex, celebrity, power. Kirsten Dunst grins her way through her role as silent movie star Marion Davies like she thinks she's in \"Legally Blonde.\" The guy who plays William Randolph Hearst overacts to the point where you want to reach into the screen and slap him. Eddie Izzard is pretty good, except that he's playing Charlie Chaplin, and is about, oh, 125 lbs too heavy for the part? Hard to believe this hamfisted, uneven wreck was directed by Peter Bogdanovich, but then again, he hasn't made a watchable movie in, what? 30 years? Sometimes, there's just no coming back.\n",
      "\n",
      "\n",
      "This foolish, implausible tale is redeemed only by the opening scene in which a hard-boiled police detective delivers some nearly-audible lines confirming our greatest fears: He is dead. Perhaps the film would have been saved had the director forgone the dazzling star power of A. Martinez in favor of this sadly-anonymous actor who filled the screen for a brief moment. That a no-name hack-tor off the street could salvage such a dishwater film is no less likely than a villain committing murder by dropping stones into a quarry for an unsuspecting diver. His moment is brief; his promise is immense. Perhaps we will be treated to more screen time by this obscure thespian if there is ever a sequel to this ill-advised film.\n",
      "\n",
      "\n",
      "LOL! Not a bad way to start it. I thought this was original, but then I discovered it was a clone of the 1976 remake of KING KONG. I never saw KING KONG until I was 15. I saw this film when I was 9. The film's funky disco music will get stuck in your head! Not to mention the film's theme song by the Yetians. This is the worst creature effects I've ever seen. At the same time this film remains a holy grail of B-movies. Memorable quotes: \"Take a tranquilizer and go to bed.\" \"Put the Yeti in your tank and you have Yeti power.\" I remember seeing this film on MOVIE MACRABE hosted by Elvira. There is one scene where it was like KING KONG in reverse! In KING KONG he grabs the girl and climbs up the building, but in this film he climbs down the building and grabs the girl (who was falling)! Also around that year was another KONG clone MIGHTY PEKING MAN (1977) which came from Hong Kong. There is a lot of traveling matte scenes and motorized body parts. This film will leave you laughing. It is like I said, just another KING KONG clone. Rated PG for violence, language, thematic elements, and some scary scenes.\n",
      "\n",
      "\n",
      "One of the worst movies I ever saw. My only thought was: \"how can I get my money back from Hollywood Video\". This is no way worth four dollars, or any dollars. I think it was an attempt to rip off The Mexican, or Vin Diesel's movies, but it failed miserably to do this.<br /><br />The acting was terrible, I felt sorry for the actors that they couldn't find something better to do with their time. The story was ridiculous. We were calling out the lines ahead of the actors, it was so predictable. The Mexican accent of the leading lady was insultingly exaggerated, worse than a cartoon. <br /><br />Skip it.\n",
      "\n",
      "\n",
      "Following a car accident, a mad scientist(Jason Evers) keeps the head of his fiancee(Virgina Leith)alive. He then goes on the prowl looking for the perfect body to make her whole again. Pretty lame all the way around, nothing redeeming here. Also in the cast are: Leslie Daniels, Bonnie Sharie and Bruce Brighton. Someone should have helped put this one out of its misery. Let it die.\n",
      "\n",
      "\n",
      "positive\n",
      "\n",
      "\n",
      "Every time you think you have a handle on Deathtrap, another plot twist comes along. Best to just sit back and enjoy the ride on this one. Most noted for its on screen kiss between Michael Caine and Christopher Reeve (which was unfortunately cut from the televised version I saw), this movie has a great deal more to recommend it.<br /><br />Sidney Bruhl (Michael Caine) is a very unhappy man. Once a successful playwright, his last several plays on Broadway have flopped. And while his wife Myra (Dyan Cannon) is nothing but supportive, in both the monetary and emotional sense, this does little to make Sidney feel any better. To add insult to injury, young playwright, Clifford Anderson (Christopher Reeve), has just sent Sidney a play to look at. It's Anderson's first, and Sidney can see that the young man is a gifted writer. He jokes to his wife that he should invite Anderson over, kill him, and submit the play as his own. She laughs with him at first, but when Sidney actually invites Anderson over for dinner, she worries that he may really be putting his scheme into action. And her fears just may be justified...<br /><br />It's a brilliant script. There are twists and turns all through the plot, and they come faster and more furious as you get closer to the end. It's the kind of film that has you on the edge of your seat from the beginning, and keeps you there the entire time. An absolute masterpiece of suspense and mystery.<br /><br />The acting is excellent. Caine gives his usual excellent performance, and he does exhibit a knack for playing cultured, refined, and intellectual men. Reeve also gives an excellent rendering of a man who isn't nearly as wide eyed or innocent as he seems. Cannon's franticness works well for Myra. And Irene Worth gives a nice performance as a nosy neighbor who is also a psychic.<br /><br />This is a film with an ending you'd never expect, and repeated watchings help to pick up on things missed in earlier viewings. An unsung classic that is unfortunately only remembered for a scene which ruffled some sensibilities at the time - and that is a real shame.\n",
      "\n",
      "\n",
      "A new side to the story of Victoria and Albert is brought to life by director Jean-Marc Valle. Most people's cursory thoughts of Queen Victoria is that of woman who reigned for several decades and lived her life in mourning. Emily Blunt is more than capable in the title role as she gives audiences a different perspective. She portrays Victoria in her youth, ascension to the throne, and early years. Blunt's Victoria both fresh and restrained throughout the film. Her strongest scenes are with Albert (Rupert Friend) and Lord Melbourne (Paul Bettany). All the actors acquit themselves well including Miranda Richardson in what could of been a throw-away role.<br /><br />Though this is not a story of dramatic arcs and histrionic \"acting\" moments, the story is still interesting enough to make it worth viewing. There are a few historical liberties that has been taken by the screen writing, the film tries to stay true to the relationship between Victoria and Albert and of the social and royal structure of the time period. The set design and costumes are outstanding.<br /><br />This film will be most appreciated by those drawn to history, period dramas, and of Blunt and the other actors. Heartily recommend.<br /><br />Grade: A\n",
      "\n",
      "\n",
      "As is nearly always the case, when Britain comes up with an entertaining and/or successful sit-com or quiz show, the Yanks will come along and poach the format and produce their own, grossly inferior, version. Man About The House is, of course, no exception to that rule. The Yanks' version ( Three's Company ) was unwatchable, braindead pap that seem to run forever. A prime example of quantity over ( non-existent ) quality. The original, on the other hand, is a fondly-remembered gem that had the savvy ( like Fawlty Towers ) to pull the plug at precisely the right time ( unlike the 637 episodes of 'hilarity' that Three's Company came up with ). Jo was cute, there was brilliant chemistry between the Ropers, Richard O'Sullivan made it all look so easy, the scripts, whilst not exactly Oscar Wilde-standard, were consistently funny and Chrissy was THE most drop-dead gorgeous woman who has walked the face of this planet since The Dead Sea was merely feeling unwell. 'Nuff said.\n",
      "\n",
      "\n",
      "I somehow missed this movie when it came out and have discovered it as late as last week thanks to a friend's recommendation. I can honestly say that I cannot remember another intimate dramatic film, which does so many things so well. The writing is crisp, realistic, nuanced, and even restrained. The cinematography and editing are understated but inspired, enabling the visual storytelling to dominate through marvelous close-ups and framing of images, capturing loneliness and alienation in most memorable ways. The acting is also wonderful, with all of the characters becoming painfully real and vulnerable in the most compelling ways that a film can offer. They reveal their innermost weaknesses with unprotected, raw vulnerability. A real triumph for Roger Michell and Hanif Kureishi, and the rest of the team. A must see for serious film lovers.\n",
      "\n",
      "\n",
      "Saw this film yesterday for the first time and thoroughly enjoyed it. I'm a student of screen writing and I loved the way the minor characters intervened just when something pivotal/climatic happened in a scene. <br /><br />I thought the dialogue was very sharp and the premise of story is rather shocking - at one particular point Barbara Stanwyck is openly flirting with her daughter's boyfriend; AND rekindling some passion in her husband whom she hasn't seen in ten years; AND with the gunshot signal 'two shots and then one' she hooks up with her old shag mate Dutch (the reason she left town in the first place!) ALL AT THE SAME TIME! The moral majority must have been totally incensed when they saw this flick back in the 50's.<br /><br />Love the costumes and cinematography and the straight from the hip dialogue - just to watch Barbara Stanwyck and Co doing the 'Bunny Hug' is good enough reason to rent this film on DVD.<br /><br />One of the best films from that period I've seen in a long time.\n",
      "\n",
      "\n"
     ]
    }
   ],
   "source": [
    "for label in data.labels.unique():\n",
    "    print(\"negative\" if label ==  0 else \"positive\")\n",
    "    print(\"\\n\")\n",
    "    for content in data.contents[data.labels == label].sample(5):\n",
    "        print(content)\n",
    "        print(\"\\n\")"
   ]
  },
  {
   "cell_type": "code",
   "execution_count": 6,
   "id": "829a74da",
   "metadata": {},
   "outputs": [],
   "source": [
    "def filter(x):\n",
    "    return (\"Great\" in x) or (\"great\" in x)"
   ]
  },
  {
   "cell_type": "code",
   "execution_count": 7,
   "id": "ecfb0aed",
   "metadata": {},
   "outputs": [],
   "source": [
    "using_great = data[data.contents.apply(filter)].labels.value_counts()"
   ]
  },
  {
   "cell_type": "code",
   "execution_count": 8,
   "id": "d88596c1",
   "metadata": {},
   "outputs": [
    {
     "data": {
      "text/plain": [
       "25000"
      ]
     },
     "execution_count": 8,
     "metadata": {},
     "output_type": "execute_result"
    }
   ],
   "source": [
    "len(data)"
   ]
  },
  {
   "cell_type": "code",
   "execution_count": 9,
   "id": "ecac37b9",
   "metadata": {},
   "outputs": [
    {
     "data": {
      "text/plain": [
       "12500.0"
      ]
     },
     "execution_count": 9,
     "metadata": {},
     "output_type": "execute_result"
    }
   ],
   "source": [
    "len(data)/2"
   ]
  },
  {
   "cell_type": "code",
   "execution_count": 10,
   "id": "528aa3f2",
   "metadata": {},
   "outputs": [
    {
     "data": {
      "text/plain": [
       "4584"
      ]
     },
     "execution_count": 10,
     "metadata": {},
     "output_type": "execute_result"
    }
   ],
   "source": [
    "using_great[1]"
   ]
  },
  {
   "cell_type": "code",
   "execution_count": 11,
   "id": "cb1536ba",
   "metadata": {},
   "outputs": [
    {
     "name": "stdout",
     "output_type": "stream",
     "text": [
      "0.3668 0.18376\n"
     ]
    }
   ],
   "source": [
    "p1 = 4585 / 12500\n",
    "p2 = 2297 / 12500\n",
    "print(p1, p2)"
   ]
  },
  {
   "cell_type": "code",
   "execution_count": 12,
   "id": "6632c66e",
   "metadata": {},
   "outputs": [
    {
     "name": "stdout",
     "output_type": "stream",
     "text": [
      "\n",
      "\n"
     ]
    }
   ],
   "source": [
    "print(\"\\n\")"
   ]
  },
  {
   "cell_type": "markdown",
   "id": "d3e0e122",
   "metadata": {},
   "source": [
    "We can see that just looking for the word \"great we can find\" 36% of all the data with the positive reviews. How ever this comes at the expense of finding also getting 18% of numbers that are negative. We can at basic level see that some obvious words can have an impact; but it is not that simble."
   ]
  },
  {
   "cell_type": "code",
   "execution_count": 13,
   "id": "22d645c8",
   "metadata": {},
   "outputs": [],
   "source": [
    "def print_report(y_true, prediction):\n",
    "    print('Confusion Matrix')\n",
    "    print(confusion_matrix(y_true, prediction))\n",
    "    print(\"\\n\")\n",
    "    print('Classification Report')\n",
    "    print(classification_report(y_true, prediction))\n",
    "    print(\"\\n\")\n",
    "    print(\"Other Metrics\")\n",
    "    print(f'Pression Score: {precision_score(y_true, prediction)}')\n",
    "    print(f'Accuracy Score: {accuracy_score(y_true, prediction)}')\n",
    "    print(f'Recall Score: {recall_score(y_true, prediction)}')\n",
    "    print(f'f1 Score {f1_score(y_true, prediction)}')"
   ]
  },
  {
   "cell_type": "code",
   "execution_count": 14,
   "id": "99e48b90",
   "metadata": {},
   "outputs": [],
   "source": [
    "X = data.contents\n",
    "y = data.labels"
   ]
  },
  {
   "cell_type": "code",
   "execution_count": 15,
   "id": "3e1b1a77",
   "metadata": {},
   "outputs": [
    {
     "name": "stdout",
     "output_type": "stream",
     "text": [
      "(16750,)\n",
      "(8250,)\n"
     ]
    }
   ],
   "source": [
    "X_train, X_test, y_train, y_test = train_test_split(X, y, test_size=0.33, random_state=42)\n",
    "print(X_train.shape)\n",
    "print(X_test.shape)"
   ]
  },
  {
   "cell_type": "markdown",
   "id": "756a880f",
   "metadata": {},
   "source": [
    "#### Model number 1"
   ]
  },
  {
   "cell_type": "code",
   "execution_count": 18,
   "id": "27134e4e",
   "metadata": {
    "scrolled": true
   },
   "outputs": [],
   "source": [
    "count_vectorizer = CountVectorizer(stop_words='english', ngram_range=(1,1))\n",
    "X_train_vectorized = count_vectorizer.fit_transform(X_train)\n",
    "X_test_vectorized  = count_vectorizer.transform(X_test)"
   ]
  },
  {
   "cell_type": "markdown",
   "id": "f3ba790f",
   "metadata": {},
   "source": [
    "For some reason if I add the amount of ngram_range to for example 1,3 then I have a problem; I am going to test different stuff afterwards. "
   ]
  },
  {
   "cell_type": "code",
   "execution_count": 19,
   "id": "07155c94",
   "metadata": {},
   "outputs": [
    {
     "name": "stdout",
     "output_type": "stream",
     "text": [
      "Multinomial Naive Bayes\n",
      "Confusion Matrix\n",
      "[[3612  525]\n",
      " [ 674 3439]]\n",
      "\n",
      "\n",
      "Classification Report\n",
      "              precision    recall  f1-score   support\n",
      "\n",
      "           0       0.84      0.87      0.86      4137\n",
      "           1       0.87      0.84      0.85      4113\n",
      "\n",
      "    accuracy                           0.85      8250\n",
      "   macro avg       0.86      0.85      0.85      8250\n",
      "weighted avg       0.86      0.85      0.85      8250\n",
      "\n",
      "\n",
      "\n",
      "Other Metrics\n",
      "Pression Score: 0.8675580221997982\n",
      "Accuracy Score: 0.8546666666666667\n",
      "Recall Score: 0.836129345976173\n",
      "f1 Score 0.8515537947257644\n",
      "_________________________________________________\n"
     ]
    }
   ],
   "source": [
    "mnb = MultinomialNB()\n",
    "\n",
    "def check_model(clf, X_test, y_test):\n",
    "    prediction = clf.predict(X_test)\n",
    "    print_report(y_test, prediction)\n",
    "\n",
    "for clf, clf_name in [(mnb, 'Multinomial Naive Bayes')]:\n",
    "    print(clf_name)\n",
    "    clf.fit(X_train_vectorized, y_train)\n",
    "    check_model(clf, X_test_vectorized, y_test)\n",
    "    print(\"_________________________________________________\")"
   ]
  },
  {
   "cell_type": "markdown",
   "id": "0fc6e38d",
   "metadata": {},
   "source": [
    "#### Model number 2"
   ]
  },
  {
   "cell_type": "code",
   "execution_count": 20,
   "id": "f4e570d3",
   "metadata": {},
   "outputs": [],
   "source": [
    "count_vectorizer = CountVectorizer(stop_words='english', ngram_range=(1,3))\n",
    "X_train_vectorized = count_vectorizer.fit_transform(X_train)\n",
    "X_test_vectorized  = count_vectorizer.transform(X_test)"
   ]
  },
  {
   "cell_type": "code",
   "execution_count": 21,
   "id": "e5f2e886",
   "metadata": {},
   "outputs": [
    {
     "name": "stdout",
     "output_type": "stream",
     "text": [
      "Multinomial Naive Bayes\n",
      "Confusion Matrix\n",
      "[[3663  474]\n",
      " [ 545 3568]]\n",
      "\n",
      "\n",
      "Classification Report\n",
      "              precision    recall  f1-score   support\n",
      "\n",
      "           0       0.87      0.89      0.88      4137\n",
      "           1       0.88      0.87      0.88      4113\n",
      "\n",
      "    accuracy                           0.88      8250\n",
      "   macro avg       0.88      0.88      0.88      8250\n",
      "weighted avg       0.88      0.88      0.88      8250\n",
      "\n",
      "\n",
      "\n",
      "Other Metrics\n",
      "Pression Score: 0.8827313211281543\n",
      "Accuracy Score: 0.8764848484848485\n",
      "Recall Score: 0.8674933138828106\n",
      "f1 Score 0.8750459840588596\n",
      "_________________________________________________\n"
     ]
    }
   ],
   "source": [
    "mnb = MultinomialNB()\n",
    "\n",
    "def check_model(clf, X_test, y_test):\n",
    "    prediction = clf.predict(X_test)\n",
    "    print_report(y_test, prediction)\n",
    "\n",
    "for clf, clf_name in [(mnb, 'Multinomial Naive Bayes')]:\n",
    "    print(clf_name)\n",
    "    clf.fit(X_train_vectorized, y_train)\n",
    "    check_model(clf, X_test_vectorized, y_test)\n",
    "    print(\"_________________________________________________\")"
   ]
  },
  {
   "cell_type": "code",
   "execution_count": null,
   "id": "817b6838",
   "metadata": {},
   "outputs": [],
   "source": []
  }
 ],
 "metadata": {
  "kernelspec": {
   "display_name": "Python 3",
   "language": "python",
   "name": "python3"
  },
  "language_info": {
   "codemirror_mode": {
    "name": "ipython",
    "version": 3
   },
   "file_extension": ".py",
   "mimetype": "text/x-python",
   "name": "python",
   "nbconvert_exporter": "python",
   "pygments_lexer": "ipython3",
   "version": "3.8.8"
  }
 },
 "nbformat": 4,
 "nbformat_minor": 5
}
