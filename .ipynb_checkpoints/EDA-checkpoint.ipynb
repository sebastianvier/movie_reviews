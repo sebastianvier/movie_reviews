{
 "cells": [
  {
   "cell_type": "code",
   "execution_count": 1,
   "id": "e7cd9b02",
   "metadata": {},
   "outputs": [],
   "source": [
    "## Python in build modules:\n",
    "import os\n",
    "import re\n",
    "\n",
    "## EDA libraries\n",
    "import numpy as np\n",
    "import pandas as pd\n",
    "import matplotlib.pyplot as plt\n",
    "%matplotlib inline\n",
    "import seaborn as sns\n",
    "\n",
    "## Metrics (sklearn)\n",
    "from sklearn.metrics import confusion_matrix, classification_report\n",
    "from sklearn.metrics import recall_score, precision_score, f1_score, accuracy_score\n",
    "\n",
    "## Models (sklearn)\n",
    "from sklearn.feature_extraction.text import CountVectorizer\n",
    "from sklearn.naive_bayes import MultinomialNB\n",
    "from sklearn.model_selection import train_test_split"
   ]
  },
  {
   "cell_type": "code",
   "execution_count": 2,
   "id": "3fd00805",
   "metadata": {},
   "outputs": [
    {
     "name": "stdout",
     "output_type": "stream",
     "text": [
      "25000\n"
     ]
    }
   ],
   "source": [
    "path = 'data/train/'\n",
    "\n",
    "count = 0\n",
    "labels = []\n",
    "contents = []\n",
    "\n",
    "for label in ['neg','pos']:\n",
    "    filenames = os.listdir(path + label)\n",
    "    for filename in filenames:\n",
    "        count += 1\n",
    "        with open(os.path.join(path, label, filename), 'r') as f:\n",
    "            labels.append(1 if label == 'pos' else 0)\n",
    "            contents.append(f.read())\n",
    "print(count)\n",
    "            \n",
    "data = pd.DataFrame({\n",
    "    'contents' : contents,\n",
    "    'labels': labels,\n",
    "\n",
    "})\n",
    "\n",
    "data = data.sample(frac=1, random_state=42).reset_index(drop=True)"
   ]
  },
  {
   "cell_type": "markdown",
   "id": "bdecdb1c",
   "metadata": {},
   "source": [
    "#### Just to be clear negative is 0 and positive is 1"
   ]
  },
  {
   "cell_type": "code",
   "execution_count": 3,
   "id": "1935c7b6",
   "metadata": {},
   "outputs": [
    {
     "data": {
      "text/plain": [
       "0    12500\n",
       "1    12500\n",
       "Name: labels, dtype: int64"
      ]
     },
     "execution_count": 3,
     "metadata": {},
     "output_type": "execute_result"
    }
   ],
   "source": [
    "data.labels.value_counts()"
   ]
  },
  {
   "cell_type": "markdown",
   "id": "3ab00242",
   "metadata": {},
   "source": [
    "Ok, the data is **completely balanced**."
   ]
  },
  {
   "cell_type": "markdown",
   "id": "298663a9",
   "metadata": {},
   "source": [
    " ###### At this moment we are going to see 5 examples of each column"
   ]
  },
  {
   "cell_type": "code",
   "execution_count": 4,
   "id": "65b3dd8b",
   "metadata": {},
   "outputs": [
    {
     "name": "stdout",
     "output_type": "stream",
     "text": [
      "negative\n",
      "\n",
      "\n",
      "I would give this movie 5 rather than 3 if it would be at least in time... When i've seen it in first time it was just what you could wait from the work that is based not on the artistic abilities of the directors but on the idealistic or i would rather say idiotic habits of our (Kazakhstan) government... It's a shame, because 'Qazaqfil'm' was been shooting nice movies when it was not honoured by the name of Shaken Aimanov, but it was actually ran by him. The movies like 'Konec Atamana', 'Kyz Zhibek' or even 'Aldar Kose'. But after Mr Aimanov's death the production of quality movies went down almost dramatically in 10 years time there were very few films produced. However, in late 1980s, 'Assa' was shot, it was a film about first organised crime groups in the big country, one year later Mr. Rashid Nugmanov shot another film with the co-staring of the same actor/singer V.Tsoy, at that time he was already a soviet/Russian rock legend, - the movie called 'Igla' (The Needle or something) it was completely new, somebody called that period as resurrection or a new Kazakh movie wave. Unfortunately nowadays we do not have a quality movies, our directors shooting movies on the french and Japanese financial support, and thus movies are not for the public but for the authors professional critics, some of them take a price on international author movie festivals but there a very few of them become a business asset products... And again back to our 'nomads'. Such movies usually unpopular because of vast aspects. The same effects was with Nikita Mikhalkov's 'Sibirski Cyrilnik' about Russian tsars, that was also shot on parities with foreign partners, i think they were french or maybe British. Nobdy liked it, even in Russian public it become as a main topic of a comedians and comedy shows like 'KVN'. IMHO\n",
      "\n",
      "\n",
      "Even by 1942 standards of movie-making the setup which HER CARDBOARD LOVER presents was dated to the extreme. The machinations of one half of a pair (of husband/wife, ex-husband/ex-wife) to get the other back at the threat of marriage to another, divorce, or an eventual separation by means of jealousy, humiliation, or other schemes had been done much better in classics such as HIS GIRL Friday and THE PHILADELPHIA STORY. Both of these movies features women with a strong, indomitable screen presence and who played independent, proto-feminist characters. In both movies, both women were estranged/divorced from their (witty) first husbands and set to marry colorless men who were their exact opposite, and both would be bamboozled into rejecting their soon-to-be husbands and re-igniting their passion for each other.<br /><br />The plot in HER CARDBOARD LOVER switches the gender: here, it's Norma Shearer in the Cary Grant role out, this time, to ward off an ex-boyfriend (George Sanders) by means of hiring Robert Taylor to pose as her gigolo. The problem is, Shearer is much too old to be playing a role more suited to an actress in her mid-to-late twenties; Sanders is about as involved as a piece of furniture for the most -- any man who would be in love with his fiancée, on seeing a strange man come out of her bathroom as happens here, would knock the lights out of him and cause a huge scene. Not here. And Robert Taylor plays his part as if he were trying to channel Cary Grant half the time, not in speech inflections but in overall essence.<br /><br />But the worst part of it is Shearer herself. For an actress used to parts which gave her a sense of intellectual sexiness and dramatic presence, playing Consuelo Craydon seems to put her into throes of complete over-acting, over-emoting, and over-gesturing which, while still a part of her style of acting and more appropriate ten years earlier, makes her look like an extremely mannered performer wrenching the joke out of a situation like water from a fairly dry sponge. It only fuels the fires that tell the theory which gives Irving Thalberg the maker of her career and chooser of (most of her) roles; why she passed on roles such as Charlotte Vale and Mrs. Miniver on mega-hits NOW VOYAGER and MRS. MINIVER is a mystery, but then again, most accounts also state that by this time she had just burnt out from acting, that she'd had lost interest in the whole thing altogether and it's no secret that anyone who has experienced this sort of thing has essentially lost focus and can't wait until retirement or the end of a contract is near to leave as soon as possible. Such could be the case here. She seems lost, she seems tired, she seems ill at ease, going through autopilot instead of living the part. After this film she would make no more, but would be responsible of discovering Janet Leigh who would come into her own as a screen star during the late 40s and into the 60s.\n",
      "\n",
      "\n",
      "Many people here say that this show is for kids only. Hm, when I was a kid (approximately 7-9 years old) I watched this show first. It was disgusting for me. I talked with other kids about this and, sure, other shows and know what? This was the measure of disguise, whenever we wanted to emphasize something's silliness (either on TV or anything else) we said \"Uh, just like Power Rangers\" and laughed. <br /><br />And before visiting this site I could not imagine that there actually are fans of MMPR. It was so strange for me that I decided to watch it again and try to understand why people like it. I did not enjoy that viewing. But it dawned upon me: maybe I have not enough imagination? It may be. However this argument is not sufficient for me to rate it more than 1 star.\n",
      "\n",
      "\n",
      "Note to self- just because a film is foreign, obscure, and stars Catherine Zeta-Jones doesn't mean it's any good. Such is the case with 'Blue Juice,' a 1995 Brit flick about an unlikely group of surfing enthusiasts in what would seem (to a dumb American, anyway) an even more unlikely place to find surfers: Cornwall, England. You might be thinking this has the makings for an amusing, quirky little comedy. If only. The film is just a bit over ninety minutes but it seems interminable. The easiest way to describe it is as a sort of '90's British version of 'Grease' without the dancing, but even that makes it sound better than it is. No, the best way to take it is as a little slice-of-life set in a small town. Catherine Zeta-Jones plays Chloe, a young woman living with a surfing instructor, JC (Sean Pertwee; you remember him). Pertwee is actually the film's star, and his character is something of a surfing legend to a small group of surfing devotees, the requisite oddball group of free spirits that inevitably inhabit films like this. In this case, it consists of a drug dealer who wants to be a journalist, a former nightclub dj who wants to be a record producer, and a fat nerdy guy who, in a needlessly extended scene, gets stoned and loses all his inhibitions which of course turns out to be the best thing that ever happened to him. I can't honestly say everything that goes on in 'Blue Juice' is predictable, since it's set in a place and reflects customs and manners I'm not very familiar with, but there's certainly nothing surprising or even interesting that takes place there or with the characters. The comedy, though, IS very predictable and tired. One can sense the set-ups a mile away and almost recite the dialogue (in American form, of course) before the actors do. The relationship between JC and Chloe is every bit as hackneyed. She wants him to grow up; he wants them to stay the impetuous teenagers they started out being. He's afraid of losing face with his gang; she thinks he prefers them to her. You get the idea. As I struggled to stay focused on 'Blue Juice,' toward the end I felt, as the saying goes, that this was an hour and half of my life I'd never get back.\n",
      "\n",
      "\n",
      "Woman (Miriam Hopkins as Virginia) chases Man (Joel McCrea as Kenneth) for father (Charles Winninger as B.J.). Woman wants to get Man to invest some of deceased mother's money in father's business venture; but, father is notorious for losing money on hair-brained schemes. Little does anyone know, but real evil schemers are posing as Man's best friends in order to steal his fortune...<br /><br />The production looks engaging, but the story fails to engage. The players don't play drunk well. Notable as Broderick Crawford's first appearance - as gopher \"Hunk\"; other than running errands, Mr. Crawford gets pinned to the floor by Mr. McCrea. <br /><br />*** Woman Chases Man (4/28/37) John G. Blystone ~ Miriam Hopkins, Joel McCrea, Charles Winninger, Broderick Crawford\n",
      "\n",
      "\n",
      "positive\n",
      "\n",
      "\n",
      "I first saw this absolutely riveting documentary in it's initial release back in 2001,and it really had a profound effect on me, so much that I bugged several of my friends to see it with me on repeat screenings. The bottom line:none of my friends walked away disappointed (ever!). This stellar film is about Scottish conceptual artist, Andy Goldsworthy,who creates some absolutely beautiful pieces of art using natural materials (wood,water,flowers,rocks,etc.)to create pieces that eventually return to their natural form (a statement in the temporary state of everything?). We get to see Goldsworthy create several works of temporary art,as well as some of his long term installations in major galleries around the world,as well as a few pieces in the natural world,as well. German film maker,Thomas Riedelsheimer directs,photographs & edits this meditation on the creative process that is a real treat for both the eye & ear (with an ambient musical score,composed & performed by Fred Frith,who's music is generally edgy experimental/noise textured guitar,as well as a capable ensemble of musicians). Although this film has been available on DVD for some years now,if you can find a cinema that is highlighting a revival of this fine film,by all means,seek it out (it's easily a film that was composed for the large screen,with a proficient sound system to truly experience this film the right way). No MPAA rating,but contains nothing to offend (unless the live birth of a sheep on screen is destined to offend or disturb)\n",
      "\n",
      "\n",
      "With a special telescope, Dr. Janos Rukh (Boris Karloff) successfully proves that years ago a meteorite landed in Africa containing an unknown, but extremely powerful element. Dr. Benet(Bela Lugosi) form an expedition led by Rukh to locate the element. Unexpectedly, Rukh discovers \"Radium X,\", even more powerful than radium and very radioactive and Karloff becomes contaminated and can kill anyone by just touching them. The sparks really fly between Lugosi and Karloff in this classic science-fiction film during the post-World War II era. Director Hillyer used a few standing sets from \"FLASH GORDON\" series which was being filmed at the same time and also inserted some footage of electrical machines from Frankenstein. Universal kept the public unaware of the special effects being used in this great classic film. Karloff and Lugosi were at their very best and they both enjoyed working together and will be enjoyed by future generations.\n",
      "\n",
      "\n",
      "I happily admit that I'm a sucker for a beautiful film, and sufficiently inventive camera movements and angles can be enough to keep my interest in a fairly long film. Not one the length of Gojoe though, even though it had some of the most remarkable cinematography I've seen since the Korean period piece MUSA. However, Gojoe provides far more than just beautiful images (as does MUSA... don't which to imply a contrast) - it's second greatest strength is superb acting, and a fascinating story with some very dark philosophy. I must admit to being quite unsure what the point was it was trying to make in the end, but it definitely provokes some thoughts along the way. Vague ones, but definitely thoughts :p<br /><br />One department in which the film could have been better is the action. There's a tremendous amount of bloodletting in the film, but the action is all filmed with hyperkinetic close-ups, and frequently obscured by objects in the foreground. It does create some very intense and impressive visuals, but it would have been nice to see some more actual moves, something to make it more believable that the villains could just wade through entire armies laying waste to everyone.<br /><br />Still, the film is definitely one of the most interesting and most beautiful films I've seen for quite some time. Recommended!\n",
      "\n",
      "\n",
      "I love this show! It's like watching a mini movie each week!!! The first episode was so gripping and terrifying...so was part 2 of the pilot... I'm definitely gonna keep tuning into this show! This is the real Survivor! I've looked at a few of the other comments and I can see that already after just one or two episodes the morons here are already crying wolf... Sorry if it's not another reality show, kiddies! There was once a time where there were...now brace yourself! Actual TV shows! And this one is actually good unlike most of the crappy sitcoms today or the ump-teenth carbon copy of a Law & Order or NYPD Blue or CSI series they're dishing out... Watch this yourself to form your own opinion, don't take one from the boneheads here!\n",
      "\n",
      "\n",
      "I used to watch this on either HBO or Showtime or Cinemax during the one summer in the mid 90's that my parents subscribed to those channels. I came across it several times in various parts and always found it dark, bizarre and fascinating. I was young then, in my early teens; and now years later after having discovered the great Arliss Howard and being blown away by \"Big Bad Love\" I bought the DVD of \"Wilder Napalm\" and re-watched it with my girlfriend for the first time in many years. I absolutely loved it! I was really impressed and affected by it. There are so many dynamic fluid complexities and cleverness within the camera movements and cinematography; all of which perfectly gel with the intelligent, intense and immediate chemistry between the three leads, their story, the music and all the other actors as well. It's truly \"Cinematic\". I love Arliss Howard's subtle intensity, ambivalent strength and hidden intelligence, I'm a big fan of anything he does; and his interplay with Debra Winger's manic glee (they are of course married) has that magic charming reality to it that goes past the camera. (I wonder if they watch this on wedding anniversaries?.......\"Big Bad Love\" should be the next stop for anyone who has not seen it; it's brilliant.) And, Dennis Quaid in full clown make-up, sneakily introduced, angled, hidden and displayed by the shot selection and full bloomed delivery is of the kind of pure dark movie magic you don't see very often. Quaid has always had a sinister quality to him for me anyways, with that huge slit mouth span, hiding behind his flicker eyes lying in wait to unleash itself as either mischievous charm or diabolical weirdness (here as both). Both Howard and Quaid have the insane fire behind the eyes to pull off their wonderful intense internal gunslinger square-offs in darkly cool fashion. In fact the whole film has a darkly cool energy and hip intensity. It's really a fantastic film, put together by intelligence, imagination, agility and chemistry by all parties involved. I really cannot imagine how this got funded, and it looks pretty expensive to me, by such a conventional, imagination-less system, but I thank God films like this slip through the system every once in awhile. In a great way, with all of its day-glo bright carnival colors, hip intelligence, darkly warped truthful humor and enthralling chemistry it reminds me of one of my favorite films of all time: \"Grosse Pointe Blank\".......now that's a compliment in my book!\n",
      "\n",
      "\n"
     ]
    }
   ],
   "source": [
    "for label in data.labels.unique():\n",
    "    print(\"negative\" if label ==  0 else \"positive\")\n",
    "    print(\"\\n\")\n",
    "    for content in data.contents[data.labels == label].sample(5):\n",
    "        print(content)\n",
    "        print(\"\\n\")"
   ]
  },
  {
   "cell_type": "code",
   "execution_count": 5,
   "id": "829a74da",
   "metadata": {},
   "outputs": [],
   "source": [
    "def filter(x):\n",
    "    return (\"Great\" in x) or (\"great\" in x)"
   ]
  },
  {
   "cell_type": "code",
   "execution_count": 6,
   "id": "ecfb0aed",
   "metadata": {},
   "outputs": [],
   "source": [
    "using_great = data[data.contents.apply(filter)].labels.value_counts()"
   ]
  },
  {
   "cell_type": "code",
   "execution_count": 7,
   "id": "d88596c1",
   "metadata": {},
   "outputs": [
    {
     "data": {
      "text/plain": [
       "25000"
      ]
     },
     "execution_count": 7,
     "metadata": {},
     "output_type": "execute_result"
    }
   ],
   "source": [
    "len(data)"
   ]
  },
  {
   "cell_type": "code",
   "execution_count": 8,
   "id": "ecac37b9",
   "metadata": {},
   "outputs": [
    {
     "data": {
      "text/plain": [
       "12500.0"
      ]
     },
     "execution_count": 8,
     "metadata": {},
     "output_type": "execute_result"
    }
   ],
   "source": [
    "len(data)/2"
   ]
  },
  {
   "cell_type": "code",
   "execution_count": 9,
   "id": "528aa3f2",
   "metadata": {},
   "outputs": [
    {
     "data": {
      "text/plain": [
       "4584"
      ]
     },
     "execution_count": 9,
     "metadata": {},
     "output_type": "execute_result"
    }
   ],
   "source": [
    "using_great[1]"
   ]
  },
  {
   "cell_type": "code",
   "execution_count": 10,
   "id": "cb1536ba",
   "metadata": {},
   "outputs": [
    {
     "name": "stdout",
     "output_type": "stream",
     "text": [
      "0.3668 0.18376\n"
     ]
    }
   ],
   "source": [
    "p1 = 4585 / 12500\n",
    "p2 = 2297 / 12500\n",
    "print(p1, p2)"
   ]
  },
  {
   "cell_type": "code",
   "execution_count": 11,
   "id": "6632c66e",
   "metadata": {},
   "outputs": [
    {
     "name": "stdout",
     "output_type": "stream",
     "text": [
      "\n",
      "\n"
     ]
    }
   ],
   "source": [
    "print(\"\\n\")"
   ]
  },
  {
   "cell_type": "markdown",
   "id": "d3e0e122",
   "metadata": {},
   "source": [
    "We can see that just looking for the word \"great we can find\" 36% of all the data with the positive reviews. How ever this comes at the expense of finding also getting 18% of numbers that are negative. We can at basic level see that some obvious words can have an impact; but it is not that simble."
   ]
  },
  {
   "cell_type": "code",
   "execution_count": 18,
   "id": "22d645c8",
   "metadata": {},
   "outputs": [],
   "source": [
    "def print_report(y_true, prediction):\n",
    "    print('Confusion Matrix')\n",
    "    print(confusion_matrix(y_true, prediction))\n",
    "    print(\"\\n\")\n",
    "    print('Classification Report')\n",
    "    print(classification_report(y_true, prediction))\n",
    "    print(\"\\n\")\n",
    "    print(\"Other Metrics\")\n",
    "    print(f'Pression Score: {precision_score(y_true, prediction)}')\n",
    "    print(f'Accuracy Score: {accuracy_score(y_true, prediction)}')\n",
    "    print(f'Recall Score: {recall_score(y_true, prediction)}')\n",
    "    print(f'f1 Score {f1_score(y_true, prediction)}')"
   ]
  },
  {
   "cell_type": "code",
   "execution_count": 13,
   "id": "99e48b90",
   "metadata": {},
   "outputs": [],
   "source": [
    "X = data.contents\n",
    "y = data.labels"
   ]
  },
  {
   "cell_type": "code",
   "execution_count": 16,
   "id": "3e1b1a77",
   "metadata": {},
   "outputs": [
    {
     "name": "stdout",
     "output_type": "stream",
     "text": [
      "(16750,)\n",
      "(8250,)\n"
     ]
    }
   ],
   "source": [
    "X_train, X_test, y_train, y_test = train_test_split(X, y, test_size=0.33, random_state=42)\n",
    "print(X_train.shape)\n",
    "print(X_test.shape)"
   ]
  },
  {
   "cell_type": "code",
   "execution_count": 15,
   "id": "27134e4e",
   "metadata": {
    "scrolled": true
   },
   "outputs": [],
   "source": [
    "count_vectorizer = CountVectorizer(stop_words='english', ngram_range=(1,1))\n",
    "X_train_vectorized = count_vectorizer.fit_transform(X_train).toarray()\n",
    "X_test_vectorized  = count_vectorizer.transform(X_test).toarray()"
   ]
  },
  {
   "cell_type": "markdown",
   "id": "47a3acc8",
   "metadata": {},
   "source": [
    "For some reason if I add the amount of ngram_range to for example 1,3 then I have a problem; I am going to test different stuff afterwards. "
   ]
  },
  {
   "cell_type": "code",
   "execution_count": 19,
   "id": "07155c94",
   "metadata": {},
   "outputs": [
    {
     "name": "stdout",
     "output_type": "stream",
     "text": [
      "Multinomial Naive Bayes\n"
     ]
    },
    {
     "ename": "KeyboardInterrupt",
     "evalue": "",
     "output_type": "error",
     "traceback": [
      "\u001b[0;31m---------------------------------------------------------------------------\u001b[0m",
      "\u001b[0;31mKeyboardInterrupt\u001b[0m                         Traceback (most recent call last)",
      "\u001b[0;32m<ipython-input-19-aa98247ad8e8>\u001b[0m in \u001b[0;36m<module>\u001b[0;34m\u001b[0m\n\u001b[1;32m      8\u001b[0m     \u001b[0mprint\u001b[0m\u001b[0;34m(\u001b[0m\u001b[0mclf_name\u001b[0m\u001b[0;34m)\u001b[0m\u001b[0;34m\u001b[0m\u001b[0;34m\u001b[0m\u001b[0m\n\u001b[1;32m      9\u001b[0m     \u001b[0mclf\u001b[0m\u001b[0;34m.\u001b[0m\u001b[0mfit\u001b[0m\u001b[0;34m(\u001b[0m\u001b[0mX_train_vectorized\u001b[0m\u001b[0;34m,\u001b[0m \u001b[0my_train\u001b[0m\u001b[0;34m)\u001b[0m\u001b[0;34m\u001b[0m\u001b[0;34m\u001b[0m\u001b[0m\n\u001b[0;32m---> 10\u001b[0;31m     \u001b[0mcheck_model\u001b[0m\u001b[0;34m(\u001b[0m\u001b[0mclf\u001b[0m\u001b[0;34m,\u001b[0m \u001b[0mX_test_vectorized\u001b[0m\u001b[0;34m,\u001b[0m \u001b[0my_test\u001b[0m\u001b[0;34m)\u001b[0m\u001b[0;34m\u001b[0m\u001b[0;34m\u001b[0m\u001b[0m\n\u001b[0m\u001b[1;32m     11\u001b[0m     \u001b[0mprint\u001b[0m\u001b[0;34m(\u001b[0m\u001b[0;34m\"_________________________________________________\"\u001b[0m\u001b[0;34m)\u001b[0m\u001b[0;34m\u001b[0m\u001b[0;34m\u001b[0m\u001b[0m\n",
      "\u001b[0;32m<ipython-input-19-aa98247ad8e8>\u001b[0m in \u001b[0;36mcheck_model\u001b[0;34m(clf, X_test, y_test)\u001b[0m\n\u001b[1;32m      2\u001b[0m \u001b[0;34m\u001b[0m\u001b[0m\n\u001b[1;32m      3\u001b[0m \u001b[0;32mdef\u001b[0m \u001b[0mcheck_model\u001b[0m\u001b[0;34m(\u001b[0m\u001b[0mclf\u001b[0m\u001b[0;34m,\u001b[0m \u001b[0mX_test\u001b[0m\u001b[0;34m,\u001b[0m \u001b[0my_test\u001b[0m\u001b[0;34m)\u001b[0m\u001b[0;34m:\u001b[0m\u001b[0;34m\u001b[0m\u001b[0;34m\u001b[0m\u001b[0m\n\u001b[0;32m----> 4\u001b[0;31m     \u001b[0mprediction\u001b[0m \u001b[0;34m=\u001b[0m \u001b[0mclf\u001b[0m\u001b[0;34m.\u001b[0m\u001b[0mpredict\u001b[0m\u001b[0;34m(\u001b[0m\u001b[0mX_test\u001b[0m\u001b[0;34m)\u001b[0m\u001b[0;34m\u001b[0m\u001b[0;34m\u001b[0m\u001b[0m\n\u001b[0m\u001b[1;32m      5\u001b[0m     \u001b[0mprint_report\u001b[0m\u001b[0;34m(\u001b[0m\u001b[0my_test\u001b[0m\u001b[0;34m,\u001b[0m \u001b[0mprediction\u001b[0m\u001b[0;34m)\u001b[0m\u001b[0;34m\u001b[0m\u001b[0;34m\u001b[0m\u001b[0m\n\u001b[1;32m      6\u001b[0m \u001b[0;34m\u001b[0m\u001b[0m\n",
      "\u001b[0;32m~/opt/anaconda3/lib/python3.8/site-packages/sklearn/naive_bayes.py\u001b[0m in \u001b[0;36mpredict\u001b[0;34m(self, X)\u001b[0m\n\u001b[1;32m     81\u001b[0m         \u001b[0mcheck_is_fitted\u001b[0m\u001b[0;34m(\u001b[0m\u001b[0mself\u001b[0m\u001b[0;34m)\u001b[0m\u001b[0;34m\u001b[0m\u001b[0;34m\u001b[0m\u001b[0m\n\u001b[1;32m     82\u001b[0m         \u001b[0mX\u001b[0m \u001b[0;34m=\u001b[0m \u001b[0mself\u001b[0m\u001b[0;34m.\u001b[0m\u001b[0m_check_X\u001b[0m\u001b[0;34m(\u001b[0m\u001b[0mX\u001b[0m\u001b[0;34m)\u001b[0m\u001b[0;34m\u001b[0m\u001b[0;34m\u001b[0m\u001b[0m\n\u001b[0;32m---> 83\u001b[0;31m         \u001b[0mjll\u001b[0m \u001b[0;34m=\u001b[0m \u001b[0mself\u001b[0m\u001b[0;34m.\u001b[0m\u001b[0m_joint_log_likelihood\u001b[0m\u001b[0;34m(\u001b[0m\u001b[0mX\u001b[0m\u001b[0;34m)\u001b[0m\u001b[0;34m\u001b[0m\u001b[0;34m\u001b[0m\u001b[0m\n\u001b[0m\u001b[1;32m     84\u001b[0m         \u001b[0;32mreturn\u001b[0m \u001b[0mself\u001b[0m\u001b[0;34m.\u001b[0m\u001b[0mclasses_\u001b[0m\u001b[0;34m[\u001b[0m\u001b[0mnp\u001b[0m\u001b[0;34m.\u001b[0m\u001b[0margmax\u001b[0m\u001b[0;34m(\u001b[0m\u001b[0mjll\u001b[0m\u001b[0;34m,\u001b[0m \u001b[0maxis\u001b[0m\u001b[0;34m=\u001b[0m\u001b[0;36m1\u001b[0m\u001b[0;34m)\u001b[0m\u001b[0;34m]\u001b[0m\u001b[0;34m\u001b[0m\u001b[0;34m\u001b[0m\u001b[0m\n\u001b[1;32m     85\u001b[0m \u001b[0;34m\u001b[0m\u001b[0m\n",
      "\u001b[0;32m~/opt/anaconda3/lib/python3.8/site-packages/sklearn/naive_bayes.py\u001b[0m in \u001b[0;36m_joint_log_likelihood\u001b[0;34m(self, X)\u001b[0m\n\u001b[1;32m    876\u001b[0m     \u001b[0;32mdef\u001b[0m \u001b[0m_joint_log_likelihood\u001b[0m\u001b[0;34m(\u001b[0m\u001b[0mself\u001b[0m\u001b[0;34m,\u001b[0m \u001b[0mX\u001b[0m\u001b[0;34m)\u001b[0m\u001b[0;34m:\u001b[0m\u001b[0;34m\u001b[0m\u001b[0;34m\u001b[0m\u001b[0m\n\u001b[1;32m    877\u001b[0m         \u001b[0;34m\"\"\"Calculate the posterior log probability of the samples X\"\"\"\u001b[0m\u001b[0;34m\u001b[0m\u001b[0;34m\u001b[0m\u001b[0m\n\u001b[0;32m--> 878\u001b[0;31m         \u001b[0;32mreturn\u001b[0m \u001b[0msafe_sparse_dot\u001b[0m\u001b[0;34m(\u001b[0m\u001b[0mX\u001b[0m\u001b[0;34m,\u001b[0m \u001b[0mself\u001b[0m\u001b[0;34m.\u001b[0m\u001b[0mfeature_log_prob_\u001b[0m\u001b[0;34m.\u001b[0m\u001b[0mT\u001b[0m\u001b[0;34m)\u001b[0m \u001b[0;34m+\u001b[0m \u001b[0mself\u001b[0m\u001b[0;34m.\u001b[0m\u001b[0mclass_log_prior_\u001b[0m\u001b[0;34m\u001b[0m\u001b[0;34m\u001b[0m\u001b[0m\n\u001b[0m\u001b[1;32m    879\u001b[0m \u001b[0;34m\u001b[0m\u001b[0m\n\u001b[1;32m    880\u001b[0m \u001b[0;34m\u001b[0m\u001b[0m\n",
      "\u001b[0;32m~/opt/anaconda3/lib/python3.8/site-packages/sklearn/utils/extmath.py\u001b[0m in \u001b[0;36msafe_sparse_dot\u001b[0;34m(a, b, dense_output)\u001b[0m\n\u001b[1;32m    151\u001b[0m             \u001b[0mret\u001b[0m \u001b[0;34m=\u001b[0m \u001b[0mnp\u001b[0m\u001b[0;34m.\u001b[0m\u001b[0mdot\u001b[0m\u001b[0;34m(\u001b[0m\u001b[0ma\u001b[0m\u001b[0;34m,\u001b[0m \u001b[0mb\u001b[0m\u001b[0;34m)\u001b[0m\u001b[0;34m\u001b[0m\u001b[0;34m\u001b[0m\u001b[0m\n\u001b[1;32m    152\u001b[0m     \u001b[0;32melse\u001b[0m\u001b[0;34m:\u001b[0m\u001b[0;34m\u001b[0m\u001b[0;34m\u001b[0m\u001b[0m\n\u001b[0;32m--> 153\u001b[0;31m         \u001b[0mret\u001b[0m \u001b[0;34m=\u001b[0m \u001b[0ma\u001b[0m \u001b[0;34m@\u001b[0m \u001b[0mb\u001b[0m\u001b[0;34m\u001b[0m\u001b[0;34m\u001b[0m\u001b[0m\n\u001b[0m\u001b[1;32m    154\u001b[0m \u001b[0;34m\u001b[0m\u001b[0m\n\u001b[1;32m    155\u001b[0m     if (\n",
      "\u001b[0;31mKeyboardInterrupt\u001b[0m: "
     ]
    }
   ],
   "source": [
    "mnb = MultinomialNB()\n",
    "\n",
    "def check_model(clf, X_test, y_test):\n",
    "    prediction = clf.predict(X_test)\n",
    "    print_report(y_test, prediction)\n",
    "\n",
    "for clf, clf_name in [(mnb, 'Multinomial Naive Bayes')]:\n",
    "    print(clf_name)\n",
    "    clf.fit(X_train_vectorized, y_train)\n",
    "    check_model(clf, X_test_vectorized, y_test)\n",
    "    print(\"_________________________________________________\")"
   ]
  },
  {
   "cell_type": "code",
   "execution_count": null,
   "id": "1f6bf662",
   "metadata": {},
   "outputs": [],
   "source": []
  }
 ],
 "metadata": {
  "kernelspec": {
   "display_name": "Python 3",
   "language": "python",
   "name": "python3"
  },
  "language_info": {
   "codemirror_mode": {
    "name": "ipython",
    "version": 3
   },
   "file_extension": ".py",
   "mimetype": "text/x-python",
   "name": "python",
   "nbconvert_exporter": "python",
   "pygments_lexer": "ipython3",
   "version": "3.8.8"
  }
 },
 "nbformat": 4,
 "nbformat_minor": 5
}
