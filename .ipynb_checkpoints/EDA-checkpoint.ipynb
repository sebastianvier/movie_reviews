{
 "cells": [
  {
   "cell_type": "code",
   "execution_count": 25,
   "id": "e7cd9b02",
   "metadata": {},
   "outputs": [],
   "source": [
    "## Python in build modules:\n",
    "import os\n",
    "import re\n",
    "\n",
    "## EDA libraries\n",
    "import numpy as np\n",
    "import pandas as pd\n",
    "import matplotlib.pyplot as plt\n",
    "%matplotlib inline\n",
    "import seaborn as sns\n",
    "\n",
    "## Metrics (sklearn)\n",
    "from sklearn.metrics import confusion_matrix, classification_report\n",
    "from sklearn.metrics import recall_score, precision_score, f1_score, accuracy_score\n",
    "\n",
    "## Models (sklearn)\n",
    "from sklearn.feature_extraction.text import CountVectorizer\n",
    "from sklearn.naive_bayes import MultinomialNB\n",
    "from sklearn.model_selection import train_test_split"
   ]
  },
  {
   "cell_type": "code",
   "execution_count": 3,
   "id": "3fd00805",
   "metadata": {},
   "outputs": [
    {
     "name": "stdout",
     "output_type": "stream",
     "text": [
      "25000\n"
     ]
    }
   ],
   "source": [
    "path = 'data/train/'\n",
    "\n",
    "count = 0\n",
    "labels = []\n",
    "contents = []\n",
    "\n",
    "for label in ['neg','pos']:\n",
    "    filenames = os.listdir(path + label)\n",
    "    for filename in filenames:\n",
    "        count += 1\n",
    "        with open(os.path.join(path, label, filename), 'r') as f:\n",
    "            labels.append(1 if label == 'pos' else 0)\n",
    "            contents.append(f.read())\n",
    "print(count)\n",
    "            \n",
    "data = pd.DataFrame({\n",
    "    'contents' : contents,\n",
    "    'labels': labels,\n",
    "\n",
    "})\n",
    "\n",
    "data = data.sample(frac=1, random_state=42).reset_index(drop=True)"
   ]
  },
  {
   "cell_type": "markdown",
   "id": "bdecdb1c",
   "metadata": {},
   "source": [
    "#### Just to be clear negative is 0 and positive is 1"
   ]
  },
  {
   "cell_type": "code",
   "execution_count": 4,
   "id": "1935c7b6",
   "metadata": {},
   "outputs": [
    {
     "data": {
      "text/plain": [
       "0    12500\n",
       "1    12500\n",
       "Name: labels, dtype: int64"
      ]
     },
     "execution_count": 4,
     "metadata": {},
     "output_type": "execute_result"
    }
   ],
   "source": [
    "data.labels.value_counts()"
   ]
  },
  {
   "cell_type": "markdown",
   "id": "3ab00242",
   "metadata": {},
   "source": [
    "Ok, the data is **completely balanced**."
   ]
  },
  {
   "cell_type": "markdown",
   "id": "298663a9",
   "metadata": {},
   "source": [
    " ###### At this moment we are going to see 5 examples of each column"
   ]
  },
  {
   "cell_type": "code",
   "execution_count": 5,
   "id": "65b3dd8b",
   "metadata": {},
   "outputs": [
    {
     "name": "stdout",
     "output_type": "stream",
     "text": [
      "negative\n",
      "\n",
      "\n",
      "I am a big fan of old horror movies, and since I am middle aged, old to me is a movie made before 1970 with most being made in the 1920's to 1960's period. I am not a big fan of more modern horror movies, with one exception being Creepshow 1, which I thought was great. I could reminisce about the stories there but I really really enjoyed the monster in the box story with Hal Holbrook, and also the one about the really clean guy was a great ending. All the stories were great though. So why did I like them so much? The characters had some decent development, the lines were very plain about who was good and who was bad, the horror bits were heightened with a close up of a face aghast with fear, and the funny bits were really funny! This sequel is either greatly lacking of these elements or they are totally absent! I am writing this only having watched it partially because the movie was a complete waste of time and I turned it off to do other things like write movie reviews on IMDb.com, lol. When George Kennedy and an old Dorothy Lamoure get top billing it's telling you something.....4 of 10. Also, Romero's expertise is hard to find here, they must had told him to tone it down to a PG standard (I don't know what this was rated at but it looks PG to me), and that's not a good thing for a movie with nothing else going on. It's shown on the Encore cable channel if your dieing (yuck yuck) to see it.\n",
      "\n",
      "\n",
      "Uh oh! Another gay film. This time it's showing the black side. Bet your last dollar it's gonna have an unhappy ending! But WHY? With only less than a half dozen exceptions, ALL gay films have to end in death or an \"addio\" finale. It's like all the European Film Noir releases in the 40's, 50's, 60's, and 70's. The lead...male or female must die or ride off alone into oblivion. Why in God's name must writers, directors, and producers have the audience leave the theatre feeling depressed? After all, it's supposed to be gay...not glum. Maybe the category should be changed to a 'glum' film. A large percentage of gay relationships DO last and the couples DO ride off together into the sunset! No matter who writes or produces, he only shows the down side of gay life and gives the incorrect impression of gay lifestyle. This movie just proves my point. If you rent the DVD, take an antidepressant, for here comes another 'gay' film! This is WRONG!\n",
      "\n",
      "\n",
      "One question: Why? First off, the premise is not funny or engaging at all. They use taped interviews, and take the audio to animate ite with animals speaking the parts. First off, the interviews aren't funny or entertaining to begin with, and even if they were, I am sure they would be a lot more entertaining being viewed as they are originally, without being turned into cartoons. How does that add any hilarity to it? I turned on CBS's Monday night sitcom line-up, (which has become a regular way for me to relax after stressful Monday workdays) and found this on. Of course, the sitcom line-up would be reruns anyway, being summer, but seeing those episodes over again would have been more entertaining. I tried to give \"CC\" a chance. I really did. When it started, I figured, well, maybe it will be funny. Nope. And then it kept going. It was a long half hour.<br /><br />And I can almost see if there was a purpose, if the interviews were shown in their entirety, and had points to them. But no, it was just one-line clips, cut and pasted together really quick. It was like a horrible dreadful version of Cartoon Network's \"Robot Chicken.\" I wasn't a fan of CBS' now-cancelled sitcom \"The Class.\" WHile that was on, it was one half-hour of the line-up I would struggle through. But if it came down to me deciding a whole season of that or three more episodes of \"Creatures\"....let's just say I'd take the \"Class.\" Considering it's been a couple hours since it aired, and I come on here to see I am the first to comment...I guess that's a good sign that nobody watched it, and that it won't last much longer. Cartoon roadkill.\n",
      "\n",
      "\n",
      "for those of you who were desperate to find out what happened to Twitch in the original movie, heres your chance, and then get back to the real world.<br /><br />The guy who hid the gold in the first movie told Twitch, so he gets transferred to another prison, where wrestling champs hang around looking broody. Twitch plans to leave the jail in a month to get the gold to start a life with his woman.<br /><br />Then something happens and someone gets shot, and the film turns into Die Hard in another prison. But the wrestler's daughter is caught up in it all, so he and twitch go to find her and Twitch's woman.<br /><br />As you can imagine, the acting is below par, it features a lot of (really annoying) rap music, and poorly edited fight scenes. On the plus side, it's got that Hispanic bloke in it, who stars in every prison/action/thriller ever made, and he shuts a door in this.<br /><br />It's not very eventful, but at least it's harmless.<br /><br />If you were a massive fan of the original, it's okay-ish stuff.<br /><br />If not, you have been warned.\n",
      "\n",
      "\n",
      "Well! What can one say? Firstly, this adaptation is far too long at 4 hours, for the complexity (or lack of such) of the plot. The actors try really hard to make something of this film but there is too little content for the time available. Swayzee is really NOT a Quatermain character at all. After seeing Sean Connery's interpretation of the great man in \"The League of Extraordinary Gentlemen\", Swayzee really does not make the grade. This chap with the winchester repeating rifle has none of the strength, stature, subtlety, or humour needed for the part, and is upstaged by everyone including the witch doctor, who incidentally seems from my point of view to be more convincing as an actor than the rest of the cast. Some of the vistas are pleasing but there are silly mistakes in the cinematography. For example. When the happy team arrive at the water hole in the middle of the desert, their tracks are visible down to the oasis, just waiting for them to walk in them. Climbing out of the mine leads to an exit (on the next shot) nothing like the exit seen from the passage they have climbed through, et cetera. I was waiting for Doug McClure to appear at any moment. In some ways I wish he had. <br /><br />The leader of the Russians pursuing Quatermain is a shoddily created stereotypical character who just shoots at everything. <br /><br />Swayzee does quite well as the sad father, returned to London, who is unable to obtain the custody of his son. Swayzee should stick to that sort of thing. He is not able to carry the part of a courageous gentleman with a stout heart, experience of life, and sense of fair play.<br /><br />4 out of 10. Barely\n",
      "\n",
      "\n",
      "positive\n",
      "\n",
      "\n",
      "Jim Carrey is back to much the same role that he played in The Mask, a timid guy who is trying to get ahead in the world but who seems to be plagued with bad luck. Even when he tries to help a homeless guy from being harassed by a bunch of hoodlums (and of course they have to be Mexican, obviously), his good will towards his fellow man backfires. In that case, it wasn't too hard to predict that he was about to have a handful of angry hoodlums, but I like that the movie suggests that things like that shouldn't be ignored. I'm reminded of the episode of Michael Moore's brilliant The Awful Truth, when they had a man lay down on the sidewalk and pretend to be dead and see who would actually stop and make sure he was okay. The results were not very promising, so it's nice to see someone in the movies setting a good example.<br /><br />Jim Carrey plays the part of Bruce Nolan, the nice guy mentioned above whose entire life seems to be falling apart. Or even better, it seems to be breaking up by the blows of bad luck like an asteroid entering the atmosphere (a little metaphor that comes up when Bruce miraculously finds himself a gigantic news story later in the film). Bruce is nearly 40 years old and all he has to show for it is a position as a news reporter of the sort that reports on such exciting news as the local bakery that's seeking to bake the world's biggest cookie. He's desperate to obtain the job of head anchor at the TV station, but he loses his cool on live TV when he hears that the job went to his rival colleague. You have to love how they time the revelation of this news to him seconds before his first live report. Needless to say, he loses his temper on live TV in one of the funniest scenes of the entire film.<br /><br />Morgan Freeman delivers a fantastic performance as the Man himself, displaying a God whose infinite wisdom is somewhat reflected through Freeman's massive talent as an actor. He is the kind of God who takes his job very seriously, but in such a way as to advise his followers (as well as the viewers of this movie) that there are times when you need to slow down and do some manual labor in life. I love his line that some of the happiest people in the world come home smelling to high heaven at the end of the day. There are a lot of people in the world (maybe more than our share in America) who are so absorbed by their money and their possessions and their jobs and everything that they completely lost touch with the natural side of themselves as humans.<br /><br />One of the biggest strengths is that the movie is able to provide great advice to people in general about improving their lives, and this message is clear and acceptable regardless of the viewer's religion. I, for example, tend to reject organized religion in all forms and I see God and Satan to be metaphors for different aspects of nature and human psychology rather than actual figures who ever lived or continue to live. But despite the fact that I don't believe that God exists as an entity overseeing the universe or as a janitor dressed all in white who mops the floors of his downtown office in his spare time, I was able to appreciate the messages that were delivered in this movie.<br /><br />Jim Carrey's movies display this fantastic evolution that ties them all together and makes the newer ones look even better just because you can see how far he's come. If you compare Bruce Almighty with movies like Ace Ventura (both of which I loved, by the way) or a lot of what he did before he got into film, it's amazing how far he's come. He has moved from cheesy TV comedy to cheesy comedic films to comedies that are truly intelligent and meaningful like this film as well as others like The Truman Show, Man on the Moon, and The Majestic (easily one of his greatest films ever). Jim Carrey has unmistakably moved from the cheesy comedy of his past to become one of the most important comic actors working today.<br /><br />Jennifer Aniston also once again provides an excellent addition to the movie (as she did in the side-splitting Office Space) as Bruce's girlfriend, who becomes increasingly exasperated by Bruce's growing stress about his life as well as his negligence to ask her to marry him. There is definitely some low-brow comedy in the film that doesn't really fit with the importance of the film's meaning or the quality of the delivery, such as the dog reading the newspaper on the toilet and the whole monkey scene, but it was definitely pretty nice to see Ace Ventura's friend Spike make a cameo appearance. As Stephen King very well knows, it's always nice to see familiar characters. It's almost like seeing family again.<br /><br />Bruce is endowed with the powers of God for a given period of time so that he can understand life a bit better, and he says a lot about himself when he uses the powers only for his own purposes rather than to help all of the people who pray to him. The thing I love about this is that, like I said before, religion is absent from my life, but I was able to watch this and learn a lot about myself as well by thinking about what kinds of things I would have done had I been endowed with such powers. The movie allows us to learn vicariously this way, which empowers the message even more.<br /><br />The scenes that involve the news station are easily the funniest in the entire film, such as the scene when Bruce loses his temper about the anchor position, the Jimmy Hoffa scene (who was conveniently buried with an original birth certificate and a complete set of dental records), the scene where Bruce's rival colleague is made to go nuts on camera, and my favorites, the ones at the beginning and the end involving the local bakery's cooking. The movie has plenty of time for Carrey to deliver some excellent jokes, such as when he says to God (who reveals that he's the janitor, the proprietor, the electrician, etc) that his Christmas parties must be real bashes, and to be careful about drinking, because on of him might need a ride home! I also loved the end when he says that behind every great man is a woman rolling her eyes. A little too true, and as Gallagher would add, behind every great man is also an amazed mother-in-law.<br /><br />Bruce Almighty is one of the more memorable comedies to have come out for quite a while, and is probably the only directly religious that I can remember seeing that I am anxious to buy on DVD to add to my personal collection. It is a comedy written and performed in good taste, but with enough relatively low-brow humor to keep the kids entertained. This is a meaningful comedy for the whole family, which is becoming rarer and rarer these days. In a world that is about to be flogged with yet another American Pie film AND another Scary Movie (which are only scary because of their sheer barbarous idiocy), it's nice to see that there are still people making comedies worth watching. Don't miss this one.\n",
      "\n",
      "\n",
      "Spoilers! Classic 70's sex trash! The Swedish gal (Helga) was what made this movie so great. She was beautiful, but what really got to me was how sexual she was. She exuded massive quantities of sexuality throughout the film. Her best scenes were when she was, er, stimulating herself. Whenever she was on screen, I became transfixed.<br /><br />Also, the Doctor Julia (sister of the dimwitted male focus of the film) was very interesting visually. Although most 12 year old girls have bigger breasts than Julia, she knew how to use what little she had and her scenes (especially the scenes with the silk blouse and black skirt) also grabbed my attention unmercilessly. You also got to love the major hoaky scene where the bats stripped her nekkid; I don't know if I've ever seen anything more ludicrous yet sexy at the same time. Classic stuff!\n",
      "\n",
      "\n",
      "Of the elements that make this the best at this point, I have to say #1 is Christine McIntire. Shemp's scene when poisoned and her reaction are truly magnificent. I imagine that, as one poster suggested, Christine was trying to hold back laughter during that scene, but it actually made her seem even more deliciously evil, to be smiling at Shemp's possibly dying.<br /><br />Another character who helps this stand out is the Goon. His look was a great cross between horrific and comedic goof-ball. Hardly a character I would choose to meet in a dark alley or, for that matter anywhere. I would have preferred a bit of true whodunit mystery in this, but hey, when a short is this good, who's going to complain. Not I.\n",
      "\n",
      "\n",
      "This film is like an allegory of the gospel. It has such direct honesty and innocence you can not possibly believe it was made after the world war when Italy was ravaged and devastated, and was filled with a huge homeless, impoverished population. It is a monument to the best qualities of the human spirit, as well as to the endless creative resources of that land of inspiration. <br /><br />Toto is a character like Doestoevisky's \"Idiot\", a modern Christ finding his way in a big city. He is goodness and purity fortified by love, and his acts change the people he encounters, as much as the miracle working dove. The story is told in a natural manner and simple style, yet imbued with a magic that is almost a premonition of Fellini's surrealist fantasies. It is one of the most inspiring, uplifting movies ever made.\n",
      "\n",
      "\n",
      "Richard Willaims is an animation god. He was hampered in directing this film by the producer. The final product is a very uneven film with a very convoluted story, but some amazing moments of animation (like Emery Hawkins' \"Greedy\"). Joe Raposo's repetitive music doesn't help either. It was made in wide screen so the VHS doesn't show it in all it's glory, let's hope for a letterboxed DVD someday. Still it's worth watching for some eye popping animation.\n",
      "\n",
      "\n"
     ]
    }
   ],
   "source": [
    "for label in data.labels.unique():\n",
    "    print(\"negative\" if label ==  0 else \"positive\")\n",
    "    print(\"\\n\")\n",
    "    for content in data.contents[data.labels == label].sample(5):\n",
    "        print(content)\n",
    "        print(\"\\n\")"
   ]
  },
  {
   "cell_type": "code",
   "execution_count": 6,
   "id": "829a74da",
   "metadata": {},
   "outputs": [],
   "source": [
    "def filter(x):\n",
    "    return (\"Great\" in x) or (\"great\" in x)"
   ]
  },
  {
   "cell_type": "code",
   "execution_count": 7,
   "id": "ecfb0aed",
   "metadata": {},
   "outputs": [],
   "source": [
    "using_great = data[data.contents.apply(filter)].labels.value_counts()"
   ]
  },
  {
   "cell_type": "code",
   "execution_count": 8,
   "id": "d88596c1",
   "metadata": {},
   "outputs": [
    {
     "data": {
      "text/plain": [
       "25000"
      ]
     },
     "execution_count": 8,
     "metadata": {},
     "output_type": "execute_result"
    }
   ],
   "source": [
    "len(data)"
   ]
  },
  {
   "cell_type": "code",
   "execution_count": 9,
   "id": "666db27f",
   "metadata": {},
   "outputs": [
    {
     "data": {
      "text/plain": [
       "12500.0"
      ]
     },
     "execution_count": 9,
     "metadata": {},
     "output_type": "execute_result"
    }
   ],
   "source": [
    "len(data)/2"
   ]
  },
  {
   "cell_type": "code",
   "execution_count": 10,
   "id": "528aa3f2",
   "metadata": {},
   "outputs": [
    {
     "data": {
      "text/plain": [
       "4584"
      ]
     },
     "execution_count": 10,
     "metadata": {},
     "output_type": "execute_result"
    }
   ],
   "source": [
    "using_great[1]"
   ]
  },
  {
   "cell_type": "code",
   "execution_count": 14,
   "id": "20a467cf",
   "metadata": {},
   "outputs": [
    {
     "name": "stdout",
     "output_type": "stream",
     "text": [
      "0.3668 0.18376\n"
     ]
    }
   ],
   "source": [
    "p1 = 4585 / 12500\n",
    "p2 = 2297 / 12500\n",
    "print(p1, p2)"
   ]
  },
  {
   "cell_type": "code",
   "execution_count": 16,
   "id": "2598dec9",
   "metadata": {},
   "outputs": [
    {
     "name": "stdout",
     "output_type": "stream",
     "text": [
      "\n",
      "\n"
     ]
    }
   ],
   "source": [
    "print(\"\\n\")"
   ]
  },
  {
   "cell_type": "markdown",
   "id": "eff4c70b",
   "metadata": {},
   "source": [
    "We can see that just looking for the word \"great we can find\" 36% of all the data with the positive reviews. How ever this comes at the expense of finding also getting 18% of numbers that are negative. We can at basic level see that some obvious words can have an impact; but it is not that simble."
   ]
  },
  {
   "cell_type": "code",
   "execution_count": 22,
   "id": "57ea2686",
   "metadata": {},
   "outputs": [],
   "source": [
    "def print_report(y_test, prediction):\n",
    "    print('Confusion Matrix')\n",
    "    print(confusion_matrix(y_test, prediction))\n",
    "    print(\"\\n\")\n",
    "    print('Classification Report')\n",
    "    print(classification_report(y_test, prediction))\n",
    "    print(\"\\n\")\n",
    "    print(\"Other Metrics\")\n",
    "    print(f'Pression Score: {precision_score(y_test, prediction)}')\n",
    "    print(f'Accuracy Score: {accuracy_score(y_test, prediction)}')\n",
    "    print(f'Recall Score: {recall_score(y_test, prediction)}')\n",
    "    print(f'f1 Score {f1_score(y_test, prediction)}')"
   ]
  },
  {
   "cell_type": "code",
   "execution_count": 24,
   "id": "36cf3fda",
   "metadata": {},
   "outputs": [
    {
     "data": {
      "text/html": [
       "<div>\n",
       "<style scoped>\n",
       "    .dataframe tbody tr th:only-of-type {\n",
       "        vertical-align: middle;\n",
       "    }\n",
       "\n",
       "    .dataframe tbody tr th {\n",
       "        vertical-align: top;\n",
       "    }\n",
       "\n",
       "    .dataframe thead th {\n",
       "        text-align: right;\n",
       "    }\n",
       "</style>\n",
       "<table border=\"1\" class=\"dataframe\">\n",
       "  <thead>\n",
       "    <tr style=\"text-align: right;\">\n",
       "      <th></th>\n",
       "      <th>contents</th>\n",
       "      <th>labels</th>\n",
       "    </tr>\n",
       "  </thead>\n",
       "  <tbody>\n",
       "    <tr>\n",
       "      <th>0</th>\n",
       "      <td>This movie is another Christian propaganda fil...</td>\n",
       "      <td>0</td>\n",
       "    </tr>\n",
       "    <tr>\n",
       "      <th>1</th>\n",
       "      <td>A woman who hates cats (Alice Krige) and her s...</td>\n",
       "      <td>1</td>\n",
       "    </tr>\n",
       "    <tr>\n",
       "      <th>2</th>\n",
       "      <td>Beast Wars is a show that is over-hyped, overp...</td>\n",
       "      <td>0</td>\n",
       "    </tr>\n",
       "    <tr>\n",
       "      <th>3</th>\n",
       "      <td>An excellent example of \"cowboy noir\", as it's...</td>\n",
       "      <td>1</td>\n",
       "    </tr>\n",
       "    <tr>\n",
       "      <th>4</th>\n",
       "      <td>Ok, basically this is a popcorn sci-fi movie, ...</td>\n",
       "      <td>1</td>\n",
       "    </tr>\n",
       "    <tr>\n",
       "      <th>...</th>\n",
       "      <td>...</td>\n",
       "      <td>...</td>\n",
       "    </tr>\n",
       "    <tr>\n",
       "      <th>24995</th>\n",
       "      <td>Jimmy Cagney races by your eyes constantly in ...</td>\n",
       "      <td>1</td>\n",
       "    </tr>\n",
       "    <tr>\n",
       "      <th>24996</th>\n",
       "      <td>Very much a film from the times -- extremely l...</td>\n",
       "      <td>0</td>\n",
       "    </tr>\n",
       "    <tr>\n",
       "      <th>24997</th>\n",
       "      <td>The Little Mermaid is one of my absolute favor...</td>\n",
       "      <td>0</td>\n",
       "    </tr>\n",
       "    <tr>\n",
       "      <th>24998</th>\n",
       "      <td>With a simplistic story and an engaging heroin...</td>\n",
       "      <td>1</td>\n",
       "    </tr>\n",
       "    <tr>\n",
       "      <th>24999</th>\n",
       "      <td>The 63 year reign of Queen Victoria is perhaps...</td>\n",
       "      <td>1</td>\n",
       "    </tr>\n",
       "  </tbody>\n",
       "</table>\n",
       "<p>25000 rows × 2 columns</p>\n",
       "</div>"
      ],
      "text/plain": [
       "                                                contents  labels\n",
       "0      This movie is another Christian propaganda fil...       0\n",
       "1      A woman who hates cats (Alice Krige) and her s...       1\n",
       "2      Beast Wars is a show that is over-hyped, overp...       0\n",
       "3      An excellent example of \"cowboy noir\", as it's...       1\n",
       "4      Ok, basically this is a popcorn sci-fi movie, ...       1\n",
       "...                                                  ...     ...\n",
       "24995  Jimmy Cagney races by your eyes constantly in ...       1\n",
       "24996  Very much a film from the times -- extremely l...       0\n",
       "24997  The Little Mermaid is one of my absolute favor...       0\n",
       "24998  With a simplistic story and an engaging heroin...       1\n",
       "24999  The 63 year reign of Queen Victoria is perhaps...       1\n",
       "\n",
       "[25000 rows x 2 columns]"
      ]
     },
     "execution_count": 24,
     "metadata": {},
     "output_type": "execute_result"
    }
   ],
   "source": [
    "data"
   ]
  },
  {
   "cell_type": "code",
   "execution_count": null,
   "id": "453d3965",
   "metadata": {},
   "outputs": [],
   "source": [
    "count_vectorizer = CountVectorizer()"
   ]
  }
 ],
 "metadata": {
  "kernelspec": {
   "display_name": "Python 3",
   "language": "python",
   "name": "python3"
  },
  "language_info": {
   "codemirror_mode": {
    "name": "ipython",
    "version": 3
   },
   "file_extension": ".py",
   "mimetype": "text/x-python",
   "name": "python",
   "nbconvert_exporter": "python",
   "pygments_lexer": "ipython3",
   "version": "3.8.8"
  }
 },
 "nbformat": 4,
 "nbformat_minor": 5
}
