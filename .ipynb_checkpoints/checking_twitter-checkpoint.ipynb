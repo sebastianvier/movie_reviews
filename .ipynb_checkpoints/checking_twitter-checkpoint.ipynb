{
 "cells": [
  {
   "cell_type": "code",
   "execution_count": 5,
   "id": "0e91b9a5",
   "metadata": {},
   "outputs": [],
   "source": [
    "# Libraries\n",
    "# Python basic libraries\n",
    "import os\n",
    "import re\n",
    "from collections import Counter\n",
    "import time\n",
    "\n",
    "\n",
    "import pandas as pd\n",
    "import numpy as np\n",
    "import joblib"
   ]
  },
  {
   "cell_type": "code",
   "execution_count": 68,
   "id": "f83fa91f",
   "metadata": {},
   "outputs": [],
   "source": [
    "path = \"data/\"\n",
    "data = pd.read_csv(path+'twitter.csv')\n",
    "data.columns = [\"labels\", \"numbers\", \"dates\", \"querys\", \"users\", \"comments\"]"
   ]
  },
  {
   "cell_type": "code",
   "execution_count": 7,
   "id": "81bd9c7b",
   "metadata": {},
   "outputs": [],
   "source": [
    "## importing model\n",
    "model_1 = joblib.load(\"exctracted_data/clf_mnb_1.sav\")\n",
    "vectorizer_1 = joblib.load(\"exctracted_data/cv_mnb_1.sav\")"
   ]
  },
  {
   "cell_type": "code",
   "execution_count": 9,
   "id": "eda42f47",
   "metadata": {},
   "outputs": [
    {
     "data": {
      "text/plain": [
       "4    800000\n",
       "0    799999\n",
       "Name: label, dtype: int64"
      ]
     },
     "execution_count": 9,
     "metadata": {},
     "output_type": "execute_result"
    }
   ],
   "source": [
    "data.label.value_counts()"
   ]
  },
  {
   "cell_type": "code",
   "execution_count": 150,
   "id": "ae9aa1c6",
   "metadata": {},
   "outputs": [],
   "source": [
    "samples = data.sample(20)[[\"labels\",\"comments\"]]"
   ]
  },
  {
   "cell_type": "code",
   "execution_count": 142,
   "id": "65572221",
   "metadata": {},
   "outputs": [],
   "source": [
    "human_answers = []\n",
    "predictions = []\n",
    "labels = []\n",
    "comments = []\n",
    "\n",
    "def add_label(sample):\n",
    "    if sample.labels == 4:\n",
    "        labels.append(1)\n",
    "    elif sample.labels == 0: \n",
    "        labels.append(0)\n",
    "\n",
    "def add_prediction(sample):\n",
    "    sample_vectorized = vectorizer_1.transform([sample.comments])\n",
    "    prediction = model_1.predict(sample_vectorized)\n",
    "    predictions.append(prediction[0])\n",
    "\n",
    "def add_human_answer(sample):\n",
    "    print(sample.comments)\n",
    "    answer = input(\"Do you think this message is pos:p ; neg:n ; not_sure:u\")\n",
    "    \n",
    "    if answer == \"n\":\n",
    "        human_answers.append(0)\n",
    "    elif answer == \"p\":\n",
    "        human_answers.append(1)\n",
    "    else:\n",
    "        human_answers.append(0.5)"
   ]
  },
  {
   "cell_type": "code",
   "execution_count": 151,
   "id": "102e1e3b",
   "metadata": {
    "scrolled": true
   },
   "outputs": [
    {
     "name": "stdout",
     "output_type": "stream",
     "text": [
      "@osohollywood im at home, about to go to bed. my social life is going down hill \n",
      "Do you think this message is pos:p ; neg:n ; not_sure:un\n",
      "Ugh, these ones are dead old...  guess i'll stick some musak on...\n",
      "Do you think this message is pos:p ; neg:n ; not_sure:un\n",
      "hi, what a glorious day. shame my garden looks like its been in the middle of the blitz, no where to sit \n",
      "Do you think this message is pos:p ; neg:n ; not_sure:uu\n",
      "@lumalfoy It sure is nobody is safe from it that is why i donated for Jade i think it is wonderfull young people get involved!!!!  XX\n",
      "Do you think this message is pos:p ; neg:n ; not_sure:up\n",
      "new post tomorrow...our breastfeeding journey is ending \n",
      "Do you think this message is pos:p ; neg:n ; not_sure:up\n"
     ]
    }
   ],
   "source": [
    "for i in range(5):\n",
    "    sample = samples.iloc[i]\n",
    "    comments.append(sample.comments)\n",
    "    add_label(sample)\n",
    "    add_prediction(sample)\n",
    "    add_human_answer(sample)"
   ]
  },
  {
   "cell_type": "code",
   "execution_count": 144,
   "id": "632f018a",
   "metadata": {},
   "outputs": [
    {
     "data": {
      "text/plain": [
       "[1, 0, 0, 0, 1]"
      ]
     },
     "execution_count": 144,
     "metadata": {},
     "output_type": "execute_result"
    }
   ],
   "source": [
    "labels"
   ]
  },
  {
   "cell_type": "code",
   "execution_count": 152,
   "id": "a95f5ff4",
   "metadata": {},
   "outputs": [],
   "source": [
    "result_df = pd.DataFrame({\n",
    "    \"human_answer\" : human_answers,\n",
    "    \"prediction\" : predictions,\n",
    "    \"label\" : labels,\n",
    "    \"comment\" : comments\n",
    "})"
   ]
  },
  {
   "cell_type": "code",
   "execution_count": 153,
   "id": "2305b944",
   "metadata": {},
   "outputs": [
    {
     "data": {
      "text/html": [
       "<div>\n",
       "<style scoped>\n",
       "    .dataframe tbody tr th:only-of-type {\n",
       "        vertical-align: middle;\n",
       "    }\n",
       "\n",
       "    .dataframe tbody tr th {\n",
       "        vertical-align: top;\n",
       "    }\n",
       "\n",
       "    .dataframe thead th {\n",
       "        text-align: right;\n",
       "    }\n",
       "</style>\n",
       "<table border=\"1\" class=\"dataframe\">\n",
       "  <thead>\n",
       "    <tr style=\"text-align: right;\">\n",
       "      <th></th>\n",
       "      <th>human_answer</th>\n",
       "      <th>prediction</th>\n",
       "      <th>label</th>\n",
       "      <th>comment</th>\n",
       "    </tr>\n",
       "  </thead>\n",
       "  <tbody>\n",
       "    <tr>\n",
       "      <th>0</th>\n",
       "      <td>0.5</td>\n",
       "      <td>0</td>\n",
       "      <td>1</td>\n",
       "      <td>Had some nice cut mango</td>\n",
       "    </tr>\n",
       "    <tr>\n",
       "      <th>1</th>\n",
       "      <td>0.0</td>\n",
       "      <td>1</td>\n",
       "      <td>0</td>\n",
       "      <td>Its to early for me to be up on a saturday mor...</td>\n",
       "    </tr>\n",
       "    <tr>\n",
       "      <th>2</th>\n",
       "      <td>1.0</td>\n",
       "      <td>0</td>\n",
       "      <td>0</td>\n",
       "      <td>Going to bed early + reviewing my spanish</td>\n",
       "    </tr>\n",
       "    <tr>\n",
       "      <th>3</th>\n",
       "      <td>0.0</td>\n",
       "      <td>0</td>\n",
       "      <td>0</td>\n",
       "      <td>@4fthawaiian Boo! That sucks.</td>\n",
       "    </tr>\n",
       "    <tr>\n",
       "      <th>4</th>\n",
       "      <td>0.5</td>\n",
       "      <td>1</td>\n",
       "      <td>1</td>\n",
       "      <td>@knitmeapony Happy birthday! I hear 29 is the ...</td>\n",
       "    </tr>\n",
       "    <tr>\n",
       "      <th>5</th>\n",
       "      <td>0.0</td>\n",
       "      <td>0</td>\n",
       "      <td>0</td>\n",
       "      <td>@osohollywood im at home, about to go to bed. ...</td>\n",
       "    </tr>\n",
       "    <tr>\n",
       "      <th>6</th>\n",
       "      <td>0.0</td>\n",
       "      <td>0</td>\n",
       "      <td>0</td>\n",
       "      <td>Ugh, these ones are dead old...  guess i'll st...</td>\n",
       "    </tr>\n",
       "    <tr>\n",
       "      <th>7</th>\n",
       "      <td>0.5</td>\n",
       "      <td>0</td>\n",
       "      <td>0</td>\n",
       "      <td>hi, what a glorious day. shame my garden looks...</td>\n",
       "    </tr>\n",
       "    <tr>\n",
       "      <th>8</th>\n",
       "      <td>1.0</td>\n",
       "      <td>1</td>\n",
       "      <td>1</td>\n",
       "      <td>@lumalfoy It sure is nobody is safe from it th...</td>\n",
       "    </tr>\n",
       "    <tr>\n",
       "      <th>9</th>\n",
       "      <td>1.0</td>\n",
       "      <td>1</td>\n",
       "      <td>0</td>\n",
       "      <td>new post tomorrow...our breastfeeding journey ...</td>\n",
       "    </tr>\n",
       "  </tbody>\n",
       "</table>\n",
       "</div>"
      ],
      "text/plain": [
       "   human_answer  prediction  label  \\\n",
       "0           0.5           0      1   \n",
       "1           0.0           1      0   \n",
       "2           1.0           0      0   \n",
       "3           0.0           0      0   \n",
       "4           0.5           1      1   \n",
       "5           0.0           0      0   \n",
       "6           0.0           0      0   \n",
       "7           0.5           0      0   \n",
       "8           1.0           1      1   \n",
       "9           1.0           1      0   \n",
       "\n",
       "                                             comment  \n",
       "0                           Had some nice cut mango   \n",
       "1  Its to early for me to be up on a saturday mor...  \n",
       "2         Going to bed early + reviewing my spanish   \n",
       "3                     @4fthawaiian Boo! That sucks.   \n",
       "4  @knitmeapony Happy birthday! I hear 29 is the ...  \n",
       "5  @osohollywood im at home, about to go to bed. ...  \n",
       "6  Ugh, these ones are dead old...  guess i'll st...  \n",
       "7  hi, what a glorious day. shame my garden looks...  \n",
       "8  @lumalfoy It sure is nobody is safe from it th...  \n",
       "9  new post tomorrow...our breastfeeding journey ...  "
      ]
     },
     "execution_count": 153,
     "metadata": {},
     "output_type": "execute_result"
    }
   ],
   "source": [
    "result_df"
   ]
  },
  {
   "cell_type": "code",
   "execution_count": null,
   "id": "d319e321",
   "metadata": {},
   "outputs": [],
   "source": [
    "# path = 'exctracted_data/'\n",
    "# name = 'result.csv'\n",
    "# result_df.to_csv(path+name, index=False)"
   ]
  }
 ],
 "metadata": {
  "kernelspec": {
   "display_name": "Python 3",
   "language": "python",
   "name": "python3"
  },
  "language_info": {
   "codemirror_mode": {
    "name": "ipython",
    "version": 3
   },
   "file_extension": ".py",
   "mimetype": "text/x-python",
   "name": "python",
   "nbconvert_exporter": "python",
   "pygments_lexer": "ipython3",
   "version": "3.8.8"
  }
 },
 "nbformat": 4,
 "nbformat_minor": 5
}
