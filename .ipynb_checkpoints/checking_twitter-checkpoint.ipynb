{
 "cells": [
  {
   "cell_type": "code",
   "execution_count": null,
   "id": "0e91b9a5",
   "metadata": {},
   "outputs": [],
   "source": [
    "# Libraries\n",
    "import pandas as pd\n",
    "import numpy as np\n",
    "import joblib"
   ]
  },
  {
   "cell_type": "code",
   "execution_count": null,
   "id": "8ff0b2f9",
   "metadata": {},
   "outputs": [],
   "source": [
    "# Import data and modules"
   ]
  },
  {
   "cell_type": "code",
   "execution_count": null,
   "id": "65572221",
   "metadata": {},
   "outputs": [],
   "source": [
    "human_answer = []\n",
    "prediction = []\n",
    "label = []"
   ]
  },
  {
   "cell_type": "code",
   "execution_count": null,
   "id": "a95f5ff4",
   "metadata": {},
   "outputs": [],
   "source": [
    "result_df = "
   ]
  },
  {
   "cell_type": "code",
   "execution_count": 1,
   "id": "6b7c03fe",
   "metadata": {},
   "outputs": [
    {
     "name": "stdout",
     "output_type": "stream",
     "text": [
      "\u001b[34mMultinomial_Naive_Bayes\u001b[m\u001b[m               \u001b[34mexctracted_data\u001b[m\u001b[m\r\n",
      "README.md                             functions.py\r\n",
      "\u001b[34mSVM_models\u001b[m\u001b[m                            multinomial_bayes_with_tfidf.ipynb\r\n",
      "\u001b[34m__pycache__\u001b[m\u001b[m                           multinominal_naive_bayes_models.ipynb\r\n",
      "adding_spacy_mnb.ipynb                running_folds.ipynb\r\n",
      "checking_twitter.ipynb                testing_MNB_on_other_data.ipynb\r\n",
      "\u001b[34mdata\u001b[m\u001b[m                                  understanding_models.ipynb\r\n"
     ]
    }
   ],
   "source": [
    "! ls"
   ]
  },
  {
   "cell_type": "code",
   "execution_count": null,
   "id": "d319e321",
   "metadata": {},
   "outputs": [],
   "source": [
    "path = 'exctracted_data/'\n",
    "name = 'result.csv'\n",
    "result_df.to_csv(path+name, index=False)"
   ]
  }
 ],
 "metadata": {
  "kernelspec": {
   "display_name": "Python 3",
   "language": "python",
   "name": "python3"
  },
  "language_info": {
   "codemirror_mode": {
    "name": "ipython",
    "version": 3
   },
   "file_extension": ".py",
   "mimetype": "text/x-python",
   "name": "python",
   "nbconvert_exporter": "python",
   "pygments_lexer": "ipython3",
   "version": "3.8.8"
  }
 },
 "nbformat": 4,
 "nbformat_minor": 5
}
