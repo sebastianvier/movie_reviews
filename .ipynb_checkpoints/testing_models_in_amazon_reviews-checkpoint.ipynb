{
 "cells": [
  {
   "cell_type": "code",
   "execution_count": 2,
   "id": "a7c82bff",
   "metadata": {},
   "outputs": [],
   "source": [
    "## Python in build modules:\n",
    "import os\n",
    "import re\n",
    "import csv\n",
    "import sys\n",
    "\n",
    "## EDA libraries\n",
    "import numpy as np\n",
    "import pandas as pd\n",
    "import matplotlib.pyplot as plt\n",
    "%matplotlib inline\n",
    "import seaborn as sns\n",
    "\n",
    "## Metrics (sklearn)\n",
    "from sklearn.metrics import confusion_matrix, classification_report\n",
    "from sklearn.metrics import recall_score, precision_score, f1_score, accuracy_score\n",
    "\n",
    "## Models (sklearn)\n",
    "from sklearn.model_selection import train_test_split\n",
    "\n",
    "## Other libraries\n",
    "import joblib\n",
    "\n",
    "\n",
    "## My own functions\n",
    "sys.path.append(\"/Users/sebastianvier/Documents/code/movie_reviews\")\n",
    "from functions import print_report, check_model, vectorize_X\n",
    "sys.path.append(\"/Users/sebastianvier/Documents/code/movie_reviews/SVM_models\")"
   ]
  },
  {
   "cell_type": "code",
   "execution_count": 2,
   "id": "15a228e7",
   "metadata": {},
   "outputs": [],
   "source": [
    "with open(\"data/amazon_review.txt\", \"r\") as f:\n",
    "    amazon_lines =  list(f.readlines())"
   ]
  },
  {
   "cell_type": "code",
   "execution_count": 3,
   "id": "5a708641",
   "metadata": {},
   "outputs": [],
   "source": [
    "def spliter(x):\n",
    "    return x.split(\":\", 1)\n",
    "\n",
    "title = []\n",
    "comment = []\n",
    "label = []\n",
    "for line in amazon_lines:\n",
    "    full_info = line[11:].split(\":\",1)\n",
    "    title.append(full_info[0])\n",
    "    comment.append(full_info[1])\n",
    "    if line[:10] == '__label__1':\n",
    "        label.append(0)\n",
    "    elif line[:10] == '__label__2':\n",
    "        label.append(1)\n",
    "        \n",
    "amazon_rev = pd.DataFrame({\n",
    "    \"title\"   : title,\n",
    "    \"contents\" : comment,\n",
    "    \"labels\"   : label,\n",
    "    \n",
    "})"
   ]
  },
  {
   "cell_type": "code",
   "execution_count": 4,
   "id": "5328e4ae",
   "metadata": {},
   "outputs": [],
   "source": [
    "path = \"exctracted_data/\"\n",
    "clf_mnb_1 = joblib.load(path + \"clf_mnb_1.sav\")\n",
    "cv_mnb_1  = joblib.load(path + \"cv_mnb_1.sav\")\n",
    "clf_svm_1 = joblib.load(path + \"clf_svm_1.sav\")\n",
    "cv_svm_1  = joblib.load(path + \"cv_svm_1.sav\")\n",
    "clf_svm_2 = joblib.load(path + \"clf_svm_2.sav\")\n",
    "cv_svm_2  = joblib.load(path + \"cv_svm_2.sav\")"
   ]
  },
  {
   "cell_type": "code",
   "execution_count": 6,
   "id": "182de46d",
   "metadata": {},
   "outputs": [],
   "source": [
    "amz_8k1 = amazon_rev[:8000]\n",
    "amz_8k1_X = amz_8k1.contents\n",
    "amz_8k1_y = amz_8k1.labels"
   ]
  },
  {
   "cell_type": "code",
   "execution_count": 12,
   "id": "9d346232",
   "metadata": {},
   "outputs": [
    {
     "data": {
      "text/plain": [
       "\" A complete waste of time. Typographical errors, poor grammar, and a totally pathetic plot add up to absolutely nothing. I'm embarrassed for this author and very disappointed I actually paid for this book.\\n\""
      ]
     },
     "execution_count": 12,
     "metadata": {},
     "output_type": "execute_result"
    }
   ],
   "source": [
    "amz_8k1_X[10]"
   ]
  },
  {
   "cell_type": "code",
   "execution_count": 10,
   "id": "63a1beca",
   "metadata": {},
   "outputs": [],
   "source": [
    "def calculate_scores(X,y,cv,clf):\n",
    "    ## Vectorize\n",
    "    X_vectorized = cv.transform(X)\n",
    "    \n",
    "    ## Predict\n",
    "    prediction = clf.predict(X_vectorized)\n",
    "    \n",
    "    ## Get scores\n",
    "    print_report(y, prediction)"
   ]
  },
  {
   "cell_type": "code",
   "execution_count": 11,
   "id": "281dbd33",
   "metadata": {
    "scrolled": true
   },
   "outputs": [
    {
     "name": "stdout",
     "output_type": "stream",
     "text": [
      "Confusion Matrix\n",
      "[[3488  609]\n",
      " [ 789 3114]]\n",
      "\n",
      "\n",
      "Classification Report\n",
      "              precision    recall  f1-score   support\n",
      "\n",
      "           0       0.82      0.85      0.83      4097\n",
      "           1       0.84      0.80      0.82      3903\n",
      "\n",
      "    accuracy                           0.83      8000\n",
      "   macro avg       0.83      0.82      0.82      8000\n",
      "weighted avg       0.83      0.83      0.83      8000\n",
      "\n",
      "\n",
      "\n",
      "Other Metrics:\n",
      "Pression Score: 0.8364222401289283\n",
      "Accuracy Score: 0.82525\n",
      "Recall Score: 0.797847809377402\n",
      "f1 Score 0.8166797797010228\n"
     ]
    }
   ],
   "source": [
    "## First try model 1\n",
    "calculate_scores(amz_8k1_X, amz_8k1_y, cv_mnb_1, clf_mnb_1)"
   ]
  },
  {
   "cell_type": "code",
   "execution_count": 14,
   "id": "b71da1ca",
   "metadata": {},
   "outputs": [
    {
     "name": "stdout",
     "output_type": "stream",
     "text": [
      "Confusion Matrix\n",
      "[[3138  959]\n",
      " [ 773 3130]]\n",
      "\n",
      "\n",
      "Classification Report\n",
      "              precision    recall  f1-score   support\n",
      "\n",
      "           0       0.80      0.77      0.78      4097\n",
      "           1       0.77      0.80      0.78      3903\n",
      "\n",
      "    accuracy                           0.78      8000\n",
      "   macro avg       0.78      0.78      0.78      8000\n",
      "weighted avg       0.78      0.78      0.78      8000\n",
      "\n",
      "\n",
      "\n",
      "Other Metrics:\n",
      "Pression Score: 0.7654683296649547\n",
      "Accuracy Score: 0.7835\n",
      "Recall Score: 0.8019472200871125\n",
      "f1 Score 0.7832832832832833\n"
     ]
    }
   ],
   "source": [
    "## First try model 2\n",
    "calculate_scores(amz_8k1_X, amz_8k1_y, cv_svm_1, clf_svm_1)"
   ]
  },
  {
   "cell_type": "code",
   "execution_count": 15,
   "id": "357454ce",
   "metadata": {
    "scrolled": true
   },
   "outputs": [
    {
     "name": "stdout",
     "output_type": "stream",
     "text": [
      "Confusion Matrix\n",
      "[[3220  877]\n",
      " [ 545 3358]]\n",
      "\n",
      "\n",
      "Classification Report\n",
      "              precision    recall  f1-score   support\n",
      "\n",
      "           0       0.86      0.79      0.82      4097\n",
      "           1       0.79      0.86      0.83      3903\n",
      "\n",
      "    accuracy                           0.82      8000\n",
      "   macro avg       0.82      0.82      0.82      8000\n",
      "weighted avg       0.82      0.82      0.82      8000\n",
      "\n",
      "\n",
      "\n",
      "Other Metrics:\n",
      "Pression Score: 0.7929161747343566\n",
      "Accuracy Score: 0.82225\n",
      "Recall Score: 0.8603638227004868\n",
      "f1 Score 0.8252641926763332\n"
     ]
    }
   ],
   "source": [
    "## First try model 3\n",
    "calculate_scores(amz_8k1_X, amz_8k1_y, cv_svm_2, clf_svm_2)"
   ]
  },
  {
   "cell_type": "code",
   "execution_count": 17,
   "id": "170779ac",
   "metadata": {},
   "outputs": [],
   "source": [
    "amz_8k1 = amazon_rev[8000:16000]\n",
    "amz_8k1_X = amz_8k1.contents\n",
    "amz_8k1_y = amz_8k1.labels"
   ]
  },
  {
   "cell_type": "code",
   "execution_count": 19,
   "id": "2907076f",
   "metadata": {},
   "outputs": [
    {
     "name": "stdout",
     "output_type": "stream",
     "text": [
      "Confusion Matrix\n",
      "[[3238  647]\n",
      " [ 846 3269]]\n",
      "\n",
      "\n",
      "Classification Report\n",
      "              precision    recall  f1-score   support\n",
      "\n",
      "           0       0.79      0.83      0.81      3885\n",
      "           1       0.83      0.79      0.81      4115\n",
      "\n",
      "    accuracy                           0.81      8000\n",
      "   macro avg       0.81      0.81      0.81      8000\n",
      "weighted avg       0.81      0.81      0.81      8000\n",
      "\n",
      "\n",
      "\n",
      "Other Metrics:\n",
      "Pression Score: 0.8347803881511746\n",
      "Accuracy Score: 0.813375\n",
      "Recall Score: 0.7944106925880924\n",
      "f1 Score 0.8140953804009464\n"
     ]
    }
   ],
   "source": [
    "## Second try model 1\n",
    "calculate_scores(amz_8k1_X, amz_8k1_y, cv_mnb_1, clf_mnb_1)"
   ]
  },
  {
   "cell_type": "code",
   "execution_count": 20,
   "id": "0d6f331f",
   "metadata": {},
   "outputs": [
    {
     "name": "stdout",
     "output_type": "stream",
     "text": [
      "Confusion Matrix\n",
      "[[2889  996]\n",
      " [ 744 3371]]\n",
      "\n",
      "\n",
      "Classification Report\n",
      "              precision    recall  f1-score   support\n",
      "\n",
      "           0       0.80      0.74      0.77      3885\n",
      "           1       0.77      0.82      0.79      4115\n",
      "\n",
      "    accuracy                           0.78      8000\n",
      "   macro avg       0.78      0.78      0.78      8000\n",
      "weighted avg       0.78      0.78      0.78      8000\n",
      "\n",
      "\n",
      "\n",
      "Other Metrics:\n",
      "Pression Score: 0.7719258071902908\n",
      "Accuracy Score: 0.7825\n",
      "Recall Score: 0.8191980558930742\n",
      "f1 Score 0.7948597029002595\n"
     ]
    }
   ],
   "source": [
    "## Second try model 2\n",
    "calculate_scores(amz_8k1_X, amz_8k1_y, cv_svm_1, clf_svm_1)"
   ]
  },
  {
   "cell_type": "code",
   "execution_count": 18,
   "id": "fba6bec4",
   "metadata": {
    "scrolled": true
   },
   "outputs": [
    {
     "name": "stdout",
     "output_type": "stream",
     "text": [
      "Confusion Matrix\n",
      "[[2961  924]\n",
      " [ 606 3509]]\n",
      "\n",
      "\n",
      "Classification Report\n",
      "              precision    recall  f1-score   support\n",
      "\n",
      "           0       0.83      0.76      0.79      3885\n",
      "           1       0.79      0.85      0.82      4115\n",
      "\n",
      "    accuracy                           0.81      8000\n",
      "   macro avg       0.81      0.81      0.81      8000\n",
      "weighted avg       0.81      0.81      0.81      8000\n",
      "\n",
      "\n",
      "\n",
      "Other Metrics:\n",
      "Pression Score: 0.7915632754342432\n",
      "Accuracy Score: 0.80875\n",
      "Recall Score: 0.85273390036452\n",
      "f1 Score 0.8210107627515209\n"
     ]
    }
   ],
   "source": [
    "## Second try model 3\n",
    "calculate_scores(amz_8k1_X, amz_8k1_y, cv_svm_2, clf_svm_2)"
   ]
  },
  {
   "cell_type": "code",
   "execution_count": 29,
   "id": "1a346b7f",
   "metadata": {},
   "outputs": [],
   "source": [
    "def pseudo_folds(X,y,cv, clf):\n",
    "    scores = []\n",
    "    for num in range(0,20000, 4000):\n",
    "    \n",
    "        X_split = X[num : num + 4000]\n",
    "        y_split = y[num : num + 4000]\n",
    "\n",
    "        ## Vectorize\n",
    "        X_vectorized = cv.transform(X_split)\n",
    "\n",
    "        ## Predict\n",
    "        prediction = clf.predict(X_vectorized)\n",
    "\n",
    "        ## Get scores\n",
    "        score = f1_score(y_split, prediction)\n",
    "        scores.append(score)\n",
    "    scores = np.array(scores)\n",
    "    print(scores.mean())\n",
    "    print(scores.std())"
   ]
  },
  {
   "cell_type": "code",
   "execution_count": 25,
   "id": "e81b2d47",
   "metadata": {},
   "outputs": [],
   "source": [
    "X = amazon_rev.contents\n",
    "y = amazon_rev.labels"
   ]
  },
  {
   "cell_type": "code",
   "execution_count": 30,
   "id": "02bf7e81",
   "metadata": {},
   "outputs": [
    {
     "name": "stdout",
     "output_type": "stream",
     "text": [
      "0.8175788579191037\n",
      "0.013124354411699552\n"
     ]
    }
   ],
   "source": [
    "# Pseudo Folds on model 1\n",
    "pseudo_folds(X, y, cv_mnb_1, clf_mnb_1)"
   ]
  },
  {
   "cell_type": "code",
   "execution_count": 31,
   "id": "f27456bc",
   "metadata": {},
   "outputs": [
    {
     "name": "stdout",
     "output_type": "stream",
     "text": [
      "0.793489635655307\n",
      "0.01498045688262852\n"
     ]
    }
   ],
   "source": [
    "# Pseudo Folds on model 2\n",
    "pseudo_folds(X, y, cv_svm_1, clf_svm_1)"
   ]
  },
  {
   "cell_type": "code",
   "execution_count": 32,
   "id": "1d777eba",
   "metadata": {},
   "outputs": [
    {
     "name": "stdout",
     "output_type": "stream",
     "text": [
      "0.8279218329538967\n",
      "0.015305042756373984\n"
     ]
    }
   ],
   "source": [
    "# Pseudo Folds on model 3\n",
    "pseudo_folds(X, y, cv_svm_2, clf_svm_2)"
   ]
  }
 ],
 "metadata": {
  "kernelspec": {
   "display_name": "Python 3",
   "language": "python",
   "name": "python3"
  },
  "language_info": {
   "codemirror_mode": {
    "name": "ipython",
    "version": 3
   },
   "file_extension": ".py",
   "mimetype": "text/x-python",
   "name": "python",
   "nbconvert_exporter": "python",
   "pygments_lexer": "ipython3",
   "version": "3.8.8"
  }
 },
 "nbformat": 4,
 "nbformat_minor": 5
}
