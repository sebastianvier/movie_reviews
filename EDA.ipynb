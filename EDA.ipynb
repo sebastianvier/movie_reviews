{
 "cells": [
  {
   "cell_type": "code",
   "execution_count": 1,
   "id": "e0004469",
   "metadata": {},
   "outputs": [],
   "source": [
    "## Python in build modules:\n",
    "import os\n",
    "import re\n",
    "\n",
    "\n",
    "\n",
    "## EDA libraries\n",
    "import numpy as np\n",
    "import pandas as pd\n",
    "import matplotlib.pyplot as plt\n",
    "%matplotlib inline\n",
    "import seaborn as sns"
   ]
  },
  {
   "cell_type": "code",
   "execution_count": 23,
   "id": "023d4b44",
   "metadata": {},
   "outputs": [
    {
     "name": "stdout",
     "output_type": "stream",
     "text": [
      "25000\n"
     ]
    }
   ],
   "source": [
    "path = 'data/train/'\n",
    "\n",
    "count = 0\n",
    "labels = []\n",
    "contents = []\n",
    "\n",
    "for label in ['neg','pos']:\n",
    "    filenames = os.listdir(path + label)\n",
    "    for filename in filenames:\n",
    "        count += 1\n",
    "        with open(os.path.join(path, label, filename), 'r') as f:\n",
    "            labels.append(1 if label == 'pos' else 0)\n",
    "            contents.append(f.read())\n",
    "print(count)\n",
    "            \n",
    "data = pd.DataFrame({\n",
    "    'contents' : contents,\n",
    "    'labels': labels,\n",
    "\n",
    "})\n",
    "\n",
    "data = data.sample(frac=1, random_state=42).reset_index(drop=True)"
   ]
  },
  {
   "cell_type": "markdown",
   "id": "a9ba9aa5",
   "metadata": {},
   "source": [
    "#### Just to be clear negative is 0 and positive is 1"
   ]
  },
  {
   "cell_type": "code",
   "execution_count": 29,
   "id": "b6932204",
   "metadata": {},
   "outputs": [
    {
     "data": {
      "text/plain": [
       "0    12500\n",
       "1    12500\n",
       "Name: labels, dtype: int64"
      ]
     },
     "execution_count": 29,
     "metadata": {},
     "output_type": "execute_result"
    }
   ],
   "source": [
    "data.labels.value_counts()"
   ]
  },
  {
   "cell_type": "markdown",
   "id": "a7413383",
   "metadata": {},
   "source": [
    "Ok, the data is **completely balanced**."
   ]
  },
  {
   "cell_type": "markdown",
   "id": "3776b803",
   "metadata": {},
   "source": [
    " ###### At this moment we are going to see 5 examples of each column"
   ]
  },
  {
   "cell_type": "code",
   "execution_count": 39,
   "id": "aea7d5ea",
   "metadata": {},
   "outputs": [
    {
     "name": "stdout",
     "output_type": "stream",
     "text": [
      "negative\n",
      "\n",
      "\n",
      "I was skeptical when I first saw the Calvin Kline-esque commercials, but thought I'd give it a chance. So I've watched it, and all I can say is bleh. This movie was so bad. It's rare that I hate a movie this much. Watching this flick reminded me of those funny scenes in Altman's \"The Player,\" when the writers pitch their bizarre ideas to producers. I'd like to know which MTV producer decided that an hour and a half long music video adaptation of Bronte (but this time Heathcliff's name is Heath and he's a rock star, and Hindley's name is Hendrix) would be a good idea.<br /><br />Even that might not have been so bad, had they not gotten every other aspect of the film so horrible wrong as well. The direction must have been \"you're lonely, pout for me.\" I laughed out loud during all the \"serious\" scenes and was bored throughout the rest. The camera work was jagged and repeatedly reminded me that I was watching a bad movie trying to be edgy. My theory is that the sound guy got bored and went down to the beach for a few beers with his boom -- all I could hear in half the scenes were the waves. And in the other scenes, I wish that's all I could hear. And speaking of sound, what they did to the Sisters of Mercy song \"More\" is absolutely inexcusable, then again, it's inexcusable what they did to Bronte.<br /><br />On the bright side, there was one entertaining scene -- specifically the moment when Johnny Whitworth licked Katherine Heigl's face -- and if you can tell me what that scene had to do with all the rest of the story more power to you.\n",
      "\n",
      "\n",
      "Take \"Rambo,\" mix in some \"Miami Vice,\" slice the budget about 80%, and you've got something that a few ten-year-old boys could come up with if they have a big enough backyard & too much access to \"Penthouse.\" Cop and ex-commando McBain (Busey, and with a name like McBain, you know he's as gritty as they come) is recruited to retrieve an American supertank that has been stolen & hidden in Mexico. Captured with the tank were hardbitten Sgt. Major O'Rourke (Jones) & McBain's former love Devon (Fluegel), the officer in command & now meat for the depraved terrorists/spies/drug peddlers, who have no sense of decency, blah, blah, blah. For an action movie with depraved sex, there's a dearth of action and not much sex. The running joke is that McBain gets shot all the time & survives, keeping the bullets as souvenirs. Apparently the writers didn't see \"The Magnificent Seven\" (\"The man for us is the one who GAVE him that face\"), nor thought to give McBain even a pretense of intelligence. Even for a budget actioner, the production values are poor, with distant shots during dialog and very little movement. The main prop, the tank, is silly enough for an Ed Wood production. Fluegel, who might have been a blonde Julia Roberts (she had a far bigger role in \"Crime Story\" than Julia!) has to go from simpering to frightened to butt-kicking & back again on an instant's notice. Jones, who's been in an amazing array of films, pretty much hits bottom right here. Both he & Busey were probably just out for some easy money & a couple of laughs. Look for talented, future character actor Danny Trejo (\"Heat,\" \"Once Upon a Time in Mexico\") in a stereotyped, menacing bit part. Much too dull even for a guilty pleasure, \"Bulletproof\" is still noisy enough to play when you leave your house but want people to think there's someone home.\n",
      "\n",
      "\n",
      "There's nothing new for me to say: 4 hours of people dying over and over in the same hill. The cast was stellar, but unfortunately the producer/director/editor/God goofed. He should have eaten humble pie (if not for his own sake then for the men who died in Kargil), hired one of these brilliant Bollywood directors, hired a real scriptwriter, hired a real editor, hired a musician that wasn't related to him in some way (and who seemed to have listened to some bad version of \"Apocalypse Now\" on some cheap Indian drug), hired a real professional crew, thrown away all the fireworks and told a real story. Unfortunately he, like the bigwigs of the Indian Army, made decisions that were terrible for his actors, and terrible for his audience. We all died over and over. <br /><br />Please don't do that again, Sir! Sushma Kathmandu, Nepal<br /><br />ps: Next time an Indian director decides to glorify the Gurkha regiment, I suggest he hire more than one Nepali to represent the team. Surely there are plenty of Nepali men working in Bombay--last count was 40,000 to half a million.\n",
      "\n",
      "\n",
      "The original exploitation classic-though far from enjoyable on almost any level concerning some guys who turn cats into human flesh eating monsters because the cat food they make is made with people is remade with scifi elements added. The cats can't get enough and when the flesh tainted food runs out the cats turn on their owners. Poorly put together on almost every level this is an example of the absolute bottom of the barrel material that used to actually play movie theaters in the early 1970's updated with alien cat and dog races battling for supremacy. Director Ted Mikel is a hack, but is so lovable a person (I generally like the guy thanks to his smile inducing interviews and commentary tracks) that you can pretty much excuse the garbage he mostly turned out. Mikels wanted to make films and he didn't care how they turned out so long as he was producing something. More power to him, but I wish he wouldn't subject us to his home movies\n",
      "\n",
      "\n",
      "As if the storyline wasn't depressing enough, this movie shows cows being butchered graphically in a slaughterhouse for all of five minutes while the protagonist is narrating her early life as a butcher. Weird stuff. Then there's the core premise of the hero/heroine who goes and cuts his dick off because a he's besot-ten with at work says he would have gone with him if he was a girl. Is this person a psycho, a masochist, just a doomed queen who takes things too far? And what sort of traumatic childhood did he have? Just that he didn't get adopted and had to live it out with nuns who at first loved him and then later hated him because he was unruly. He tries to explain to us the reasons he did what he did, but it's really really so hard to empathize. Such sad and unusual self destruction. Was it supposed to be funny? What was it all about really?\n",
      "\n",
      "\n",
      "positive\n",
      "\n",
      "\n",
      "\"Midnight Cowboy\" is one of those films thats been proclaimed a masterpiece with good reason - it really is one of the finest films ever made in America. Its both artistically valid yet entirely accessible and commercial. No wonder it was a huge success when initially released. But be warned, its also one of the most heartbreaking films ever made. The characters are memorable, well-developed, and ultimately tragic. The filmmakers should be applauded for not giving us the Hollywood ending, something which was basically mandatory by the 80s. Still, this is why I treasure the years of 1967 to 1977 for American film. Its a time when well-made, innovative, and most of all bleak films could be made with the big budgets that Hollywood could offer. All this was over by the time \"Star Wars\" was released.<br /><br />The direction by John Schlesinger makes the material work. It combines a simplistic style with some experimental editing. Unlike many other films featuring these psychedelic effects, \"Midnight Cowboy\" has aged quite well. Its still as powerful now as it was when initially released. The acting however is what makes this a masterpiece. The characters' backgrounds are never fully explained, but the performances make them completely developed. Both Jon Voight and Dustin Hoffman are absolutely memorable and sympathetic (despite their sometimes reprehensible actions). Plus, being a fan of vintage exploitation films, I loved the scenes set on the infamously sleazy 42nd street. \"Midnight Cowboy\" is close to being perfect and one of the most powerful films ever made. (10/10)\n",
      "\n",
      "\n",
      "This movie is well done on so many levels that I am in awe that the score is as low as it is (5.9/10(576 votes) as of this writing). This movie has incredible special effects, a true epic storyline, complex great character interaction, and mind-blowing battles - they have to be seen to be believed! The only complaint I have is the subtitles on the HK DVD version I got (some lines were not translated - ???).<br /><br />I just don't understand when I read & hear from various sources: \"it has a confusing plot....\", \"I couldn't follow the story....\" or \"Characters came from nowhere...\". From the very 1st time I watched this movie, I understood it, followed it, knew why characters were there, and I absolutely loved it! I've watched it about 8 times already and each time it is pure enjoyment. Oh, and this is not just my opinion, because I've shown this movie to many fellow Americans (people who have never seen an HK film before) who feel the same way. Not one of them failed to follow the storyline and each person declared their love for this movie. Oh man, why can't we have stuff like this coming out of Hollywood? At least Lord of the Rings had a nice marriage of special effects, character development, and storyline.<br /><br />This is not coming from a Asian film lover newbie either. I own an extensive library of Asian films and I must say that this movie is one of my greatest DVDs. When you watch it you will be blown away by the amazing special effects and epic feel of this movie. You will be drawn into this fantasy world and you won't want to leave! I've seen both the 1983 version and the 2001 (both done by Tsui Hark), and the 2001 is far better in comparison IMO.<br /><br />Besides the subtitles, I have one additional complaint about this movie: I didn't want it to end.... I'm begging you Mr. Hark - can we please have a sequel?\n",
      "\n",
      "\n",
      "Shot on an impossible schedule and no budget to speak of, the movie turned out a lot better than you would expect, certainly much more true to the Peter O'Donnell books and comic strip than the previous two films. You can read the strip currently in the reprints from Titan Books, or in Comics Revue monthly. It is one of the greatest adventure comic strips of all time. The movie isn't great, but unlike most low budget films it makes the most of what its got, and it holds your interest. On the DVD extras, the interview with Quentin Tarentino, who is obviously stoned, is a gas. Some people have faulted Tarentino for associating his name with the film, but without him it would never have been made. He is a Modesty Blaise fan, and picked a good writer and director. All things considered, worth 8 stars.\n",
      "\n",
      "\n",
      "This movie is great. If you enjoy watching B-class movies, that is. This is a classic college 80's slasher movie, in which one song is played throughout the entire soundtrack. A horrible film, but worth renting to make fun of, or just to watch old men pop out of closets with knives. Kinda funny, if you ask me.\n",
      "\n",
      "\n",
      "This is a great film. If this is any indication, than Hong Sang-Soo really is \"Asian cinema's best kept secret\". It's very similar in style to Tsai Ming-Liang and Hou Hsiao-hsien, and covers a lot of the same ground as them thematically, but I think I actually enjoy this more as a whole than any single one of their films. The overt minimalism is slightly less pronounced here than in their work, although it still completely fits that style (the camera never moves even once), and somehow I found the film less self-consciously \"slow\" than Tsai Ming-Liang or Hou Hsiao-hsien, which I think is part of the reason I enjoyed it more. Plus, it doesn't keep it's subjects quite as detached as Hou does. I felt like the film was also somehow more \"complete\" and less open-ended (just barely) than some of their work, although that's not to say it had much of anything resembling a forward-moving plot. I would have a hard time believing that Sophia Coppola wasn't directly influenced by this film for \"Lost in Translation\" (scenes of a young woman wandering around by herself, and languishing in her hotel room wearing punk panties can't help but seem familiar).\n",
      "\n",
      "\n"
     ]
    }
   ],
   "source": [
    "for label in data.labels.unique():\n",
    "    print(\"negative\" if label ==  0 else \"positive\")\n",
    "    print(\"\\n\")\n",
    "    for content in data.contents[data.labels == label].sample(5):\n",
    "        print(content)\n",
    "        print(\"\\n\")"
   ]
  },
  {
   "cell_type": "code",
   "execution_count": 40,
   "id": "d37778f3",
   "metadata": {},
   "outputs": [],
   "source": [
    "## At this moment we are going to see 5 examples of each column"
   ]
  }
 ],
 "metadata": {
  "kernelspec": {
   "display_name": "Python 3",
   "language": "python",
   "name": "python3"
  },
  "language_info": {
   "codemirror_mode": {
    "name": "ipython",
    "version": 3
   },
   "file_extension": ".py",
   "mimetype": "text/x-python",
   "name": "python",
   "nbconvert_exporter": "python",
   "pygments_lexer": "ipython3",
   "version": "3.8.8"
  }
 },
 "nbformat": 4,
 "nbformat_minor": 5
}
