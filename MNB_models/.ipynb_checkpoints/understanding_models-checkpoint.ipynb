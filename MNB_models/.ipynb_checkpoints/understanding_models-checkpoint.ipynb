{
 "cells": [
  {
   "cell_type": "code",
   "execution_count": 3,
   "id": "0172ad02",
   "metadata": {},
   "outputs": [
    {
     "ename": "ModuleNotFoundError",
     "evalue": "No module named 'functions'",
     "output_type": "error",
     "traceback": [
      "\u001b[0;31m---------------------------------------------------------------------------\u001b[0m",
      "\u001b[0;31mModuleNotFoundError\u001b[0m                       Traceback (most recent call last)",
      "\u001b[0;32m<ipython-input-3-8194ba0f1be7>\u001b[0m in \u001b[0;36m<module>\u001b[0;34m\u001b[0m\n\u001b[1;32m     28\u001b[0m \u001b[0;34m\u001b[0m\u001b[0m\n\u001b[1;32m     29\u001b[0m \u001b[0;31m## My own functions\u001b[0m\u001b[0;34m\u001b[0m\u001b[0;34m\u001b[0m\u001b[0;34m\u001b[0m\u001b[0m\n\u001b[0;32m---> 30\u001b[0;31m \u001b[0;32mfrom\u001b[0m \u001b[0mfunctions\u001b[0m \u001b[0;32mimport\u001b[0m \u001b[0mprint_report\u001b[0m\u001b[0;34m,\u001b[0m \u001b[0mcheck_model\u001b[0m\u001b[0;34m,\u001b[0m \u001b[0mvectorize_X\u001b[0m\u001b[0;34m\u001b[0m\u001b[0;34m\u001b[0m\u001b[0m\n\u001b[0m",
      "\u001b[0;31mModuleNotFoundError\u001b[0m: No module named 'functions'"
     ]
    }
   ],
   "source": [
    "## Python in build modules:\n",
    "import os\n",
    "import re\n",
    "from collections import Counter\n",
    "import time\n",
    "\n",
    "## EDA libraries\n",
    "import numpy as np\n",
    "import pandas as pd\n",
    "import matplotlib.pyplot as plt\n",
    "%matplotlib inline\n",
    "import seaborn as sns\n",
    "\n",
    "## Metrics (sklearn)\n",
    "from sklearn.metrics import confusion_matrix, classification_report\n",
    "from sklearn.metrics import recall_score, precision_score, f1_score, accuracy_score\n",
    "\n",
    "## Model management (sklearn)\n",
    "from sklearn.feature_extraction.text import CountVectorizer, TfidfVectorizer\n",
    "from sklearn.model_selection import train_test_split, KFold\n",
    "from sklearn.naive_bayes import MultinomialNB\n",
    "from sklearn.pipeline import make_pipeline\n",
    "from sklearn.preprocessing import StandardScaler\n",
    "from sklearn.svm import SVC\n",
    "\n",
    "## Joblib\n",
    "import joblib\n",
    "\n",
    "## My own functions\n",
    "# from functions import print_report, check_model, vectorize_X"
   ]
  },
  {
   "cell_type": "code",
   "execution_count": 4,
   "id": "9975c815",
   "metadata": {},
   "outputs": [
    {
     "name": "stdout",
     "output_type": "stream",
     "text": [
      "25000\n"
     ]
    }
   ],
   "source": [
    "## Importing the data\n",
    "\n",
    "path = '../data/train/'\n",
    "\n",
    "count = 0\n",
    "labels = []\n",
    "contents = []\n",
    "\n",
    "for label in ['neg','pos']:\n",
    "    filenames = os.listdir(path + label)\n",
    "    for filename in filenames:\n",
    "        count += 1\n",
    "        with open(os.path.join(path, label, filename), 'r') as f:\n",
    "            labels.append(1 if label == 'pos' else 0) # 1 is positve 0 is negative\n",
    "            contents.append(f.read())\n",
    "print(count)\n",
    "            \n",
    "data = pd.DataFrame({\n",
    "    'contents' : contents,\n",
    "    'labels': labels,\n",
    "\n",
    "})\n",
    "\n",
    "data = data.sample(frac=1, random_state=42).reset_index(drop=True) # This code will shuffle the data (just in case!)"
   ]
  },
  {
   "cell_type": "code",
   "execution_count": 3,
   "id": "49b36dc9",
   "metadata": {},
   "outputs": [],
   "source": [
    "X = data.contents\n",
    "y = data.labels\n",
    "X_train, X_test, y_train, y_test = train_test_split(X, y, test_size=0.33, random_state=42)\n",
    "train_df = pd.concat([X_train, y_train],axis=1)"
   ]
  },
  {
   "cell_type": "code",
   "execution_count": 5,
   "id": "3f9d8b92",
   "metadata": {},
   "outputs": [],
   "source": [
    "X_min = X[:5000]\n",
    "y_min = y[:5000]"
   ]
  },
  {
   "cell_type": "code",
   "execution_count": 4,
   "id": "d96844bf",
   "metadata": {},
   "outputs": [
    {
     "name": "stdout",
     "output_type": "stream",
     "text": [
      "The amount of features in the Vectorized X train is: 584,934 \n",
      "The amount of time it took to vectorize was: 12.360835999999999\n",
      "\n",
      "Multinomial Naive Bayes\n"
     ]
    }
   ],
   "source": [
    "mnb = MultinomialNB()\n",
    "cv = CountVectorizer(stop_words={'english'}, ngram_range=(2,3), min_df=2, max_df=0.4)\n",
    "\n",
    "\n",
    "for cv ,clf, clf_name in [(cv , mnb, 'Multinomial Naive Bayes')]:\n",
    "    # Vectorization\n",
    "    start = time.process_time()\n",
    "    X_train_vectorized, X_test_vectorized = vectorize_X(cv, X_train, X_test)\n",
    "    print('The amount of features in the Vectorized X train is: {:,} '.format(X_train_vectorized.shape[1]))\n",
    "    print(f'The amount of time it took to vectorize was: {time.process_time() - start}\\n')\n",
    "    \n",
    "    # Running the model\n",
    "    print(clf_name)\n",
    "    clf.fit(X_train_vectorized, y_train)"
   ]
  },
  {
   "cell_type": "code",
   "execution_count": 5,
   "id": "a817c8ed",
   "metadata": {
    "scrolled": true
   },
   "outputs": [],
   "source": [
    "## Get both score I want to add\n",
    "\n",
    "probability = clf.predict_proba(X_test_vectorized)\n",
    "probability = pd.Series([round(i[0],5) for i in probability]) \n",
    "                                                              \n",
    "prediction = pd.Series(clf.predict(X_test_vectorized))"
   ]
  },
  {
   "cell_type": "code",
   "execution_count": 6,
   "id": "f0949bf7",
   "metadata": {},
   "outputs": [],
   "source": [
    "## concatenate everythin and build the df\n",
    "\n",
    "test_df = pd.DataFrame(np.concatenate([X_test, y_test]).reshape(2,len(X_test))).T\n",
    "df1 = pd.concat([test_df, prediction, probability], axis=1)\n",
    "df1.columns = [\"content\",\"true_label\",\"prediction\",\"probability\"]"
   ]
  },
  {
   "cell_type": "code",
   "execution_count": 7,
   "id": "b852c4ed",
   "metadata": {},
   "outputs": [],
   "source": [
    "true_pos  = df1[(df1.true_label == 1) & (df1.prediction == 1)]\n",
    "true_neg  = df1[(df1.true_label == 0) & (df1.prediction == 0)]\n",
    "false_pos = df1[(df1.true_label == 0) & (df1.prediction == 1)]\n",
    "false_neg = df1[(df1.true_label == 1) & (df1.prediction == 0)]"
   ]
  },
  {
   "cell_type": "code",
   "execution_count": 8,
   "id": "a933de6c",
   "metadata": {},
   "outputs": [
    {
     "data": {
      "text/plain": [
       "0.026060606060606062"
      ]
     },
     "execution_count": 8,
     "metadata": {},
     "output_type": "execute_result"
    }
   ],
   "source": [
    "len(true_pos[true_pos.probability > .10]) / 3300"
   ]
  },
  {
   "cell_type": "code",
   "execution_count": 32,
   "id": "8ecb3f95",
   "metadata": {},
   "outputs": [
    {
     "data": {
      "image/png": "[encoded data removed]",
      "text/plain": [
       "<Figure size 720x504 with 1 Axes>"
      ]
     },
     "metadata": {
      "needs_background": "light"
     },
     "output_type": "display_data"
    }
   ],
   "source": [
    "colors = ['r', 'y']\n",
    "names = \"true_pos, true_neg\".split(' ')\n",
    "fig, axs = plt.subplots(1,1, figsize=(10,7))\n",
    "for i, distribution in enumerate([true_pos, true_neg]):\n",
    "    sns.histplot(data=distribution ,x='probability',\n",
    "                 bins=200, ax=axs, color=colors[i], label=names[i])\n",
    "\n",
    "plt.legend()\n",
    "plt.show()"
   ]
  },
  {
   "cell_type": "code",
   "execution_count": 35,
   "id": "e77872fc",
   "metadata": {
    "scrolled": true
   },
   "outputs": [
    {
     "data": {
      "image/png": "[encoded data removed]",
      "text/plain": [
       "<Figure size 720x504 with 1 Axes>"
      ]
     },
     "metadata": {
      "needs_background": "light"
     },
     "output_type": "display_data"
    }
   ],
   "source": [
    "colors = ['r', 'y']\n",
    "names = \"false_pos false_neg\".split(' ')\n",
    "fig, axs = plt.subplots(1,1, figsize=(10,7))\n",
    "for i, distribution in enumerate([false_pos, false_neg]):\n",
    "    sns.histplot(data=distribution ,x='probability',\n",
    "                 bins=200, ax=axs, color=colors[i], label=names[i])\n",
    "\n",
    "plt.legend()\n",
    "plt.show()"
   ]
  },
  {
   "cell_type": "code",
   "execution_count": 42,
   "id": "5990cc67",
   "metadata": {
    "scrolled": true
   },
   "outputs": [
    {
     "data": {
      "image/png": "[encoded data removed]",
      "text/plain": [
       "<Figure size 720x504 with 1 Axes>"
      ]
     },
     "metadata": {
      "needs_background": "light"
     },
     "output_type": "display_data"
    }
   ],
   "source": [
    "custom_false_pos = false_pos[false_pos.probability > .1]\n",
    "custom_false_neg = false_neg[false_neg.probability < .9]\n",
    "\n",
    "\n",
    "colors = ['r', 'y']\n",
    "names = \"false_pos false_neg\".split(' ')\n",
    "fig, axs = plt.subplots(1,1, figsize=(10,7))\n",
    "for i, distribution in enumerate([custom_false_pos, custom_false_neg]):\n",
    "    sns.histplot(data=distribution ,x='probability',\n",
    "                 bins=20, ax=axs, color=colors[i], label=names[i])\n",
    "\n",
    "plt.legend()\n",
    "plt.show()"
   ]
  },
  {
   "cell_type": "markdown",
   "id": "5d731de6",
   "metadata": {},
   "source": [
    "So the model understand pretty well when it is right and is very comfortable about their decisions. It shows a little more doubt when it is not performing the way it is expected. However much of the false positives and false negative are really close to certainty, which should not be the case."
   ]
  },
  {
   "cell_type": "code",
   "execution_count": 65,
   "id": "97dbc9c9",
   "metadata": {
    "scrolled": true
   },
   "outputs": [
    {
     "name": "stdout",
     "output_type": "stream",
     "text": [
      "       prediction  probability\n",
      "count       470.0   470.000000\n",
      "mean          0.0     0.952019\n",
      "std           0.0     0.109976\n",
      "min           0.0     0.502280\n",
      "25%           0.0     0.981105\n",
      "50%           0.0     0.999960\n",
      "75%           0.0     1.000000\n",
      "max           0.0     1.000000\n",
      "       prediction  probability\n",
      "count      3704.0  3704.000000\n",
      "mean          0.0     0.993641\n",
      "std           0.0     0.042437\n",
      "min           0.0     0.514310\n",
      "25%           0.0     1.000000\n",
      "50%           0.0     1.000000\n",
      "75%           0.0     1.000000\n",
      "max           0.0     1.000000\n"
     ]
    }
   ],
   "source": [
    "print(false_neg.describe())\n",
    "print(true_neg.describe())"
   ]
  },
  {
   "cell_type": "code",
   "execution_count": 66,
   "id": "1fa082e0",
   "metadata": {},
   "outputs": [
    {
     "name": "stdout",
     "output_type": "stream",
     "text": [
      "       prediction  probability\n",
      "count      3643.0  3643.000000\n",
      "mean          1.0     0.007278\n",
      "std           0.0     0.043675\n",
      "min           1.0     0.000000\n",
      "25%           1.0     0.000000\n",
      "50%           1.0     0.000000\n",
      "75%           1.0     0.000000\n",
      "max           1.0     0.497050\n",
      "       prediction  probability\n",
      "count       433.0   433.000000\n",
      "mean          1.0     0.048340\n",
      "std           0.0     0.114606\n",
      "min           1.0     0.000000\n",
      "25%           1.0     0.000000\n",
      "50%           1.0     0.000020\n",
      "75%           1.0     0.014110\n",
      "max           1.0     0.486560\n"
     ]
    }
   ],
   "source": [
    "print(true_pos.describe())\n",
    "print(false_pos.describe())"
   ]
  },
  {
   "cell_type": "code",
   "execution_count": 87,
   "id": "fbb54d3e",
   "metadata": {},
   "outputs": [
    {
     "name": "stdout",
     "output_type": "stream",
     "text": [
      "Percentage less certain: 0.023606917375789186 \n",
      "Percentage more certain: 0.9763930826242108 \n"
     ]
    }
   ],
   "source": [
    "true_pos_10 = true_pos[true_pos.probability > .1] # This are the ones where the model is less certain\n",
    "true_pos_00 = true_pos[true_pos.probability < .1] # This are the ones where the model is less certain\n",
    "print(f'Percentage less certain: {len(true_pos_01) / len(true_pos)} ')\n",
    "print(f'Percentage more certain: {len(true_pos_00) / len(true_pos)} ')"
   ]
  },
  {
   "cell_type": "code",
   "execution_count": 98,
   "id": "0d4b1da2",
   "metadata": {
    "scrolled": false
   },
   "outputs": [
    {
     "name": "stdout",
     "output_type": "stream",
     "text": [
      "0.33406\n",
      "A nicely done thriller with plenty of sex in it. I saw it on late night TV. There are two hardcore stars in it, Lauen Montgomery and Venus. Thankfully, Gabriella Hall has just a small part.\n",
      "\n",
      "\n",
      "0.13539\n",
      "This movie was on British TV last night, and is wonderful! Strong women, great music (most of the time) and just makes you think. We do have stereotypes of what older people \"ought\" to do, and there are fantastic cameos of the \"sensible but worried children\". Getting near to my best movie ever !\n",
      "\n",
      "\n",
      "0.36621\n",
      "I've never been huge on IMAX films. They're cool, but once you get over that initial rush of \"Whoa, it feels like flying!\" the movies themselves are usually pretty corny and ordinary. <br /><br />The exceptions have been the powerful \"Everest\", the exhilarating \"Wild California\" and now the BBC's \"The Human Body\", a super-sized look at the insides of our bodies. <br /><br />Our bodies are machines of a complexity that is simply inconceivable. This 50 minute film could be 10 hours long, and still wouldn't get to all of the systems working in tandem just as I type this review and listen to my radio, and most of us take it all for granted. <br /><br />Here you can see the inside of a pumping heart (looks like an alien spaceship), the inside of your lungs, the tiny hairs in your eardrum that process sound, the development of a baby inside a mother's womb, and surprisingly, a few of the...um, less attractive functions that I thought it would shy away from (pimples, the churning of acids in the stomach...)<br /><br />This film also has a rather funky style to it, which sets it apart from other IMAX documentaries. For instance, we've all seen sperm finding its way to the egg, but have you ever seen it set to the tune of Marvin Gaye's \"Let's Get It On\"? It's creative moments like that that make \"The Human Body\" not just a health lesson, but fun as well.\n",
      "\n",
      "\n"
     ]
    }
   ],
   "source": [
    "for i in range(1,4,1):\n",
    "    sample = true_pos_10.sample(1)\n",
    "    print(sample.probability.iloc[0])\n",
    "    print(sample.content.iloc[0])\n",
    "    print('\\n')"
   ]
  },
  {
   "cell_type": "code",
   "execution_count": 101,
   "id": "f8a109d4",
   "metadata": {},
   "outputs": [
    {
     "name": "stdout",
     "output_type": "stream",
     "text": [
      "Percentage less certain: 0.13394919168591224 \n",
      "Percentage more certain: 0.8660508083140878 \n"
     ]
    }
   ],
   "source": [
    "false_pos_10 = false_pos[false_pos.probability > .1] # This are the ones where the model is less certain\n",
    "false_pos_00 = false_pos[false_pos.probability < .1] # This are the ones where the model is less certain\n",
    "print(f'Percentage less certain: {len(false_pos_10) / len(false_pos)} ')\n",
    "print(f'Percentage more certain: {len(false_pos_00) / len(false_pos)} ')"
   ]
  },
  {
   "cell_type": "code",
   "execution_count": 105,
   "id": "f921d6b3",
   "metadata": {
    "scrolled": true
   },
   "outputs": [
    {
     "name": "stdout",
     "output_type": "stream",
     "text": [
      "Int64Index([4880], dtype='int64')\n",
      "0.0\n",
      "Kudos to the patience of Paul Muni, who spent hours and hours in the makeup room each day to look the part of Zola. Muni was the one of the biggest stars in the 1930s and I wonder how many people today -other than classic movie buffs - know anything about it. He was a giant in the business for at least a decade. He could have won the Academy Award for this performance, which would have given him two in a row, as he won it for playing Louis Pasteur the year before. My own opinion is that while he tended to overact a bit, I still think he was one of the great actors of the \"Golden Age.\" Whatever part he played; you were riveted to the screen watching him.<br /><br />Unlike the Pasteur role, I thought this story smacked of a little too much of what we've seen in the last 60 years: going overboard to make a Liberal hero. Even in 1937, Hollywood couldn't suppress its disdain for police or for the military, here making it a point to tell us how \"corrupt\" those organizations are. Filmmakers just love it when authority is challenged and defeated. In that regard, this film is way ahead of its day since we've seen this big-time since the 1960s.<br /><br />However, it must be noted the facts support this story. It also does not in any way diminish Zola's accomplishments as a social reformer, getting rid of certain evils. Good for him! I wish they had spent more time showing that, than concentrating on one trial.\n",
      "\n",
      "\n",
      "Int64Index([129], dtype='int64')\n",
      "0.00739\n",
      "Perhaps because I was so young, innocent and BRAINWASHED when I saw it, this movie was the cause of many sleepless nights for me. I haven't seen it since I was in seventh grade at a Presbyterian school, so I am not sure what effect it would have on me now. However, I will say that it left an impression on me... and most of my friends. It did serve its purpose, at least until we were old enough and knowledgeable enough to analyze and create our own opinions. I was particularly terrified of what the newly-converted post-rapture Christians had to endure when not receiving the mark of the beast. I don't want to spoil the movie for those who haven't seen it so I will not mention details of the scenes, but I can still picture them in my head... and it's been 19 years.\n",
      "\n",
      "\n",
      "Int64Index([3203], dtype='int64')\n",
      "0.0\n",
      "A so common horror story about a luxury building at Brooklyn which hides the gates to hell. It is reminiscent of Polanski's \"The Tenant\" (released a year before \"The sentinel\"), but is too far from the movie of the polish filmmaker in any aspect possible. \"The tenant\" was so disturbing, whereas \"The sentinel\" is not at all.<br /><br />What it's more surprising from this film is the cast: it is full of great names of American cinema (Burguess, Gardner, Wallach), veteran actors acting for food (I guess).<br /><br />Verdict: barely entertaining.<br /><br />*My rate: 4/10\n",
      "\n",
      "\n"
     ]
    }
   ],
   "source": [
    "for i in range(1,4,1):\n",
    "    sample = false_pos_00.sample(1)\n",
    "    print(sample.index)\n",
    "    print(sample.probability.iloc[0])\n",
    "    print(sample.content.iloc[0])\n",
    "    print('\\n')"
   ]
  },
  {
   "cell_type": "markdown",
   "id": "59e58abc",
   "metadata": {},
   "source": [
    "I see some trends here. As people who attack this films are not also explainin that movies may be good. As an idea I find that maybe we can feed the model differently depending on the parragraphs. "
   ]
  },
  {
   "cell_type": "code",
   "execution_count": 119,
   "id": "62ed2671",
   "metadata": {},
   "outputs": [
    {
     "data": {
      "text/plain": [
       "['Kudos to the patience of Paul Muni, who spent hours and hours in the makeup room each day to look the part of Zola. Muni was the one of the biggest stars in the 1930s and I wonder how many people today -other than classic movie buffs - know anything about it. He was a giant in the business for at least a decade. He could have won the Academy Award for this performance, which would have given him two in a row, as he won it for playing Louis Pasteur the year before. My own opinion is that while he tended to overact a bit, I still think he was one of the great actors of the \"Golden Age.\" Whatever part he played; you were riveted to the screen watching him.<br /><br />Unlike the Pasteur role, I thought this story smacked of a little too much of what we\\'ve seen in the last 60 years: going overboard to make a Liberal hero. Even in 1937, Hollywood couldn\\'t suppress its disdain for police or for the military, here making it a point to tell us how \"corrupt\" those organizations are. Filmmakers just love it when authority is challenged and defeated. In that regard, this film is way ahead of its day since we\\'ve seen this big-time since the 1960s.<br /><br />However, it must be noted the facts support this story. It also does not in any way diminish Zola\\'s accomplishments as a social reformer, getting rid of certain evils. Good for him! I wish they had spent more time showing that, than concentrating on one trial.']"
      ]
     },
     "execution_count": 119,
     "metadata": {},
     "output_type": "execute_result"
    }
   ],
   "source": [
    "[df1.loc[4880].content]"
   ]
  },
  {
   "cell_type": "code",
   "execution_count": 121,
   "id": "9a43fab0",
   "metadata": {},
   "outputs": [
    {
     "data": {
      "text/plain": [
       "array([1])"
      ]
     },
     "execution_count": 121,
     "metadata": {},
     "output_type": "execute_result"
    }
   ],
   "source": [
    "encoded = cv.transform([df1.loc[4880].content])\n",
    "clf.predict(encoded)"
   ]
  },
  {
   "cell_type": "code",
   "execution_count": 124,
   "id": "d8c27669",
   "metadata": {
    "scrolled": true
   },
   "outputs": [
    {
     "data": {
      "text/plain": [
       "Int64Index([  20,   57,   59,   77,   83,   92,   94,  139,  152,  154,\n",
       "            ...\n",
       "            8019, 8038, 8040, 8044, 8066, 8082, 8161, 8212, 8225, 8243],\n",
       "           dtype='int64', length=470)"
      ]
     },
     "execution_count": 124,
     "metadata": {},
     "output_type": "execute_result"
    }
   ],
   "source": []
  },
  {
   "cell_type": "code",
   "execution_count": 134,
   "id": "16573d9a",
   "metadata": {},
   "outputs": [
    {
     "data": {
      "text/plain": [
       "115     This film concerns the story of Eddy as mentio...\n",
       "287     Another movie to suffer without an adventure t...\n",
       "614     Anyone that has see Tammuz's Child Eaters know...\n",
       "617     What's with Indonesian musical movies? Never h...\n",
       "633     I am at a distinct disadvantage here. I have n...\n",
       "798     You may consider a couple of facts in the disc...\n",
       "847     I'm both amused and disgusted by the people wh...\n",
       "939     The Honey, I Shrunk the Kids franchise was a h...\n",
       "944     Maybe you shouldn't compare, but Wild Style an...\n",
       "1179    This movie has not aged well. Maybe it's just ...\n",
       "1318    This film was a disaster from start to finish....\n",
       "1642    Oh, man! This thing scared the heck out of me ...\n",
       "1700    The first episode set the bar quite high i tho...\n",
       "2036    There aren't enough gay-themed movies and ther...\n",
       "2143    I just finished watching guinea pig - Devils e...\n",
       "2236    This film reminded me of The Sopranos, and not...\n",
       "2590    Yes, he is! ...No, not because of Pintilie lik...\n",
       "2753    This movie tells the tender tale of a demented...\n",
       "3070    This movie contains no humor for anyone who ha...\n",
       "3157    I do regret that I have bought this series. I ...\n",
       "3179    If I had realized John Wayne was in this movie...\n",
       "3567    A good cast (with one major exception) pushes ...\n",
       "3608    The social commentary was way overblown and th...\n",
       "3622    This version of \"Moby Dick\" insults the audien...\n",
       "3737    There was something here with the female lead ...\n",
       "3799    Born Again is a sub-standard episode from seas...\n",
       "3844    In an interview, David Duchovny said he hasn't...\n",
       "3910    Autobiography of founder of zoo in NYC starts ...\n",
       "4635    Lois Weber, self proclaimed missionary via the...\n",
       "4694    I like the cast pretty much however the story ...\n",
       "4728    What an incomprehensible mess of a movie. Some...\n",
       "4758    How wonderful. Yet another movie about America...\n",
       "5275    Normally I would have given this movie a 6. It...\n",
       "5356    Judging from this film and THE STRONG MAN, mad...\n",
       "5415    THE SEVENTH SIGN has a great opening hook as t...\n",
       "5431    \"It's like hard to like describe just how like...\n",
       "5534    Like all the Taviani Brothers films, this one ...\n",
       "5620    The DVD version consists of 2 episodes, the pa...\n",
       "5649    i bought this DVD because it has kari in it an...\n",
       "5878    Yes, he is! ...No, not because of Pintilie lik...\n",
       "5977    The beginning of the 90s brought many \"quirky\"...\n",
       "6044    When I saw the preview, I thought: this is goi...\n",
       "6088    ...had I watched it in my teenage years. This ...\n",
       "6672    Yeah. Pretty sure I saw this movie years ago w...\n",
       "6950    Have to admit, this version disgraces Shakespe...\n",
       "6963    Phew--I don't what to say. This is a film that...\n",
       "7120    Documentary about nomadic Persians making a tr...\n",
       "7259    After reading the other reviews for this film ...\n",
       "7285    Sadly, it's true. \"Legiunea sträinä\" exposes w...\n",
       "7370    A very young Ginger Rogers trades quick quips ...\n",
       "7423    Ye Lou's film Purple Butterfly pits a secret o...\n",
       "7470    The show had great episodes, this is not one o...\n",
       "7583    Bugs Bunny accidentally ends up at the South P...\n",
       "7680    When I saw this trailer on TV I was surprised....\n",
       "7849    While most of the movie is very amateurish, th...\n",
       "8015    Having endured this inaccurate movie I will ad...\n",
       "8120    Even with a cast that boasts such generally re...\n",
       "8132    You'd better choose Paul Verhoeven's even if y...\n",
       "Name: content, dtype: object"
      ]
     },
     "execution_count": 134,
     "metadata": {},
     "output_type": "execute_result"
    }
   ],
   "source": []
  },
  {
   "cell_type": "code",
   "execution_count": 138,
   "id": "cc86d0cd",
   "metadata": {},
   "outputs": [],
   "source": [
    "n1 = false_pos_10.content.iloc[0]"
   ]
  },
  {
   "cell_type": "code",
   "execution_count": 147,
   "id": "e6dbe732",
   "metadata": {},
   "outputs": [],
   "source": [
    "results = []\n",
    "for i in false_pos_10.content:\n",
    "    encoded = cv.transform(i.split('<br /><br />'))\n",
    "    clf.predict(encoded)\n",
    "    results.append(clf.predict_proba(encoded))\n",
    "    "
   ]
  },
  {
   "cell_type": "code",
   "execution_count": 165,
   "id": "0706bf51",
   "metadata": {},
   "outputs": [
    {
     "data": {
      "text/plain": [
       "array([[0.00819192, 0.99180808],\n",
       "       [0.30210958, 0.69789042],\n",
       "       [0.76597709, 0.23402291]])"
      ]
     },
     "execution_count": 165,
     "metadata": {},
     "output_type": "execute_result"
    }
   ],
   "source": [
    "interger = np.random.randint(0,58)\n",
    "results[interger]"
   ]
  },
  {
   "cell_type": "code",
   "execution_count": 52,
   "id": "5b675741",
   "metadata": {},
   "outputs": [
    {
     "name": "stdout",
     "output_type": "stream",
     "text": [
      "30215\n"
     ]
    }
   ],
   "source": [
    "cv = TfidfVectorizer(ngram_range=(1,3), min_df=25, max_df=.4)\n",
    "\n",
    "X_train_vectorized = cv.fit_transform(X_train)\n",
    "X_test_vectorized = cv.transform(X_test)\n",
    "\n",
    "print(X_train_vectorized.shape[1])"
   ]
  },
  {
   "cell_type": "code",
   "execution_count": 9,
   "id": "4bfe8a8e",
   "metadata": {},
   "outputs": [
    {
     "name": "stdout",
     "output_type": "stream",
     "text": [
      "382.9368760585785\n",
      "453.12081480026245\n",
      "Confusion Matrix\n",
      "[[3609  528]\n",
      " [ 436 3677]]\n",
      "\n",
      "\n",
      "Classification Report\n",
      "              precision    recall  f1-score   support\n",
      "\n",
      "           0       0.89      0.87      0.88      4137\n",
      "           1       0.87      0.89      0.88      4113\n",
      "\n",
      "    accuracy                           0.88      8250\n",
      "   macro avg       0.88      0.88      0.88      8250\n",
      "weighted avg       0.88      0.88      0.88      8250\n",
      "\n",
      "\n",
      "\n",
      "Other Metrics:\n",
      "Pression Score: 0.874435196195006\n",
      "Accuracy Score: 0.8831515151515151\n",
      "Recall Score: 0.8939946511062484\n",
      "f1 Score 0.8841067564318346\n"
     ]
    }
   ],
   "source": [
    "# Perform classification with SVM, kernel=linear\n",
    "\n",
    "clf = make_pipeline(StandardScaler(with_mean=False), SVC(gamma='auto', probability=True)) \n",
    "t0 = time.time()\n",
    "clf.fit(X_train_vectorized[:8000], y_train[:8000])\n",
    "t1 = time.time()\n",
    "print(t1-t0)\n",
    "prediction = clf.predict(X_test_vectorized)\n",
    "t2 = time.time()\n",
    "print(t2-t1)\n",
    "print_report(y_test,prediction)"
   ]
  },
  {
   "cell_type": "code",
   "execution_count": 10,
   "id": "2ce94f25",
   "metadata": {},
   "outputs": [],
   "source": [
    "## Get probability and prediction\n",
    "\n",
    "probability = clf.predict_proba(X_test_vectorized)\n",
    "probability = pd.Series([round(i[0],5) for i in probability])                                                              \n",
    "prediction = pd.Series(clf.predict(X_test_vectorized))\n",
    "\n",
    "## concatenate everythin and build the df\n",
    "\n",
    "test_df = pd.DataFrame(np.concatenate([X_test, y_test]).reshape(2,len(X_test))).T\n",
    "df1 = pd.concat([test_df, prediction, probability], axis=1)\n",
    "df1.columns = [\"content\",\"true_label\",\"prediction\",\"probability\"]\n",
    "\n",
    "true_pos  = df1[(df1.true_label == 1) & (df1.prediction == 1)]\n",
    "true_neg  = df1[(df1.true_label == 0) & (df1.prediction == 0)]\n",
    "false_pos = df1[(df1.true_label == 0) & (df1.prediction == 1)]\n",
    "false_neg = df1[(df1.true_label == 1) & (df1.prediction == 0)]"
   ]
  },
  {
   "cell_type": "code",
   "execution_count": 45,
   "id": "e1089697",
   "metadata": {},
   "outputs": [
    {
     "name": "stdout",
     "output_type": "stream",
     "text": [
      "true_pos\n",
      "percentage under .1:  0.3682349741637204\n",
      "percentage under .2:  0.21049768833288007\n",
      "percentage under .3:  0.1286374762034267\n",
      "\n",
      "\n",
      "false_pos\n",
      "percentage under .1:  0.8617424242424242\n",
      "percentage under .2:  0.7140151515151515\n",
      "percentage under .3:  0.5321969696969697\n",
      "\n",
      "\n"
     ]
    }
   ],
   "source": [
    "for name, item in [(\"true_pos\", true_pos),(\"false_pos\", false_pos)]:\n",
    "    print(name)\n",
    "    result = (item['probability'] > .1).sum() / len(item)\n",
    "    print(f'percentage under .1:  {result}')\n",
    "    result = (item['probability'] > .2).sum() / len(item)\n",
    "    print(f'percentage under .2:  {result}')\n",
    "    result = (item['probability'] > .3).sum() / len(item)\n",
    "    print(f'percentage under .3:  {result}')\n",
    "    print(\"\\n\")"
   ]
  },
  {
   "cell_type": "code",
   "execution_count": 47,
   "id": "f7520ceb",
   "metadata": {},
   "outputs": [
    {
     "name": "stdout",
     "output_type": "stream",
     "text": [
      "true_neg\n",
      "percentage under .9:  0.25852036575228593\n",
      "percentage under .8:  0.13216957605985039\n",
      "percentage under .7:  0.06594624549736769\n",
      "\n",
      "\n",
      "false_neg\n",
      "percentage under .9:  0.805045871559633\n",
      "percentage under .8:  0.5481651376146789\n",
      "percentage under .7:  0.3302752293577982\n",
      "\n",
      "\n"
     ]
    }
   ],
   "source": [
    "for name, item in [(\"true_neg\", true_neg),(\"false_neg\", false_neg)]:\n",
    "    print(name)\n",
    "    result = (item['probability'] < .9).sum() / len(item)\n",
    "    print(f'percentage under .9:  {result}')\n",
    "    result = (item['probability'] < .8).sum() / len(item)\n",
    "    print(f'percentage under .8:  {result}')\n",
    "    result = (item['probability'] < .7).sum() / len(item)\n",
    "    print(f'percentage under .7:  {result}')\n",
    "    print(\"\\n\")"
   ]
  },
  {
   "cell_type": "code",
   "execution_count": 49,
   "id": "3532769d",
   "metadata": {},
   "outputs": [
    {
     "data": {
      "image/png": "[encoded data removed]",
      "text/plain": [
       "<Figure size 720x504 with 1 Axes>"
      ]
     },
     "metadata": {
      "needs_background": "light"
     },
     "output_type": "display_data"
    }
   ],
   "source": [
    "colors = ['r', 'y']\n",
    "names = \"true_pos, true_neg\".split(' ')\n",
    "fig, axs = plt.subplots(1,1, figsize=(10,7))\n",
    "for i, distribution in enumerate([true_pos, true_neg]):\n",
    "    sns.histplot(data=distribution ,x='probability',\n",
    "                 bins=200, ax=axs, color=colors[i], label=names[i])\n",
    "\n",
    "plt.legend()\n",
    "plt.show()"
   ]
  },
  {
   "cell_type": "code",
   "execution_count": 48,
   "id": "197392ed",
   "metadata": {
    "scrolled": true
   },
   "outputs": [
    {
     "data": {
      "image/png": "[encoded data removed]",
      "text/plain": [
       "<Figure size 720x504 with 1 Axes>"
      ]
     },
     "metadata": {
      "needs_background": "light"
     },
     "output_type": "display_data"
    }
   ],
   "source": [
    "colors = ['r', 'y']\n",
    "names = \"false_pos false_neg\".split(' ')\n",
    "fig, axs = plt.subplots(1,1, figsize=(10,7))\n",
    "for i, distribution in enumerate([false_pos, false_neg]):\n",
    "    sns.histplot(data=distribution ,x='probability',\n",
    "                 bins=200, ax=axs, color=colors[i], label=names[i])\n",
    "\n",
    "plt.legend()\n",
    "plt.show()"
   ]
  },
  {
   "cell_type": "code",
   "execution_count": 51,
   "id": "635a2208",
   "metadata": {},
   "outputs": [
    {
     "data": {
      "text/plain": [
       "['exctracted_data/clf_svm_1.sav']"
      ]
     },
     "execution_count": 51,
     "metadata": {},
     "output_type": "execute_result"
    }
   ],
   "source": [
    "## Count_vectorized svm 1\n",
    "# filename = 'exctracted_data/cv_svm_1.sav'\n",
    "# joblib.dump(cv, filename)\n",
    "\n",
    "\n",
    "# filename = 'exctracted_data/clf_svm_1.sav'\n",
    "# joblib.dump(clf, filename)"
   ]
  },
  {
   "cell_type": "code",
   "execution_count": 53,
   "id": "32baf98c",
   "metadata": {
    "scrolled": true
   },
   "outputs": [
    {
     "name": "stdout",
     "output_type": "stream",
     "text": [
      "3522.8124969005585\n",
      "134.22802710533142\n",
      "Confusion Matrix\n",
      "[[3653  484]\n",
      " [ 381 3732]]\n",
      "\n",
      "\n",
      "Classification Report\n",
      "              precision    recall  f1-score   support\n",
      "\n",
      "           0       0.91      0.88      0.89      4137\n",
      "           1       0.89      0.91      0.90      4113\n",
      "\n",
      "    accuracy                           0.90      8250\n",
      "   macro avg       0.90      0.90      0.90      8250\n",
      "weighted avg       0.90      0.90      0.90      8250\n",
      "\n",
      "\n",
      "\n",
      "Other Metrics:\n",
      "Pression Score: 0.8851992409867173\n",
      "Accuracy Score: 0.8951515151515151\n",
      "Recall Score: 0.9073668854850474\n",
      "f1 Score 0.8961459959178772\n"
     ]
    }
   ],
   "source": [
    "# Perform classification with SVM, kernel=linear\n",
    "\n",
    "clf = make_pipeline(StandardScaler(with_mean=False), SVC(gamma='auto', probability=True)) \n",
    "t0 = time.time()\n",
    "clf.fit(X_train_vectorized, y_train)\n",
    "t1 = time.time()\n",
    "print(t1-t0)\n",
    "prediction = clf.predict(X_test_vectorized)\n",
    "t2 = time.time()\n",
    "print(t2-t1)\n",
    "print_report(y_test,prediction)"
   ]
  },
  {
   "cell_type": "code",
   "execution_count": 54,
   "id": "69a2c691",
   "metadata": {
    "scrolled": true
   },
   "outputs": [
    {
     "data": {
      "text/plain": [
       "Pipeline(steps=[('standardscaler', StandardScaler(with_mean=False)),\n",
       "                ('svc', SVC(gamma='auto', probability=True))])"
      ]
     },
     "execution_count": 54,
     "metadata": {},
     "output_type": "execute_result"
    }
   ],
   "source": [
    "cv = TfidfVectorizer(ngram_range=(1,3), min_df=25, max_df=.4)\n",
    "X_vectorized = cv.fit_transform(X)\n",
    "clf = make_pipeline(StandardScaler(with_mean=False), SVC(gamma='auto', probability=True)) \n",
    "clf.fit(X_vectorized, y)"
   ]
  },
  {
   "cell_type": "code",
   "execution_count": null,
   "id": "0cb35703",
   "metadata": {},
   "outputs": [],
   "source": []
  },
  {
   "cell_type": "code",
   "execution_count": 55,
   "id": "51b97e42",
   "metadata": {},
   "outputs": [
    {
     "data": {
      "text/plain": [
       "['exctracted_data/clf_svm_2.sav']"
      ]
     },
     "execution_count": 55,
     "metadata": {},
     "output_type": "execute_result"
    }
   ],
   "source": [
    "# # Count_vectorized svm 2\n",
    "# filename = 'exctracted_data/cv_svm_2.sav'\n",
    "# joblib.dump(cv, filename)\n",
    "\n",
    "\n",
    "# filename = 'exctracted_data/clf_svm_2.sav'\n",
    "# joblib.dump(clf, filename)"
   ]
  }
 ],
 "metadata": {
  "kernelspec": {
   "display_name": "Python 3",
   "language": "python",
   "name": "python3"
  },
  "language_info": {
   "codemirror_mode": {
    "name": "ipython",
    "version": 3
   },
   "file_extension": ".py",
   "mimetype": "text/x-python",
   "name": "python",
   "nbconvert_exporter": "python",
   "pygments_lexer": "ipython3",
   "version": "3.8.8"
  }
 },
 "nbformat": 4,
 "nbformat_minor": 5
}
