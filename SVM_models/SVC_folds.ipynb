{
 "cells": [
  {
   "cell_type": "code",
   "execution_count": 2,
   "id": "1ea460b9",
   "metadata": {},
   "outputs": [],
   "source": [
    "## Python in build modules:\n",
    "import os\n",
    "import re\n",
    "from collections import Counter\n",
    "import time\n",
    "import sys\n",
    "\n",
    "## EDA libraries\n",
    "import numpy as np\n",
    "import pandas as pd\n",
    "import matplotlib.pyplot as plt\n",
    "%matplotlib inline\n",
    "import seaborn as sns\n",
    "\n",
    "## Metrics (sklearn)\n",
    "from sklearn.metrics import confusion_matrix, classification_report, make_scorer\n",
    "from sklearn.metrics import recall_score, precision_score, f1_score, accuracy_score\n",
    "\n",
    "## Models (sklearn)\n",
    "from sklearn.feature_extraction.text import CountVectorizer, TfidfVectorizer\n",
    "from sklearn.svm import SVC\n",
    "from sklearn.model_selection import train_test_split, cross_val_score\n",
    "from sklearn.pipeline import Pipeline\n",
    "from sklearn.preprocessing import StandardScaler"
   ]
  },
  {
   "cell_type": "code",
   "execution_count": 3,
   "id": "0d1cd250",
   "metadata": {},
   "outputs": [
    {
     "name": "stdout",
     "output_type": "stream",
     "text": [
      "25000\n"
     ]
    }
   ],
   "source": [
    "## Importing the data\n",
    "\n",
    "path = '../data/train/'\n",
    "\n",
    "count = 0\n",
    "labels = []\n",
    "contents = []\n",
    "\n",
    "for label in ['neg','pos']:\n",
    "    filenames = os.listdir(path + label)\n",
    "    for filename in filenames:\n",
    "        count += 1\n",
    "        with open(os.path.join(path, label, filename), 'r') as f:\n",
    "            labels.append(1 if label == 'pos' else 0) # 1 is positve 0 is negative\n",
    "            contents.append(f.read())\n",
    "print(count)\n",
    "            \n",
    "data = pd.DataFrame({\n",
    "    'contents' : contents,\n",
    "    'labels': labels,\n",
    "\n",
    "})\n",
    "\n",
    "data = data.sample(frac=1, random_state=42).reset_index(drop=True) # This code will shuffle the data (just in case!)\n",
    "X = data.contents\n",
    "y = data.labels"
   ]
  },
  {
   "cell_type": "code",
   "execution_count": 5,
   "id": "5355e2d5",
   "metadata": {},
   "outputs": [],
   "source": [
    "X_sm = X[:int(len(X)/4)]\n",
    "y_sm = y[:int(len(y)/4)]"
   ]
  },
  {
   "cell_type": "code",
   "execution_count": 5,
   "id": "e71b81d4",
   "metadata": {},
   "outputs": [
    {
     "name": "stderr",
     "output_type": "stream",
     "text": [
      "[Parallel(n_jobs=1)]: Using backend SequentialBackend with 1 concurrent workers.\n"
     ]
    },
    {
     "name": "stdout",
     "output_type": "stream",
     "text": [
      "[CV] END .................................................... total time=  24.6s\n"
     ]
    },
    {
     "name": "stderr",
     "output_type": "stream",
     "text": [
      "[Parallel(n_jobs=1)]: Done   1 out of   1 | elapsed:   24.7s remaining:    0.0s\n"
     ]
    },
    {
     "name": "stdout",
     "output_type": "stream",
     "text": [
      "[CV] END .................................................... total time=  24.8s\n",
      "[CV] END .................................................... total time=  24.8s\n",
      "[CV] END .................................................... total time=  24.9s\n",
      "[CV] END .................................................... total time=  24.8s\n",
      "84.72\n",
      "0.744\n"
     ]
    },
    {
     "name": "stderr",
     "output_type": "stream",
     "text": [
      "[Parallel(n_jobs=1)]: Done   5 out of   5 | elapsed:  2.1min finished\n"
     ]
    }
   ],
   "source": [
    "pipeline = Pipeline(\n",
    "    [\n",
    "        (\"Tfidf\"  , TfidfVectorizer(ngram_range=(1,1), min_df=2)),\n",
    "        (\"scaler\" , StandardScaler(with_mean=False)),\n",
    "        (\"clf\"    , SVC(gamma='auto')),\n",
    "    ]\n",
    ")\n",
    "cv = 5\n",
    "scorer = make_scorer(f1_score)\n",
    "result = cross_val_score(pipeline, X_sm, y_sm, cv=cv, scoring=scorer, verbose=2)\n",
    "\n",
    "print(round(result.mean() * 100 , 2))\n",
    "print(round(result.std()  * 100 , 3))"
   ]
  },
  {
   "cell_type": "code",
   "execution_count": 10,
   "id": "276a2faa",
   "metadata": {
    "scrolled": true
   },
   "outputs": [
    {
     "name": "stderr",
     "output_type": "stream",
     "text": [
      "[Parallel(n_jobs=1)]: Using backend SequentialBackend with 1 concurrent workers.\n"
     ]
    },
    {
     "name": "stdout",
     "output_type": "stream",
     "text": [
      "[LibSVM][CV] END .................................................... total time=  23.5s\n"
     ]
    },
    {
     "name": "stderr",
     "output_type": "stream",
     "text": [
      "[Parallel(n_jobs=1)]: Done   1 out of   1 | elapsed:   23.5s remaining:    0.0s\n"
     ]
    },
    {
     "name": "stdout",
     "output_type": "stream",
     "text": [
      "[LibSVM][CV] END .................................................... total time=  23.7s\n",
      "[LibSVM][CV] END .................................................... total time=  23.8s\n",
      "[LibSVM][CV] END .................................................... total time=  23.6s\n",
      "[LibSVM][CV] END .................................................... total time=  23.6s\n",
      "83.19\n",
      "0.596\n"
     ]
    },
    {
     "name": "stderr",
     "output_type": "stream",
     "text": [
      "[Parallel(n_jobs=1)]: Done   5 out of   5 | elapsed:  2.0min finished\n"
     ]
    }
   ],
   "source": [
    "pipeline = Pipeline(\n",
    "    [\n",
    "        (\"Tfidf\"  , TfidfVectorizer(ngram_range=(1,1), min_df=2)),\n",
    "        (\"scaler\" , StandardScaler(with_mean=False)),\n",
    "        (\"clf\"    , SVC(gamma='auto', kernel=\"linear\",verbose=True, cache_size=400)),\n",
    "    ]\n",
    ")\n",
    "cv = 5\n",
    "scorer = make_scorer(f1_score)\n",
    "result = cross_val_score(pipeline, X_sm, y_sm, cv=cv, scoring=scorer, verbose=2)\n",
    "\n",
    "print(round(result.mean() * 100 , 2))\n",
    "print(round(result.std()  * 100 , 3))"
   ]
  },
  {
   "cell_type": "code",
   "execution_count": 11,
   "id": "aa3df185",
   "metadata": {},
   "outputs": [
    {
     "name": "stderr",
     "output_type": "stream",
     "text": [
      "[Parallel(n_jobs=1)]: Using backend SequentialBackend with 1 concurrent workers.\n"
     ]
    },
    {
     "name": "stdout",
     "output_type": "stream",
     "text": [
      "[LibSVM][CV] END .................................................... total time=  25.0s\n"
     ]
    },
    {
     "name": "stderr",
     "output_type": "stream",
     "text": [
      "[Parallel(n_jobs=1)]: Done   1 out of   1 | elapsed:   25.0s remaining:    0.0s\n"
     ]
    },
    {
     "name": "stdout",
     "output_type": "stream",
     "text": [
      "[LibSVM][CV] END .................................................... total time=  24.9s\n",
      "[LibSVM][CV] END .................................................... total time=  25.5s\n",
      "[LibSVM][CV] END .................................................... total time=  25.2s\n",
      "[LibSVM][CV] END .................................................... total time=  24.6s\n",
      "84.72\n",
      "0.731\n"
     ]
    },
    {
     "name": "stderr",
     "output_type": "stream",
     "text": [
      "[Parallel(n_jobs=1)]: Done   5 out of   5 | elapsed:  2.1min finished\n"
     ]
    }
   ],
   "source": [
    "pipeline = Pipeline(\n",
    "    [\n",
    "        (\"Tfidf\"  , TfidfVectorizer(ngram_range=(1,1), min_df=2)),\n",
    "        (\"scaler\" , StandardScaler(with_mean=False)),\n",
    "        (\"clf\"    , SVC(gamma='scale',verbose=True, cache_size=400)),\n",
    "    ]\n",
    ")\n",
    "cv = 5\n",
    "scorer = make_scorer(f1_score)\n",
    "result = cross_val_score(pipeline, X_sm, y_sm, cv=cv, scoring=scorer, verbose=2)\n",
    "\n",
    "print(round(result.mean() * 100 , 2))\n",
    "print(round(result.std()  * 100 , 3))"
   ]
  },
  {
   "cell_type": "code",
   "execution_count": 12,
   "id": "8c9cb0b5",
   "metadata": {},
   "outputs": [
    {
     "name": "stderr",
     "output_type": "stream",
     "text": [
      "[Parallel(n_jobs=1)]: Using backend SequentialBackend with 1 concurrent workers.\n"
     ]
    },
    {
     "name": "stdout",
     "output_type": "stream",
     "text": [
      "[LibSVM][CV] END .................................................... total time=  32.6s\n"
     ]
    },
    {
     "name": "stderr",
     "output_type": "stream",
     "text": [
      "[Parallel(n_jobs=1)]: Done   1 out of   1 | elapsed:   32.6s remaining:    0.0s\n"
     ]
    },
    {
     "name": "stdout",
     "output_type": "stream",
     "text": [
      "[LibSVM][CV] END .................................................... total time=  32.4s\n",
      "[LibSVM][CV] END .................................................... total time=  32.4s\n",
      "[LibSVM][CV] END .................................................... total time=  32.2s\n",
      "[LibSVM][CV] END .................................................... total time=  32.1s\n",
      "87.39\n",
      "0.894\n"
     ]
    },
    {
     "name": "stderr",
     "output_type": "stream",
     "text": [
      "[Parallel(n_jobs=1)]: Done   5 out of   5 | elapsed:  2.7min finished\n"
     ]
    }
   ],
   "source": [
    "pipeline = Pipeline(\n",
    "    [\n",
    "        (\"Tfidf\"  , TfidfVectorizer(ngram_range=(1,3), min_df=20, max_df=.5)),\n",
    "        (\"scaler\" , StandardScaler(with_mean=False)),\n",
    "        (\"clf\"    , SVC(gamma='auto',verbose=True)),\n",
    "    ]\n",
    ")\n",
    "cv = 5\n",
    "scorer = make_scorer(f1_score)\n",
    "result = cross_val_score(pipeline, X_sm, y_sm, cv=cv, scoring=scorer, verbose=2)\n",
    "\n",
    "print(round(result.mean() * 100 , 2))\n",
    "print(round(result.std()  * 100 , 3))"
   ]
  },
  {
   "cell_type": "code",
   "execution_count": 16,
   "id": "aef258d8",
   "metadata": {},
   "outputs": [],
   "source": [
    "X_sm = X[:8000]\n",
    "y_sm = y[:8000]"
   ]
  },
  {
   "cell_type": "code",
   "execution_count": 19,
   "id": "fccaf0f4",
   "metadata": {},
   "outputs": [
    {
     "name": "stderr",
     "output_type": "stream",
     "text": [
      "[Parallel(n_jobs=1)]: Using backend SequentialBackend with 1 concurrent workers.\n"
     ]
    },
    {
     "name": "stdout",
     "output_type": "stream",
     "text": [
      "[LibSVM][CV] END .................................................... total time=  57.3s\n"
     ]
    },
    {
     "name": "stderr",
     "output_type": "stream",
     "text": [
      "[Parallel(n_jobs=1)]: Done   1 out of   1 | elapsed:   57.3s remaining:    0.0s\n"
     ]
    },
    {
     "name": "stdout",
     "output_type": "stream",
     "text": [
      "[LibSVM][CV] END .................................................... total time=  57.8s\n",
      "[LibSVM][CV] END .................................................... total time=  55.4s\n",
      "[LibSVM][CV] END .................................................... total time=  55.0s\n",
      "[LibSVM][CV] END .................................................... total time=  55.1s\n",
      "87.69\n",
      "0.603\n"
     ]
    },
    {
     "name": "stderr",
     "output_type": "stream",
     "text": [
      "[Parallel(n_jobs=1)]: Done   5 out of   5 | elapsed:  4.7min finished\n"
     ]
    }
   ],
   "source": [
    "pipeline = Pipeline(\n",
    "    [\n",
    "        (\"Tfidf\"  , TfidfVectorizer(ngram_range=(1,3), min_df=20, max_df=.5)),\n",
    "        (\"scaler\" , StandardScaler(with_mean=False)),\n",
    "        (\"clf\"    , SVC(gamma='auto',verbose=True)),\n",
    "    ]\n",
    ")\n",
    "cv = 5\n",
    "scorer = make_scorer(f1_score)\n",
    "result = cross_val_score(pipeline, X_sm, y_sm, cv=cv, scoring=scorer, verbose=2)\n",
    "\n",
    "print(round(result.mean() * 100 , 2))\n",
    "print(round(result.std()  * 100 , 3))"
   ]
  },
  {
   "cell_type": "code",
   "execution_count": 21,
   "id": "4e1511f0",
   "metadata": {
    "scrolled": true
   },
   "outputs": [
    {
     "name": "stderr",
     "output_type": "stream",
     "text": [
      "[Parallel(n_jobs=1)]: Using backend SequentialBackend with 1 concurrent workers.\n"
     ]
    },
    {
     "name": "stdout",
     "output_type": "stream",
     "text": [
      "[LibSVM][CV] END .................................................... total time=  57.8s\n"
     ]
    },
    {
     "name": "stderr",
     "output_type": "stream",
     "text": [
      "[Parallel(n_jobs=1)]: Done   1 out of   1 | elapsed:   57.8s remaining:    0.0s\n"
     ]
    },
    {
     "name": "stdout",
     "output_type": "stream",
     "text": [
      "[LibSVM][CV] END .................................................... total time=  57.4s\n",
      "[LibSVM][CV] END .................................................... total time=  57.1s\n",
      "[LibSVM][CV] END .................................................... total time=  58.3s\n",
      "[LibSVM][CV] END .................................................... total time=  58.1s\n",
      "87.66\n",
      "0.654\n"
     ]
    },
    {
     "name": "stderr",
     "output_type": "stream",
     "text": [
      "[Parallel(n_jobs=1)]: Done   5 out of   5 | elapsed:  4.8min finished\n"
     ]
    }
   ],
   "source": [
    "pipeline = Pipeline(\n",
    "    [\n",
    "        (\"Tfidf\"  , TfidfVectorizer(ngram_range=(1,3), min_df=20, max_df=.7)),\n",
    "        (\"scaler\" , StandardScaler(with_mean=False)),\n",
    "        (\"clf\"    , SVC(gamma='scale',verbose=True)),\n",
    "    ]\n",
    ")\n",
    "cv = 5\n",
    "scorer = make_scorer(f1_score)\n",
    "result = cross_val_score(pipeline, X_sm, y_sm, cv=cv, scoring=scorer, verbose=2)\n",
    "\n",
    "print(round(result.mean() * 100 , 2))\n",
    "print(round(result.std()  * 100 , 3))"
   ]
  },
  {
   "cell_type": "code",
   "execution_count": 22,
   "id": "ef91e49d",
   "metadata": {},
   "outputs": [
    {
     "name": "stderr",
     "output_type": "stream",
     "text": [
      "[Parallel(n_jobs=1)]: Using backend SequentialBackend with 1 concurrent workers.\n"
     ]
    },
    {
     "name": "stdout",
     "output_type": "stream",
     "text": [
      "[LibSVM][CV] END .................................................... total time=  58.1s\n"
     ]
    },
    {
     "name": "stderr",
     "output_type": "stream",
     "text": [
      "[Parallel(n_jobs=1)]: Done   1 out of   1 | elapsed:   58.1s remaining:    0.0s\n"
     ]
    },
    {
     "name": "stdout",
     "output_type": "stream",
     "text": [
      "[LibSVM][CV] END .................................................... total time= 1.0min\n",
      "[LibSVM][CV] END .................................................... total time=  58.3s\n",
      "[LibSVM][CV] END .................................................... total time=  57.4s\n",
      "[LibSVM][CV] END .................................................... total time=  58.0s\n",
      "88.16\n",
      "0.373\n"
     ]
    },
    {
     "name": "stderr",
     "output_type": "stream",
     "text": [
      "[Parallel(n_jobs=1)]: Done   5 out of   5 | elapsed:  4.9min finished\n"
     ]
    }
   ],
   "source": [
    "pipeline = Pipeline(\n",
    "    [\n",
    "        (\"Tfidf\"  , TfidfVectorizer(ngram_range=(1,3), min_df=15, max_df=.5)),\n",
    "        (\"scaler\" , StandardScaler(with_mean=False)),\n",
    "        (\"clf\"    , SVC(gamma='auto',verbose=True)),\n",
    "    ]\n",
    ")\n",
    "cv = 5\n",
    "scorer = make_scorer(f1_score)\n",
    "result = cross_val_score(pipeline, X_sm, y_sm, cv=cv, scoring=scorer, verbose=2)\n",
    "\n",
    "print(round(result.mean() * 100 , 2))\n",
    "print(round(result.std()  * 100 , 3))"
   ]
  },
  {
   "cell_type": "code",
   "execution_count": 25,
   "id": "3af0aba7",
   "metadata": {},
   "outputs": [],
   "source": [
    "import nltk\n",
    "from nltk.corpus import stopwords\n",
    "english_sw = set(stopwords.words('english'))"
   ]
  },
  {
   "cell_type": "code",
   "execution_count": 27,
   "id": "f4991881",
   "metadata": {},
   "outputs": [
    {
     "name": "stderr",
     "output_type": "stream",
     "text": [
      "[Parallel(n_jobs=1)]: Using backend SequentialBackend with 1 concurrent workers.\n"
     ]
    },
    {
     "name": "stdout",
     "output_type": "stream",
     "text": [
      "[LibSVM][CV] END .................................................... total time=  30.7s\n"
     ]
    },
    {
     "name": "stderr",
     "output_type": "stream",
     "text": [
      "[Parallel(n_jobs=1)]: Done   1 out of   1 | elapsed:   30.7s remaining:    0.0s\n"
     ]
    },
    {
     "name": "stdout",
     "output_type": "stream",
     "text": [
      "[LibSVM][CV] END .................................................... total time=  29.7s\n",
      "[LibSVM][CV] END .................................................... total time=  29.5s\n",
      "[LibSVM][CV] END .................................................... total time=  28.8s\n",
      "[LibSVM][CV] END .................................................... total time=  28.8s\n",
      "86.72\n",
      "0.574\n"
     ]
    },
    {
     "name": "stderr",
     "output_type": "stream",
     "text": [
      "[Parallel(n_jobs=1)]: Done   5 out of   5 | elapsed:  2.5min finished\n"
     ]
    }
   ],
   "source": [
    "pipeline = Pipeline(\n",
    "    [\n",
    "        (\"Tfidf\"  , TfidfVectorizer(ngram_range=(1,3), min_df=15, stop_words=english_sw)),\n",
    "        (\"scaler\" , StandardScaler(with_mean=False)),\n",
    "        (\"clf\"    , SVC(gamma='auto',verbose=True)),\n",
    "    ]\n",
    ")\n",
    "cv = 5\n",
    "scorer = make_scorer(f1_score)\n",
    "result = cross_val_score(pipeline, X_sm, y_sm, cv=cv, scoring=scorer, verbose=2)\n",
    "\n",
    "print(round(result.mean() * 100 , 2))\n",
    "print(round(result.std()  * 100 , 3))"
   ]
  },
  {
   "cell_type": "code",
   "execution_count": 29,
   "id": "2e589a98",
   "metadata": {
    "scrolled": false
   },
   "outputs": [
    {
     "name": "stderr",
     "output_type": "stream",
     "text": [
      "[Parallel(n_jobs=1)]: Using backend SequentialBackend with 1 concurrent workers.\n"
     ]
    },
    {
     "name": "stdout",
     "output_type": "stream",
     "text": [
      "[LibSVM][CV] END .................................................... total time= 1.0min\n"
     ]
    },
    {
     "name": "stderr",
     "output_type": "stream",
     "text": [
      "[Parallel(n_jobs=1)]: Done   1 out of   1 | elapsed:  1.0min remaining:    0.0s\n"
     ]
    },
    {
     "name": "stdout",
     "output_type": "stream",
     "text": [
      "[LibSVM][CV] END .................................................... total time= 1.0min\n",
      "[LibSVM][CV] END .................................................... total time= 1.0min\n",
      "[LibSVM][CV] END .................................................... total time=  59.6s\n",
      "[LibSVM][CV] END .................................................... total time= 1.0min\n",
      "88.17\n",
      "0.395\n"
     ]
    },
    {
     "name": "stderr",
     "output_type": "stream",
     "text": [
      "[Parallel(n_jobs=1)]: Done   5 out of   5 | elapsed:  5.1min finished\n"
     ]
    }
   ],
   "source": [
    "pipeline = Pipeline(\n",
    "    [\n",
    "        (\"Tfidf\"  , TfidfVectorizer(ngram_range=(1,3), min_df=12, max_df=.5)),\n",
    "        (\"scaler\" , StandardScaler(with_mean=False)),\n",
    "        (\"clf\"    , SVC(gamma='auto',verbose=True)),\n",
    "    ]\n",
    ")\n",
    "cv = 5\n",
    "scorer = make_scorer(f1_score)\n",
    "result = cross_val_score(pipeline, X_sm, y_sm, cv=cv, scoring=scorer, verbose=2)\n",
    "\n",
    "print(round(result.mean() * 100 , 2))\n",
    "print(round(result.std()  * 100 , 3))"
   ]
  },
  {
   "cell_type": "code",
   "execution_count": 30,
   "id": "1ed7f50a",
   "metadata": {},
   "outputs": [],
   "source": [
    "X_sm = X[:10000]\n",
    "y_sm = y[:10000]"
   ]
  },
  {
   "cell_type": "code",
   "execution_count": 31,
   "id": "d1728fbf",
   "metadata": {},
   "outputs": [
    {
     "name": "stderr",
     "output_type": "stream",
     "text": [
      "[Parallel(n_jobs=1)]: Using backend SequentialBackend with 1 concurrent workers.\n"
     ]
    },
    {
     "name": "stdout",
     "output_type": "stream",
     "text": [
      "[LibSVM][CV] END .................................................... total time= 1.9min\n"
     ]
    },
    {
     "name": "stderr",
     "output_type": "stream",
     "text": [
      "[Parallel(n_jobs=1)]: Done   1 out of   1 | elapsed:  1.9min remaining:    0.0s\n"
     ]
    },
    {
     "name": "stdout",
     "output_type": "stream",
     "text": [
      "[LibSVM][CV] END .................................................... total time= 1.9min\n",
      "[LibSVM][CV] END .................................................... total time= 2.0min\n",
      "[LibSVM][CV] END .................................................... total time= 1.9min\n",
      "[LibSVM][CV] END .................................................... total time= 1.9min\n",
      "88.6\n",
      "0.548\n"
     ]
    },
    {
     "name": "stderr",
     "output_type": "stream",
     "text": [
      "[Parallel(n_jobs=1)]: Done   5 out of   5 | elapsed:  9.6min finished\n"
     ]
    }
   ],
   "source": [
    "pipeline = Pipeline(\n",
    "    [\n",
    "        (\"Tfidf\"  , TfidfVectorizer(ngram_range=(1,3), min_df=15, max_df=.5)),\n",
    "        (\"scaler\" , StandardScaler(with_mean=False)),\n",
    "        (\"clf\"    , SVC(gamma='auto',verbose=True)),\n",
    "    ]\n",
    ")\n",
    "cv = 5\n",
    "scorer = make_scorer(f1_score)\n",
    "result = cross_val_score(pipeline, X_sm, y_sm, cv=cv, scoring=scorer, verbose=2)\n",
    "\n",
    "print(round(result.mean() * 100 , 2))\n",
    "print(round(result.std()  * 100 , 3))"
   ]
  }
 ],
 "metadata": {
  "kernelspec": {
   "display_name": "Python 3",
   "language": "python",
   "name": "python3"
  },
  "language_info": {
   "codemirror_mode": {
    "name": "ipython",
    "version": 3
   },
   "file_extension": ".py",
   "mimetype": "text/x-python",
   "name": "python",
   "nbconvert_exporter": "python",
   "pygments_lexer": "ipython3",
   "version": "3.8.8"
  }
 },
 "nbformat": 4,
 "nbformat_minor": 5
}
