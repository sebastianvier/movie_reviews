{
 "cells": [
  {
   "cell_type": "code",
   "execution_count": 1,
   "id": "9939a2cd",
   "metadata": {},
   "outputs": [],
   "source": [
    "## Python in build modules:\n",
    "import os\n",
    "import re\n",
    "from collections import Counter\n",
    "import time\n",
    "import sys\n",
    "\n",
    "## EDA libraries\n",
    "import numpy as np\n",
    "import pandas as pd\n",
    "import matplotlib.pyplot as plt\n",
    "%matplotlib inline\n",
    "import seaborn as sns\n",
    "\n",
    "## Metrics (sklearn)\n",
    "from sklearn.metrics import confusion_matrix, classification_report, make_scorer\n",
    "from sklearn.metrics import recall_score, precision_score, f1_score, accuracy_score\n",
    "\n",
    "## Models (sklearn)\n",
    "from sklearn.feature_extraction.text import CountVectorizer, TfidfVectorizer\n",
    "from sklearn.svm import SVC\n",
    "from sklearn.model_selection import train_test_split, cross_val_predict\n",
    "from sklearn.pipeline import make_pipeline\n",
    "from sklearn.preprocessing import StandardScaler\n",
    "\n",
    "## My own functions\n",
    "sys.path.append(\"/Users/sebastianvier/Documents/code/movie_reviews\")\n",
    "from functions import print_report, check_model, vectorize_X\n",
    "sys.path.append(\"/Users/sebastianvier/Documents/code/movie_reviews/SVM_models\")"
   ]
  },
  {
   "cell_type": "code",
   "execution_count": 2,
   "id": "ececfdee",
   "metadata": {},
   "outputs": [
    {
     "name": "stdout",
     "output_type": "stream",
     "text": [
      "25000\n"
     ]
    }
   ],
   "source": [
    "## Importing the data\n",
    "\n",
    "path = '../data/train/'\n",
    "\n",
    "count = 0\n",
    "labels = []\n",
    "contents = []\n",
    "\n",
    "for label in ['neg','pos']:\n",
    "    filenames = os.listdir(path + label)\n",
    "    for filename in filenames:\n",
    "        count += 1\n",
    "        with open(os.path.join(path, label, filename), 'r') as f:\n",
    "            labels.append(1 if label == 'pos' else 0) # 1 is positve 0 is negative\n",
    "            contents.append(f.read())\n",
    "print(count)\n",
    "            \n",
    "data = pd.DataFrame({\n",
    "    'contents' : contents,\n",
    "    'labels': labels,\n",
    "\n",
    "})\n",
    "\n",
    "data = data.sample(frac=1, random_state=42).reset_index(drop=True) # This code will shuffle the data (just in case!)\n",
    "X = data.contents\n",
    "y = data.labels"
   ]
  },
  {
   "cell_type": "code",
   "execution_count": 3,
   "id": "398c8ad6",
   "metadata": {},
   "outputs": [],
   "source": [
    "X_train, X_test, y_train, y_test = train_test_split(X, y, test_size=0.33, random_state=42)"
   ]
  },
  {
   "cell_type": "code",
   "execution_count": 16,
   "id": "098b9e5b",
   "metadata": {},
   "outputs": [],
   "source": [
    "cv = TfidfVectorizer(ngram_range=(1,1), min_df=2)\n",
    "\n",
    "X_train_vectorized = cv.fit_transform(X_train)\n",
    "X_test_vectorized = cv.transform(X_test)"
   ]
  },
  {
   "cell_type": "code",
   "execution_count": 17,
   "id": "cafbd6d2",
   "metadata": {},
   "outputs": [
    {
     "name": "stdout",
     "output_type": "stream",
     "text": [
      "80486\n"
     ]
    }
   ],
   "source": [
    "print(X_train_vectorized.shape[1])"
   ]
  },
  {
   "cell_type": "code",
   "execution_count": 15,
   "id": "59d2f7aa",
   "metadata": {},
   "outputs": [
    {
     "name": "stdout",
     "output_type": "stream",
     "text": [
      "[LibSVM]114.98307919502258\n",
      "162.10718512535095\n",
      "Confusion Matrix\n",
      "[[3602  535]\n",
      " [ 417 3696]]\n",
      "\n",
      "\n",
      "Classification Report\n",
      "              precision    recall  f1-score   support\n",
      "\n",
      "           0       0.90      0.87      0.88      4137\n",
      "           1       0.87      0.90      0.89      4113\n",
      "\n",
      "    accuracy                           0.88      8250\n",
      "   macro avg       0.88      0.88      0.88      8250\n",
      "weighted avg       0.88      0.88      0.88      8250\n",
      "\n",
      "\n",
      "\n",
      "Other Metrics:\n",
      "Pression Score: 0.8735523516899079\n",
      "Accuracy Score: 0.8846060606060606\n",
      "Recall Score: 0.8986141502552881\n",
      "f1 Score 0.8859060402684564\n"
     ]
    }
   ],
   "source": [
    "# Perform classification with SVM, kernel=linear\n",
    "\n",
    "clf = make_pipeline(StandardScaler(with_mean=False), SVC(gamma='auto'))\n",
    "t0 = time.time()\n",
    "scaler = StandardScaler()\n",
    "clf = SVC(kernel='linear', verbose=True)\n",
    "clf.fit(X_train_vectorized[:15000], y_train[:15000])\n",
    "t1 = time.time()\n",
    "print(t1-t0)\n",
    "prediction = clf.predict(X_test_vectorized)\n",
    "t2 = time.time()\n",
    "print(t2-t0)\n",
    "print_report(y_test,prediction)"
   ]
  },
  {
   "cell_type": "code",
   "execution_count": 4,
   "id": "a7a0fb0e",
   "metadata": {},
   "outputs": [
    {
     "name": "stdout",
     "output_type": "stream",
     "text": [
      "80486\n"
     ]
    }
   ],
   "source": [
    "cv = TfidfVectorizer(ngram_range=(1,3), min_df=10, max_df=.5)\n",
    "\n",
    "X_train_vectorized = cv.fit_transform(X_train)\n",
    "X_test_vectorized = cv.transform(X_test)\n",
    "\n",
    "print(X_train_vectorized.shape[1])"
   ]
  },
  {
   "cell_type": "code",
   "execution_count": 5,
   "id": "8d062cd1",
   "metadata": {},
   "outputs": [
    {
     "name": "stdout",
     "output_type": "stream",
     "text": [
      "[LibSVM]4.8187761306762695\n",
      "23.178221225738525\n",
      "Confusion Matrix\n",
      "[[3392  745]\n",
      " [ 419 3694]]\n",
      "\n",
      "\n",
      "Classification Report\n",
      "              precision    recall  f1-score   support\n",
      "\n",
      "           0       0.89      0.82      0.85      4137\n",
      "           1       0.83      0.90      0.86      4113\n",
      "\n",
      "    accuracy                           0.86      8250\n",
      "   macro avg       0.86      0.86      0.86      8250\n",
      "weighted avg       0.86      0.86      0.86      8250\n",
      "\n",
      "\n",
      "\n",
      "Other Metrics:\n",
      "Pression Score: 0.8321694075242172\n",
      "Accuracy Score: 0.858909090909091\n",
      "Recall Score: 0.8981278871869681\n",
      "f1 Score 0.8638914873713751\n"
     ]
    }
   ],
   "source": [
    "# Perform classification with SVM, kernel=linear\n",
    "\n",
    "clf = make_pipeline(StandardScaler(with_mean=False), SVC(gamma='auto')) #kernel='linear'\n",
    "t0 = time.time()\n",
    "scaler = StandardScaler()\n",
    "clf = SVC(kernel='linear', verbose=True)\n",
    "clf.fit(X_train_vectorized[:2000], y_train[:2000])\n",
    "t1 = time.time()\n",
    "print(t1-t0)\n",
    "prediction = clf.predict(X_test_vectorized)\n",
    "t2 = time.time()\n",
    "print(t2-t0)\n",
    "print_report(y_test,prediction)"
   ]
  },
  {
   "cell_type": "code",
   "execution_count": 6,
   "id": "0d1d5634",
   "metadata": {
    "scrolled": true
   },
   "outputs": [
    {
     "name": "stdout",
     "output_type": "stream",
     "text": [
      "[LibSVM]18.393959760665894\n",
      "51.24034595489502\n",
      "Confusion Matrix\n",
      "[[3514  623]\n",
      " [ 392 3721]]\n",
      "\n",
      "\n",
      "Classification Report\n",
      "              precision    recall  f1-score   support\n",
      "\n",
      "           0       0.90      0.85      0.87      4137\n",
      "           1       0.86      0.90      0.88      4113\n",
      "\n",
      "    accuracy                           0.88      8250\n",
      "   macro avg       0.88      0.88      0.88      8250\n",
      "weighted avg       0.88      0.88      0.88      8250\n",
      "\n",
      "\n",
      "\n",
      "Other Metrics:\n",
      "Pression Score: 0.8565837937384899\n",
      "Accuracy Score: 0.876969696969697\n",
      "Recall Score: 0.9046924386092876\n",
      "f1 Score 0.8799810807614994\n"
     ]
    }
   ],
   "source": [
    "# Perform classification with SVM, kernel=linear\n",
    "\n",
    "clf = make_pipeline(StandardScaler(with_mean=False), SVC(gamma='auto')) #kernel='linear'\n",
    "t0 = time.time()\n",
    "scaler = StandardScaler()\n",
    "clf = SVC(kernel='linear', verbose=True)\n",
    "clf.fit(X_train_vectorized[:4000], y_train[:4000])\n",
    "t1 = time.time()\n",
    "print(t1-t0)\n",
    "prediction = clf.predict(X_test_vectorized)\n",
    "t2 = time.time()\n",
    "print(t2-t0)\n",
    "print_report(y_test,prediction)"
   ]
  },
  {
   "cell_type": "code",
   "execution_count": 7,
   "id": "b5c6ece5",
   "metadata": {},
   "outputs": [
    {
     "name": "stdout",
     "output_type": "stream",
     "text": [
      "[LibSVM]38.80088686943054\n",
      "83.2681930065155\n",
      "Confusion Matrix\n",
      "[[3563  574]\n",
      " [ 367 3746]]\n",
      "\n",
      "\n",
      "Classification Report\n",
      "              precision    recall  f1-score   support\n",
      "\n",
      "           0       0.91      0.86      0.88      4137\n",
      "           1       0.87      0.91      0.89      4113\n",
      "\n",
      "    accuracy                           0.89      8250\n",
      "   macro avg       0.89      0.89      0.89      8250\n",
      "weighted avg       0.89      0.89      0.89      8250\n",
      "\n",
      "\n",
      "\n",
      "Other Metrics:\n",
      "Pression Score: 0.8671296296296296\n",
      "Accuracy Score: 0.8859393939393939\n",
      "Recall Score: 0.9107707269632871\n",
      "f1 Score 0.8884145618403889\n"
     ]
    }
   ],
   "source": [
    "# Perform classification with SVM, kernel=linear\n",
    "\n",
    "clf = make_pipeline(StandardScaler(with_mean=False), SVC(gamma='auto')) #kernel='linear'\n",
    "t0 = time.time()\n",
    "scaler = StandardScaler()\n",
    "clf = SVC(kernel='linear', verbose=True)\n",
    "clf.fit(X_train_vectorized[:6000], y_train[:6000])\n",
    "t1 = time.time()\n",
    "print(t1-t0)\n",
    "prediction = clf.predict(X_test_vectorized)\n",
    "t2 = time.time()\n",
    "print(t2-t0)\n",
    "print_report(y_test,prediction)"
   ]
  },
  {
   "cell_type": "code",
   "execution_count": 10,
   "id": "fdb330a9",
   "metadata": {},
   "outputs": [
    {
     "name": "stdout",
     "output_type": "stream",
     "text": [
      "30230\n"
     ]
    }
   ],
   "source": [
    "cv = TfidfVectorizer(ngram_range=(1,3), min_df=25, max_df=.4)\n",
    "\n",
    "X_train_vectorized = cv.fit_transform(X_train)\n",
    "X_test_vectorized = cv.transform(X_test)\n",
    "\n",
    "print(X_train_vectorized.shape[1])"
   ]
  },
  {
   "cell_type": "code",
   "execution_count": 13,
   "id": "18126ee7",
   "metadata": {},
   "outputs": [
    {
     "name": "stdout",
     "output_type": "stream",
     "text": [
      "[LibSVM]237.36030101776123\n",
      "306.2224600315094\n",
      "Confusion Matrix\n",
      "[[3644  493]\n",
      " [ 401 3712]]\n",
      "\n",
      "\n",
      "Classification Report\n",
      "              precision    recall  f1-score   support\n",
      "\n",
      "           0       0.90      0.88      0.89      4137\n",
      "           1       0.88      0.90      0.89      4113\n",
      "\n",
      "    accuracy                           0.89      8250\n",
      "   macro avg       0.89      0.89      0.89      8250\n",
      "weighted avg       0.89      0.89      0.89      8250\n",
      "\n",
      "\n",
      "\n",
      "Other Metrics:\n",
      "Pression Score: 0.8827586206896552\n",
      "Accuracy Score: 0.8916363636363637\n",
      "Recall Score: 0.9025042548018478\n",
      "f1 Score 0.8925222409232988\n"
     ]
    }
   ],
   "source": [
    "# Perform classification with SVM, kernel=linear\n",
    "\n",
    "clf = make_pipeline(StandardScaler(with_mean=False), SVC(gamma='auto')) #kernel='linear'\n",
    "t0 = time.time()\n",
    "scaler = StandardScaler()\n",
    "clf = SVC(kernel='linear', verbose=True)\n",
    "clf.fit(X_train_vectorized[:15000], y_train[:15000])\n",
    "t1 = time.time()\n",
    "print(t1-t0)\n",
    "prediction = clf.predict(X_test_vectorized)\n",
    "t2 = time.time()\n",
    "print(t2-t0)\n",
    "print_report(y_test,prediction)"
   ]
  },
  {
   "cell_type": "code",
   "execution_count": 15,
   "id": "82b0c24a",
   "metadata": {},
   "outputs": [
    {
     "name": "stdout",
     "output_type": "stream",
     "text": [
      "38455\n"
     ]
    }
   ],
   "source": [
    "cv = TfidfVectorizer(ngram_range=(1,3), min_df=20, max_df=.4)\n",
    "\n",
    "X_train_vectorized = cv.fit_transform(X_train)\n",
    "X_test_vectorized = cv.transform(X_test)\n",
    "\n",
    "print(X_train_vectorized.shape[1])"
   ]
  },
  {
   "cell_type": "code",
   "execution_count": 16,
   "id": "92da5ce5",
   "metadata": {},
   "outputs": [
    {
     "name": "stdout",
     "output_type": "stream",
     "text": [
      "[LibSVM]363.1141290664673\n",
      "438.5624990463257\n",
      "Confusion Matrix\n",
      "[[3687  450]\n",
      " [ 395 3718]]\n",
      "\n",
      "\n",
      "Classification Report\n",
      "              precision    recall  f1-score   support\n",
      "\n",
      "           0       0.90      0.89      0.90      4137\n",
      "           1       0.89      0.90      0.90      4113\n",
      "\n",
      "    accuracy                           0.90      8250\n",
      "   macro avg       0.90      0.90      0.90      8250\n",
      "weighted avg       0.90      0.90      0.90      8250\n",
      "\n",
      "\n",
      "\n",
      "Other Metrics:\n",
      "Pression Score: 0.8920345489443378\n",
      "Accuracy Score: 0.8975757575757576\n",
      "Recall Score: 0.9039630440068077\n",
      "f1 Score 0.8979591836734694\n"
     ]
    }
   ],
   "source": [
    "# Perform classification with SVM, kernel=linear\n",
    "\n",
    "clf = make_pipeline(StandardScaler(with_mean=False), SVC(gamma='auto')) #kernel='linear'\n",
    "t0 = time.time()\n",
    "scaler = StandardScaler()\n",
    "clf = SVC(kernel='linear', verbose=True)\n",
    "clf.fit(X_train_vectorized[:17000], y_train[:17000])\n",
    "t1 = time.time()\n",
    "print(t1-t0)\n",
    "prediction = clf.predict(X_test_vectorized)\n",
    "t2 = time.time()\n",
    "print(t2-t0)\n",
    "print_report(y_test,prediction)"
   ]
  }
 ],
 "metadata": {
  "kernelspec": {
   "display_name": "Python 3",
   "language": "python",
   "name": "python3"
  },
  "language_info": {
   "codemirror_mode": {
    "name": "ipython",
    "version": 3
   },
   "file_extension": ".py",
   "mimetype": "text/x-python",
   "name": "python",
   "nbconvert_exporter": "python",
   "pygments_lexer": "ipython3",
   "version": "3.8.8"
  }
 },
 "nbformat": 4,
 "nbformat_minor": 5
}
