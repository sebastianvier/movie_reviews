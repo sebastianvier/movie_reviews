{
 "cells": [
  {
   "cell_type": "code",
   "execution_count": 3,
   "id": "0e91b9a5",
   "metadata": {},
   "outputs": [],
   "source": [
    "# Libraries\n",
    "# Python basic libraries\n",
    "import os\n",
    "import re\n",
    "from collections import Counter\n",
    "import time\n",
    "\n",
    "\n",
    "import pandas as pd\n",
    "import numpy as np\n",
    "import joblib"
   ]
  },
  {
   "cell_type": "code",
   "execution_count": 10,
   "id": "af27b41f",
   "metadata": {
    "scrolled": true
   },
   "outputs": [
    {
     "name": "stdout",
     "output_type": "stream",
     "text": [
      "amazon_review.txt\r\n",
      "\u001b[34mtest\u001b[m\u001b[m\r\n",
      "\u001b[34mtrain\u001b[m\u001b[m\r\n",
      "training.1600000.processed.noemoticon.csv\r\n"
     ]
    }
   ],
   "source": [
    "! ls data"
   ]
  },
  {
   "cell_type": "code",
   "execution_count": 13,
   "id": "f83fa91f",
   "metadata": {},
   "outputs": [],
   "source": [
    "path = \"data/\"\n",
    "data = pd.read_csv(path+'training.1600000.processed.noemoticon.csv')"
   ]
  },
  {
   "cell_type": "code",
   "execution_count": 18,
   "id": "c16fd7e7",
   "metadata": {},
   "outputs": [],
   "source": [
    "data.columns = [\"label\",\"2\",\"date\",\"query\", \"name\", \"comment\"]"
   ]
  },
  {
   "cell_type": "code",
   "execution_count": 22,
   "id": "97f06eda",
   "metadata": {},
   "outputs": [
    {
     "data": {
      "text/plain": [
       "4    800000\n",
       "0    799999\n",
       "Name: label, dtype: int64"
      ]
     },
     "execution_count": 22,
     "metadata": {},
     "output_type": "execute_result"
    }
   ],
   "source": [
    "data.label.value_counts()"
   ]
  },
  {
   "cell_type": "code",
   "execution_count": 43,
   "id": "2a174864",
   "metadata": {},
   "outputs": [
    {
     "data": {
      "text/plain": [
       "\"@chickthatbeads I'm so sorry. \""
      ]
     },
     "execution_count": 43,
     "metadata": {},
     "output_type": "execute_result"
    }
   ],
   "source": [
    "data[data.label == 0].comment.sample().iloc[0]"
   ]
  },
  {
   "cell_type": "code",
   "execution_count": 60,
   "id": "58004ae8",
   "metadata": {},
   "outputs": [],
   "source": [
    "def filter_1(x):\n",
    "    return \"#dog\" in x.lower()"
   ]
  },
  {
   "cell_type": "code",
   "execution_count": 62,
   "id": "848b712e",
   "metadata": {},
   "outputs": [],
   "source": [
    "dog = data[data.comment.apply(filter_1)]"
   ]
  },
  {
   "cell_type": "code",
   "execution_count": 103,
   "id": "df1998cd",
   "metadata": {},
   "outputs": [],
   "source": [
    "sample=dog.sample().comment"
   ]
  },
  {
   "cell_type": "code",
   "execution_count": 104,
   "id": "b29f48b1",
   "metadata": {},
   "outputs": [
    {
     "data": {
      "text/plain": [
       "'uh oh bad news I spaced getting something for mothers day!! Ideas? Ideas?  - #housewife #hair stylist #dog walker #not techy savvy/into it'"
      ]
     },
     "execution_count": 104,
     "metadata": {},
     "output_type": "execute_result"
    }
   ],
   "source": [
    "sample.iloc[0]"
   ]
  },
  {
   "cell_type": "code",
   "execution_count": 71,
   "id": "22e5aeb3",
   "metadata": {},
   "outputs": [
    {
     "name": "stdout",
     "output_type": "stream",
     "text": [
      "clf_mnb_1.sav clf_svm_1.sav cv_mnb_1.sav  cv_svm_1.sav\r\n"
     ]
    }
   ],
   "source": [
    "! ls exctracted_data/"
   ]
  },
  {
   "cell_type": "code",
   "execution_count": 73,
   "id": "81bd9c7b",
   "metadata": {},
   "outputs": [],
   "source": [
    "## importing model\n",
    "clf = joblib.load(\"exctracted_data/clf_mnb_1.sav\")\n",
    "cv = joblib.load(\"exctracted_data/cv_mnb_1.sav\")"
   ]
  },
  {
   "cell_type": "code",
   "execution_count": 105,
   "id": "23f35c72",
   "metadata": {},
   "outputs": [
    {
     "data": {
      "text/plain": [
       "array([0])"
      ]
     },
     "execution_count": 105,
     "metadata": {},
     "output_type": "execute_result"
    }
   ],
   "source": [
    "sample_transformed = cv.transform(sample)\n",
    "clf.predict(sample_transformed)"
   ]
  },
  {
   "cell_type": "code",
   "execution_count": null,
   "id": "65572221",
   "metadata": {},
   "outputs": [],
   "source": [
    "human_answer = []\n",
    "prediction = []\n",
    "label = []"
   ]
  },
  {
   "cell_type": "code",
   "execution_count": null,
   "id": "a95f5ff4",
   "metadata": {},
   "outputs": [],
   "source": [
    "result_df = "
   ]
  },
  {
   "cell_type": "code",
   "execution_count": 112,
   "id": "6b7c03fe",
   "metadata": {},
   "outputs": [
    {
     "data": {
      "text/plain": [
       "66859"
      ]
     },
     "execution_count": 112,
     "metadata": {},
     "output_type": "execute_result"
    }
   ],
   "source": [
    "np.random.randint(1,100000)"
   ]
  },
  {
   "cell_type": "code",
   "execution_count": null,
   "id": "d319e321",
   "metadata": {},
   "outputs": [],
   "source": [
    "path = 'exctracted_data/'\n",
    "name = 'result.csv'\n",
    "result_df.to_csv(path+name, index=False)"
   ]
  }
 ],
 "metadata": {
  "kernelspec": {
   "display_name": "Python 3",
   "language": "python",
   "name": "python3"
  },
  "language_info": {
   "codemirror_mode": {
    "name": "ipython",
    "version": 3
   },
   "file_extension": ".py",
   "mimetype": "text/x-python",
   "name": "python",
   "nbconvert_exporter": "python",
   "pygments_lexer": "ipython3",
   "version": "3.8.8"
  }
 },
 "nbformat": 4,
 "nbformat_minor": 5
}
