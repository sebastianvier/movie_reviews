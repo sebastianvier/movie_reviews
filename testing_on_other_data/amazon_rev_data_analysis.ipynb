{
 "cells": [
  {
   "cell_type": "code",
   "execution_count": 1,
   "id": "0421d8e4",
   "metadata": {},
   "outputs": [],
   "source": [
    "## Python in build modules:\n",
    "import os\n",
    "import re\n",
    "import csv\n",
    "\n",
    "## EDA libraries\n",
    "import numpy as np\n",
    "import pandas as pd\n",
    "import matplotlib.pyplot as plt\n",
    "%matplotlib inline\n",
    "import seaborn as sns"
   ]
  },
  {
   "cell_type": "code",
   "execution_count": 2,
   "id": "57757680",
   "metadata": {},
   "outputs": [],
   "source": [
    "with open(\"data/amazon_review.txt\", \"r\") as f:\n",
    "    amazon_lines =  list(f.readlines())"
   ]
  },
  {
   "cell_type": "code",
   "execution_count": 3,
   "id": "19860873",
   "metadata": {},
   "outputs": [],
   "source": [
    "def spliter(x):\n",
    "    return x.split(\":\", 1)\n",
    "\n",
    "title = []\n",
    "comment = []\n",
    "label = []\n",
    "for line in amazon_lines:\n",
    "    full_info = line[11:].split(\":\",1)\n",
    "    title.append(full_info[0])\n",
    "    comment.append(full_info[1])\n",
    "    if line[:10] == '__label__1':\n",
    "        label.append(0)\n",
    "    elif line[:10] == '__label__2':\n",
    "        label.append(1)\n",
    "        \n",
    "amazon_rev = pd.DataFrame({\n",
    "    \"title\"   : title,\n",
    "    \"contents\" : comment,\n",
    "    \"labels\"   : label,\n",
    "    \n",
    "})"
   ]
  },
  {
   "cell_type": "code",
   "execution_count": 6,
   "id": "7c72a989",
   "metadata": {},
   "outputs": [],
   "source": [
    "X = amazon_rev.contents\n",
    "y = amazon_rev.labels"
   ]
  },
  {
   "cell_type": "code",
   "execution_count": 9,
   "id": "d42d6d86",
   "metadata": {
    "scrolled": true
   },
   "outputs": [
    {
     "name": "stdout",
     "output_type": "stream",
     "text": [
      "Mean length of all reviews: 407.35\n",
      "Mean length in positive reviews: 391.6215061111111\n",
      "Mean length in negative reviews: 423.07039\n",
      "Ratio positive: 0.9613882560724465\n",
      "Ration negative: 1.038591849760648\n"
     ]
    }
   ],
   "source": [
    "df = pd.concat([X, y], axis=1)\n",
    "mean_length_full = np.round(df.contents.map(len).mean(),2)\n",
    "mean_lenght_pos = df[df.labels == 1].contents.map(len).mean()\n",
    "mean_length_neg = df[df.labels == 0].contents.map(len).mean()\n",
    "ratio_pos =  mean_lenght_pos / mean_length_full\n",
    "ratio_neg =  mean_length_neg / mean_length_full\n",
    "\n",
    "print(f'Mean length of all reviews: {mean_length_full}')\n",
    "print(f'Mean length in positive reviews: {mean_lenght_pos}')\n",
    "print(f'Mean length in negative reviews: {mean_length_neg}')\n",
    "print(f'Ratio positive: {ratio_pos}')\n",
    "print(f'Ration negative: {ratio_neg}')"
   ]
  },
  {
   "cell_type": "code",
   "execution_count": 10,
   "id": "5c9b1e3b",
   "metadata": {},
   "outputs": [],
   "source": [
    "def get_words(x):\n",
    "    return len(x.lower().split())"
   ]
  },
  {
   "cell_type": "code",
   "execution_count": 11,
   "id": "0dcc891c",
   "metadata": {},
   "outputs": [
    {
     "data": {
      "text/plain": [
       "71.22845666666667"
      ]
     },
     "execution_count": 11,
     "metadata": {},
     "output_type": "execute_result"
    }
   ],
   "source": [
    "df[df.labels == 1].contents.map(get_words).mean()"
   ]
  },
  {
   "cell_type": "code",
   "execution_count": 12,
   "id": "f0557862",
   "metadata": {},
   "outputs": [
    {
     "data": {
      "text/plain": [
       "77.17811222222223"
      ]
     },
     "execution_count": 12,
     "metadata": {},
     "output_type": "execute_result"
    }
   ],
   "source": [
    "df[df.labels == 0].contents.map(get_words).mean()"
   ]
  },
  {
   "cell_type": "code",
   "execution_count": 14,
   "id": "e5cf7ac9",
   "metadata": {},
   "outputs": [],
   "source": [
    "def count_paragraph(x):\n",
    "    return x.count('<br /><br />') + 1"
   ]
  },
  {
   "cell_type": "code",
   "execution_count": 15,
   "id": "df7995d2",
   "metadata": {},
   "outputs": [
    {
     "data": {
      "text/plain": [
       "1.00001"
      ]
     },
     "execution_count": 15,
     "metadata": {},
     "output_type": "execute_result"
    }
   ],
   "source": [
    "df[df.labels == 1].contents.map(count_paragraph).mean()"
   ]
  },
  {
   "cell_type": "code",
   "execution_count": 17,
   "id": "2a29f877",
   "metadata": {},
   "outputs": [
    {
     "data": {
      "text/plain": [
       "1.0000327777777778"
      ]
     },
     "execution_count": 17,
     "metadata": {},
     "output_type": "execute_result"
    }
   ],
   "source": [
    "df[df.labels == 0].contents.map(count_paragraph).mean()"
   ]
  }
 ],
 "metadata": {
  "kernelspec": {
   "display_name": "Python 3",
   "language": "python",
   "name": "python3"
  },
  "language_info": {
   "codemirror_mode": {
    "name": "ipython",
    "version": 3
   },
   "file_extension": ".py",
   "mimetype": "text/x-python",
   "name": "python",
   "nbconvert_exporter": "python",
   "pygments_lexer": "ipython3",
   "version": "3.8.8"
  }
 },
 "nbformat": 4,
 "nbformat_minor": 5
}
